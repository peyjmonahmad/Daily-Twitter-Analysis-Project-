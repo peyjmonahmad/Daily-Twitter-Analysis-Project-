{
 "cells": [
  {
   "cell_type": "markdown",
   "metadata": {},
   "source": [
    "To see how I reached this point, take a look at the TwitterStreamer Notebook below.  This highlights the steps to collect all the tweets that were eventually loaded into a Pandas dataframe."
   ]
  },
  {
   "cell_type": "markdown",
   "metadata": {},
   "source": [
    "https://github.com/peyjmonahmad/Daily-Twitter-Analysis-Project-/blob/master/TwitterStreamer.ipynb"
   ]
  },
  {
   "cell_type": "markdown",
   "metadata": {},
   "source": [
    "### Load dataframe of previously collected tweets for the days of Nov 12 to Nov 16."
   ]
  },
  {
   "cell_type": "code",
   "execution_count": 29,
   "metadata": {},
   "outputs": [],
   "source": [
    "import pickle\n",
    "with open(\"final_df.pkl\", 'rb') as picklefile: \n",
    "    df = pickle.load(picklefile)"
   ]
  },
  {
   "cell_type": "code",
   "execution_count": 30,
   "metadata": {},
   "outputs": [
    {
     "data": {
      "text/plain": [
       "18924"
      ]
     },
     "execution_count": 30,
     "metadata": {},
     "output_type": "execute_result"
    }
   ],
   "source": [
    "len(df)"
   ]
  },
  {
   "cell_type": "markdown",
   "metadata": {},
   "source": [
    "### Let's create a function to remove a lot of redundant text, such as links, @ symbols, usernames, and more."
   ]
  },
  {
   "cell_type": "code",
   "execution_count": 35,
   "metadata": {
    "collapsed": true
   },
   "outputs": [],
   "source": [
    "def standardize_text(df, text_field):\n",
    "    df[text_field] = df[text_field].str.replace(r\"http\\S+\", \"\")\n",
    "    df[text_field] = df[text_field].str.replace(r\"http\", \"\")\n",
    "    df[text_field] = df[text_field].str.replace(r\"@\\S+\", \"\")\n",
    "    df[text_field] = df[text_field].str.replace(r\"[^A-Za-z0-9(),!?@\\'\\`\\\"\\_\\n]\", \" \")\n",
    "    df[text_field] = df[text_field].str.replace(r\"@\", \"at\")\n",
    "    df[text_field] = df[text_field].str.replace(r'RT',\"\")\n",
    "    df[text_field] = df[text_field].str.replace(r'\\n',\"\")\n",
    "    df[text_field] = df[text_field].str.lower()\n",
    "    \n",
    "    return df"
   ]
  },
  {
   "cell_type": "code",
   "execution_count": 36,
   "metadata": {
    "collapsed": true
   },
   "outputs": [],
   "source": [
    "df = standardize_text(df,'text')"
   ]
  },
  {
   "cell_type": "code",
   "execution_count": 47,
   "metadata": {
    "collapsed": true
   },
   "outputs": [
    {
     "data": {
      "text/html": [
       "<div>\n",
       "<style>\n",
       "    .dataframe thead tr:only-child th {\n",
       "        text-align: right;\n",
       "    }\n",
       "\n",
       "    .dataframe thead th {\n",
       "        text-align: left;\n",
       "    }\n",
       "\n",
       "    .dataframe tbody tr th {\n",
       "        vertical-align: top;\n",
       "    }\n",
       "</style>\n",
       "<table border=\"1\" class=\"dataframe\">\n",
       "  <thead>\n",
       "    <tr style=\"text-align: right;\">\n",
       "      <th></th>\n",
       "      <th>_id</th>\n",
       "      <th>created_at</th>\n",
       "      <th>favorite_count</th>\n",
       "      <th>retweet_count</th>\n",
       "      <th>screen_name</th>\n",
       "      <th>sentiment</th>\n",
       "      <th>subjectivity</th>\n",
       "      <th>text</th>\n",
       "    </tr>\n",
       "  </thead>\n",
       "  <tbody>\n",
       "    <tr>\n",
       "      <th>0</th>\n",
       "      <td>5beb5c9988ca4501f47f3743</td>\n",
       "      <td>Tue Nov 13 23:21:56 +0000 2018</td>\n",
       "      <td>0</td>\n",
       "      <td>0</td>\n",
       "      <td>evilolive73</td>\n",
       "      <td>0.325000</td>\n",
       "      <td>0.500000</td>\n",
       "      <td>jeremymontanez  cnn  fakenews  enemyofthepe...</td>\n",
       "    </tr>\n",
       "    <tr>\n",
       "      <th>1</th>\n",
       "      <td>5beb5c9988ca4501f47f3744</td>\n",
       "      <td>Tue Nov 13 23:21:56 +0000 2018</td>\n",
       "      <td>0</td>\n",
       "      <td>0</td>\n",
       "      <td>ThoseOfUs_Wins</td>\n",
       "      <td>0.233333</td>\n",
       "      <td>0.233333</td>\n",
       "      <td>the left    they'e getting paid too much mon...</td>\n",
       "    </tr>\n",
       "    <tr>\n",
       "      <th>2</th>\n",
       "      <td>5beb5c9988ca4501f47f3745</td>\n",
       "      <td>Tue Nov 13 23:21:56 +0000 2018</td>\n",
       "      <td>0</td>\n",
       "      <td>0</td>\n",
       "      <td>jenny10434783</td>\n",
       "      <td>0.700000</td>\n",
       "      <td>0.600000</td>\n",
       "      <td>thats so good for you dear</td>\n",
       "    </tr>\n",
       "    <tr>\n",
       "      <th>3</th>\n",
       "      <td>5beb5c9988ca4501f47f3746</td>\n",
       "      <td>Tue Nov 13 23:21:56 +0000 2018</td>\n",
       "      <td>0</td>\n",
       "      <td>0</td>\n",
       "      <td>JillNensewitz</td>\n",
       "      <td>0.000000</td>\n",
       "      <td>0.000000</td>\n",
       "      <td>cnn lawsuit over acosta access to wh claimed...</td>\n",
       "    </tr>\n",
       "    <tr>\n",
       "      <th>4</th>\n",
       "      <td>5beb5c9888ca4501f47f3736</td>\n",
       "      <td>Tue Nov 13 23:21:55 +0000 2018</td>\n",
       "      <td>0</td>\n",
       "      <td>0</td>\n",
       "      <td>AnneVStrickland</td>\n",
       "      <td>0.166667</td>\n",
       "      <td>0.666667</td>\n",
       "      <td>it s obvious that his bosses at cnn support...</td>\n",
       "    </tr>\n",
       "    <tr>\n",
       "      <th>5</th>\n",
       "      <td>5beb5c9888ca4501f47f3737</td>\n",
       "      <td>Tue Nov 13 23:21:55 +0000 2018</td>\n",
       "      <td>0</td>\n",
       "      <td>0</td>\n",
       "      <td>dianne1h</td>\n",
       "      <td>0.000000</td>\n",
       "      <td>0.000000</td>\n",
       "      <td>sarah sanders responds to cnn lawsuit</td>\n",
       "    </tr>\n",
       "    <tr>\n",
       "      <th>6</th>\n",
       "      <td>5beb5c9888ca4501f47f3738</td>\n",
       "      <td>Tue Nov 13 23:21:55 +0000 2018</td>\n",
       "      <td>0</td>\n",
       "      <td>0</td>\n",
       "      <td>MDonohue</td>\n",
       "      <td>-0.233333</td>\n",
       "      <td>0.800000</td>\n",
       "      <td>sounds reasonable and therefore impossible</td>\n",
       "    </tr>\n",
       "    <tr>\n",
       "      <th>7</th>\n",
       "      <td>5beb5c9888ca4501f47f3739</td>\n",
       "      <td>Tue Nov 13 23:21:55 +0000 2018</td>\n",
       "      <td>0</td>\n",
       "      <td>0</td>\n",
       "      <td>ropebelt</td>\n",
       "      <td>-0.125000</td>\n",
       "      <td>0.606250</td>\n",
       "      <td>while the ludicrous  freedomfries jingoistic, ...</td>\n",
       "    </tr>\n",
       "    <tr>\n",
       "      <th>8</th>\n",
       "      <td>5beb5c9888ca4501f47f373a</td>\n",
       "      <td>Tue Nov 13 23:21:55 +0000 2018</td>\n",
       "      <td>0</td>\n",
       "      <td>0</td>\n",
       "      <td>jaimezle22</td>\n",
       "      <td>0.500000</td>\n",
       "      <td>1.000000</td>\n",
       "      <td>miley cyrus and liam hemsworth lost their ho...</td>\n",
       "    </tr>\n",
       "    <tr>\n",
       "      <th>9</th>\n",
       "      <td>5beb5c9888ca4501f47f373b</td>\n",
       "      <td>Tue Nov 13 23:21:55 +0000 2018</td>\n",
       "      <td>0</td>\n",
       "      <td>0</td>\n",
       "      <td>AnthemRespect</td>\n",
       "      <td>0.500000</td>\n",
       "      <td>1.000000</td>\n",
       "      <td>retweet impoantmessages(likes just stay on y...</td>\n",
       "    </tr>\n",
       "    <tr>\n",
       "      <th>10</th>\n",
       "      <td>5beb5c9888ca4501f47f373c</td>\n",
       "      <td>Tue Nov 13 23:21:55 +0000 2018</td>\n",
       "      <td>0</td>\n",
       "      <td>0</td>\n",
       "      <td>DalcurtPatton</td>\n",
       "      <td>0.000000</td>\n",
       "      <td>0.633333</td>\n",
       "      <td>i hear ya! going back to using your own mone...</td>\n",
       "    </tr>\n",
       "    <tr>\n",
       "      <th>11</th>\n",
       "      <td>5beb5c9888ca4501f47f373d</td>\n",
       "      <td>Tue Nov 13 23:21:55 +0000 2018</td>\n",
       "      <td>0</td>\n",
       "      <td>0</td>\n",
       "      <td>JenniferGassman</td>\n",
       "      <td>0.000000</td>\n",
       "      <td>0.000000</td>\n",
       "      <td>if you support   and the freedom of speech, ...</td>\n",
       "    </tr>\n",
       "    <tr>\n",
       "      <th>13</th>\n",
       "      <td>5beb5c9988ca4501f47f373f</td>\n",
       "      <td>Tue Nov 13 23:21:55 +0000 2018</td>\n",
       "      <td>0</td>\n",
       "      <td>0</td>\n",
       "      <td>MGardner9</td>\n",
       "      <td>0.000000</td>\n",
       "      <td>0.076923</td>\n",
       "      <td>replaced regular nestles cocoa (my famil...</td>\n",
       "    </tr>\n",
       "    <tr>\n",
       "      <th>14</th>\n",
       "      <td>5beb5c9988ca4501f47f3740</td>\n",
       "      <td>Tue Nov 13 23:21:55 +0000 2018</td>\n",
       "      <td>0</td>\n",
       "      <td>0</td>\n",
       "      <td>boxingfanatic1</td>\n",
       "      <td>0.250000</td>\n",
       "      <td>0.333333</td>\n",
       "      <td>pbc and fox are announcing their first 10 ca...</td>\n",
       "    </tr>\n",
       "    <tr>\n",
       "      <th>15</th>\n",
       "      <td>5beb5c9988ca4501f47f3741</td>\n",
       "      <td>Tue Nov 13 23:21:55 +0000 2018</td>\n",
       "      <td>0</td>\n",
       "      <td>0</td>\n",
       "      <td>limpy_wimpy</td>\n",
       "      <td>0.000000</td>\n",
       "      <td>0.000000</td>\n",
       "      <td>blah blah blah bet the gasoline prices won't...</td>\n",
       "    </tr>\n",
       "    <tr>\n",
       "      <th>16</th>\n",
       "      <td>5beb5c9988ca4501f47f3742</td>\n",
       "      <td>Tue Nov 13 23:21:55 +0000 2018</td>\n",
       "      <td>0</td>\n",
       "      <td>0</td>\n",
       "      <td>JoeHeim</td>\n",
       "      <td>0.500000</td>\n",
       "      <td>0.500000</td>\n",
       "      <td>trump says he watches her \"a lot \" he should...</td>\n",
       "    </tr>\n",
       "    <tr>\n",
       "      <th>17</th>\n",
       "      <td>5beb5c9788ca4501f47f3729</td>\n",
       "      <td>Tue Nov 13 23:21:54 +0000 2018</td>\n",
       "      <td>0</td>\n",
       "      <td>0</td>\n",
       "      <td>NotAConservati1</td>\n",
       "      <td>0.167857</td>\n",
       "      <td>0.403571</td>\n",
       "      <td>it says there right in the constitution  peo...</td>\n",
       "    </tr>\n",
       "    <tr>\n",
       "      <th>18</th>\n",
       "      <td>5beb5c9788ca4501f47f372a</td>\n",
       "      <td>Tue Nov 13 23:21:54 +0000 2018</td>\n",
       "      <td>0</td>\n",
       "      <td>0</td>\n",
       "      <td>P_Liz0337</td>\n",
       "      <td>0.000000</td>\n",
       "      <td>0.000000</td>\n",
       "      <td>god, please don t</td>\n",
       "    </tr>\n",
       "    <tr>\n",
       "      <th>19</th>\n",
       "      <td>5beb5c9788ca4501f47f372b</td>\n",
       "      <td>Tue Nov 13 23:21:54 +0000 2018</td>\n",
       "      <td>0</td>\n",
       "      <td>0</td>\n",
       "      <td>roman_moreno5</td>\n",
       "      <td>0.500000</td>\n",
       "      <td>0.500000</td>\n",
       "      <td>ok but where do i sign up???</td>\n",
       "    </tr>\n",
       "    <tr>\n",
       "      <th>20</th>\n",
       "      <td>5beb5c9788ca4501f47f372c</td>\n",
       "      <td>Tue Nov 13 23:21:54 +0000 2018</td>\n",
       "      <td>0</td>\n",
       "      <td>0</td>\n",
       "      <td>TruffalaSeed</td>\n",
       "      <td>0.000000</td>\n",
       "      <td>0.000000</td>\n",
       "      <td>former cia officer  trump wh helping saudi c...</td>\n",
       "    </tr>\n",
       "    <tr>\n",
       "      <th>22</th>\n",
       "      <td>5beb5c9788ca4501f47f372e</td>\n",
       "      <td>Tue Nov 13 23:21:54 +0000 2018</td>\n",
       "      <td>0</td>\n",
       "      <td>0</td>\n",
       "      <td>rosshmartin</td>\n",
       "      <td>0.250000</td>\n",
       "      <td>0.250000</td>\n",
       "      <td>cnn sues president trump and top white house...</td>\n",
       "    </tr>\n",
       "    <tr>\n",
       "      <th>23</th>\n",
       "      <td>5beb5c9788ca4501f47f372f</td>\n",
       "      <td>Tue Nov 13 23:21:54 +0000 2018</td>\n",
       "      <td>0</td>\n",
       "      <td>0</td>\n",
       "      <td>onlnsurfer</td>\n",
       "      <td>-0.250000</td>\n",
       "      <td>0.566667</td>\n",
       "      <td>with programing takeover by 2 murdock leftist ...</td>\n",
       "    </tr>\n",
       "    <tr>\n",
       "      <th>24</th>\n",
       "      <td>5beb5c9788ca4501f47f3730</td>\n",
       "      <td>Tue Nov 13 23:21:54 +0000 2018</td>\n",
       "      <td>0</td>\n",
       "      <td>0</td>\n",
       "      <td>bunnyknows</td>\n",
       "      <td>0.000000</td>\n",
       "      <td>0.000000</td>\n",
       "      <td>call in  833 599 nick</td>\n",
       "    </tr>\n",
       "    <tr>\n",
       "      <th>25</th>\n",
       "      <td>5beb5c9788ca4501f47f3731</td>\n",
       "      <td>Tue Nov 13 23:21:54 +0000 2018</td>\n",
       "      <td>0</td>\n",
       "      <td>0</td>\n",
       "      <td>CJFinNM</td>\n",
       "      <td>0.000000</td>\n",
       "      <td>0.000000</td>\n",
       "      <td>and they said mueller would never get any of...</td>\n",
       "    </tr>\n",
       "    <tr>\n",
       "      <th>26</th>\n",
       "      <td>5beb5c9788ca4501f47f3732</td>\n",
       "      <td>Tue Nov 13 23:21:54 +0000 2018</td>\n",
       "      <td>0</td>\n",
       "      <td>0</td>\n",
       "      <td>SheilaMTriolo</td>\n",
       "      <td>0.026720</td>\n",
       "      <td>0.408201</td>\n",
       "      <td>thank you  for suing  over  pass being revoked...</td>\n",
       "    </tr>\n",
       "    <tr>\n",
       "      <th>27</th>\n",
       "      <td>5beb5c9788ca4501f47f3733</td>\n",
       "      <td>Tue Nov 13 23:21:54 +0000 2018</td>\n",
       "      <td>0</td>\n",
       "      <td>0</td>\n",
       "      <td>barbaraward235</td>\n",
       "      <td>-0.116667</td>\n",
       "      <td>0.666667</td>\n",
       "      <td>(1 3) a former dhs official told politico  '...</td>\n",
       "    </tr>\n",
       "    <tr>\n",
       "      <th>28</th>\n",
       "      <td>5beb5c9888ca4501f47f3734</td>\n",
       "      <td>Tue Nov 13 23:21:54 +0000 2018</td>\n",
       "      <td>0</td>\n",
       "      <td>0</td>\n",
       "      <td>karinajones7</td>\n",
       "      <td>0.500000</td>\n",
       "      <td>0.500000</td>\n",
       "      <td>bitch, please!melania trump calls for ouster...</td>\n",
       "    </tr>\n",
       "    <tr>\n",
       "      <th>29</th>\n",
       "      <td>5beb5c9888ca4501f47f3735</td>\n",
       "      <td>Tue Nov 13 23:21:54 +0000 2018</td>\n",
       "      <td>0</td>\n",
       "      <td>0</td>\n",
       "      <td>StandFirm1111</td>\n",
       "      <td>0.000000</td>\n",
       "      <td>0.000000</td>\n",
       "      <td>when you watch the behavior of cnn's jim aco...</td>\n",
       "    </tr>\n",
       "    <tr>\n",
       "      <th>31</th>\n",
       "      <td>5beb5c9688ca4501f47f371f</td>\n",
       "      <td>Tue Nov 13 23:21:53 +0000 2018</td>\n",
       "      <td>0</td>\n",
       "      <td>0</td>\n",
       "      <td>JGonza28</td>\n",
       "      <td>0.350000</td>\n",
       "      <td>0.450000</td>\n",
       "      <td>hey, more publicity for me  and i got a cool...</td>\n",
       "    </tr>\n",
       "    <tr>\n",
       "      <th>32</th>\n",
       "      <td>5beb5c9688ca4501f47f3720</td>\n",
       "      <td>Tue Nov 13 23:21:53 +0000 2018</td>\n",
       "      <td>0</td>\n",
       "      <td>0</td>\n",
       "      <td>LolaWillFollow</td>\n",
       "      <td>0.161905</td>\n",
       "      <td>0.211905</td>\n",
       "      <td>acosta has the ability to say or write whate...</td>\n",
       "    </tr>\n",
       "    <tr>\n",
       "      <th>33</th>\n",
       "      <td>5beb5c9688ca4501f47f3721</td>\n",
       "      <td>Tue Nov 13 23:21:53 +0000 2018</td>\n",
       "      <td>0</td>\n",
       "      <td>0</td>\n",
       "      <td>Entail2</td>\n",
       "      <td>0.000000</td>\n",
       "      <td>0.000000</td>\n",
       "      <td>fox biz news  ny state kicking in  1 5b plus f...</td>\n",
       "    </tr>\n",
       "    <tr>\n",
       "      <th>34</th>\n",
       "      <td>5beb5c9688ca4501f47f3722</td>\n",
       "      <td>Tue Nov 13 23:21:53 +0000 2018</td>\n",
       "      <td>0</td>\n",
       "      <td>0</td>\n",
       "      <td>democracy_4</td>\n",
       "      <td>1.000000</td>\n",
       "      <td>0.600000</td>\n",
       "      <td>good!!</td>\n",
       "    </tr>\n",
       "    <tr>\n",
       "      <th>35</th>\n",
       "      <td>5beb5c9688ca4501f47f3723</td>\n",
       "      <td>Tue Nov 13 23:21:53 +0000 2018</td>\n",
       "      <td>0</td>\n",
       "      <td>0</td>\n",
       "      <td>Santiagojjjr</td>\n",
       "      <td>0.000000</td>\n",
       "      <td>0.125000</td>\n",
       "      <td>time to start trolling conservatives with th...</td>\n",
       "    </tr>\n",
       "    <tr>\n",
       "      <th>36</th>\n",
       "      <td>5beb5c9688ca4501f47f3724</td>\n",
       "      <td>Tue Nov 13 23:21:53 +0000 2018</td>\n",
       "      <td>0</td>\n",
       "      <td>0</td>\n",
       "      <td>PatriotAmber</td>\n",
       "      <td>0.625000</td>\n",
       "      <td>0.500000</td>\n",
       "      <td>more breaking wind from cnn!  russia now say...</td>\n",
       "    </tr>\n",
       "    <tr>\n",
       "      <th>37</th>\n",
       "      <td>5beb5c9688ca4501f47f3725</td>\n",
       "      <td>Tue Nov 13 23:21:53 +0000 2018</td>\n",
       "      <td>0</td>\n",
       "      <td>0</td>\n",
       "      <td>djnelcraze</td>\n",
       "      <td>0.250000</td>\n",
       "      <td>0.333333</td>\n",
       "      <td>i think we all should be concerned because ...</td>\n",
       "    </tr>\n",
       "    <tr>\n",
       "      <th>40</th>\n",
       "      <td>5beb5c9788ca4501f47f3728</td>\n",
       "      <td>Tue Nov 13 23:21:53 +0000 2018</td>\n",
       "      <td>0</td>\n",
       "      <td>0</td>\n",
       "      <td>Five9LeBron</td>\n",
       "      <td>0.166667</td>\n",
       "      <td>0.283333</td>\n",
       "      <td>there d be a lot less problems in the world i...</td>\n",
       "    </tr>\n",
       "    <tr>\n",
       "      <th>43</th>\n",
       "      <td>5beb5c9588ca4501f47f3710</td>\n",
       "      <td>Tue Nov 13 23:21:52 +0000 2018</td>\n",
       "      <td>0</td>\n",
       "      <td>0</td>\n",
       "      <td>jackieLbrewer</td>\n",
       "      <td>0.125000</td>\n",
       "      <td>0.166667</td>\n",
       "      <td>it shouldn t take a lawsuit from cnn to remi...</td>\n",
       "    </tr>\n",
       "    <tr>\n",
       "      <th>45</th>\n",
       "      <td>5beb5c9588ca4501f47f3712</td>\n",
       "      <td>Tue Nov 13 23:21:52 +0000 2018</td>\n",
       "      <td>0</td>\n",
       "      <td>0</td>\n",
       "      <td>billg5050</td>\n",
       "      <td>0.600000</td>\n",
       "      <td>1.000000</td>\n",
       "      <td>jim you're  spreading fakenews  you can s...</td>\n",
       "    </tr>\n",
       "    <tr>\n",
       "      <th>46</th>\n",
       "      <td>5beb5c9588ca4501f47f3713</td>\n",
       "      <td>Tue Nov 13 23:21:52 +0000 2018</td>\n",
       "      <td>0</td>\n",
       "      <td>0</td>\n",
       "      <td>Demented_RTs</td>\n",
       "      <td>0.000000</td>\n",
       "      <td>0.000000</td>\n",
       "      <td>cnn sues president trump</td>\n",
       "    </tr>\n",
       "    <tr>\n",
       "      <th>47</th>\n",
       "      <td>5beb5c9588ca4501f47f3714</td>\n",
       "      <td>Tue Nov 13 23:21:52 +0000 2018</td>\n",
       "      <td>0</td>\n",
       "      <td>0</td>\n",
       "      <td>OG_JOHNSON84</td>\n",
       "      <td>0.000000</td>\n",
       "      <td>0.000000</td>\n",
       "      <td>tim, even though your race is not official...</td>\n",
       "    </tr>\n",
       "    <tr>\n",
       "      <th>48</th>\n",
       "      <td>5beb5c9588ca4501f47f3715</td>\n",
       "      <td>Tue Nov 13 23:21:52 +0000 2018</td>\n",
       "      <td>0</td>\n",
       "      <td>0</td>\n",
       "      <td>meliodafuck</td>\n",
       "      <td>0.300000</td>\n",
       "      <td>0.950000</td>\n",
       "      <td>if only there was some kind of sign</td>\n",
       "    </tr>\n",
       "    <tr>\n",
       "      <th>50</th>\n",
       "      <td>5beb5c9588ca4501f47f3717</td>\n",
       "      <td>Tue Nov 13 23:21:52 +0000 2018</td>\n",
       "      <td>0</td>\n",
       "      <td>0</td>\n",
       "      <td>FireCrownEyes</td>\n",
       "      <td>0.068182</td>\n",
       "      <td>0.227273</td>\n",
       "      <td>citi will move 1,100 new york employees next...</td>\n",
       "    </tr>\n",
       "    <tr>\n",
       "      <th>52</th>\n",
       "      <td>5beb5c9588ca4501f47f3719</td>\n",
       "      <td>Tue Nov 13 23:21:52 +0000 2018</td>\n",
       "      <td>0</td>\n",
       "      <td>0</td>\n",
       "      <td>KaneDingo</td>\n",
       "      <td>-0.025000</td>\n",
       "      <td>0.383333</td>\n",
       "      <td>actually i would because no one is doing an...</td>\n",
       "    </tr>\n",
       "    <tr>\n",
       "      <th>53</th>\n",
       "      <td>5beb5c9588ca4501f47f371a</td>\n",
       "      <td>Tue Nov 13 23:21:52 +0000 2018</td>\n",
       "      <td>0</td>\n",
       "      <td>0</td>\n",
       "      <td>Stormtrooper821</td>\n",
       "      <td>0.309167</td>\n",
       "      <td>0.660833</td>\n",
       "      <td>\" may have been an irritant to the president...</td>\n",
       "    </tr>\n",
       "    <tr>\n",
       "      <th>54</th>\n",
       "      <td>5beb5c9588ca4501f47f371b</td>\n",
       "      <td>Tue Nov 13 23:21:52 +0000 2018</td>\n",
       "      <td>0</td>\n",
       "      <td>0</td>\n",
       "      <td>jasonfl4567</td>\n",
       "      <td>0.000000</td>\n",
       "      <td>0.000000</td>\n",
       "      <td>they re probably referring to fox news</td>\n",
       "    </tr>\n",
       "    <tr>\n",
       "      <th>55</th>\n",
       "      <td>5beb5c9588ca4501f47f371c</td>\n",
       "      <td>Tue Nov 13 23:21:52 +0000 2018</td>\n",
       "      <td>0</td>\n",
       "      <td>0</td>\n",
       "      <td>tatme123</td>\n",
       "      <td>0.125000</td>\n",
       "      <td>0.216667</td>\n",
       "      <td>an actual first amendment lawyer on cnn's la...</td>\n",
       "    </tr>\n",
       "    <tr>\n",
       "      <th>56</th>\n",
       "      <td>5beb5c9688ca4501f47f371d</td>\n",
       "      <td>Tue Nov 13 23:21:52 +0000 2018</td>\n",
       "      <td>0</td>\n",
       "      <td>0</td>\n",
       "      <td>KnieriemenSusan</td>\n",
       "      <td>-0.600000</td>\n",
       "      <td>1.000000</td>\n",
       "      <td>here's what's not gonna happen i'm not dragg...</td>\n",
       "    </tr>\n",
       "    <tr>\n",
       "      <th>57</th>\n",
       "      <td>5beb5c9488ca4501f47f3705</td>\n",
       "      <td>Tue Nov 13 23:21:51 +0000 2018</td>\n",
       "      <td>0</td>\n",
       "      <td>0</td>\n",
       "      <td>helenmag</td>\n",
       "      <td>0.656250</td>\n",
       "      <td>0.750000</td>\n",
       "      <td>with so many wonderful  amp  inspiring women...</td>\n",
       "    </tr>\n",
       "    <tr>\n",
       "      <th>58</th>\n",
       "      <td>5beb5c9488ca4501f47f3706</td>\n",
       "      <td>Tue Nov 13 23:21:51 +0000 2018</td>\n",
       "      <td>0</td>\n",
       "      <td>0</td>\n",
       "      <td>shey_og</td>\n",
       "      <td>0.000000</td>\n",
       "      <td>0.000000</td>\n",
       "      <td>mother nature like  if y all don t hurry up ...</td>\n",
       "    </tr>\n",
       "    <tr>\n",
       "      <th>60</th>\n",
       "      <td>5beb5c9488ca4501f47f3708</td>\n",
       "      <td>Tue Nov 13 23:21:51 +0000 2018</td>\n",
       "      <td>0</td>\n",
       "      <td>0</td>\n",
       "      <td>hulucthulhu</td>\n",
       "      <td>0.200000</td>\n",
       "      <td>0.200000</td>\n",
       "      <td>fox what???tucker who???            i don't ...</td>\n",
       "    </tr>\n",
       "  </tbody>\n",
       "</table>\n",
       "</div>"
      ],
      "text/plain": [
       "                         _id                      created_at  favorite_count  \\\n",
       "0   5beb5c9988ca4501f47f3743  Tue Nov 13 23:21:56 +0000 2018               0   \n",
       "1   5beb5c9988ca4501f47f3744  Tue Nov 13 23:21:56 +0000 2018               0   \n",
       "2   5beb5c9988ca4501f47f3745  Tue Nov 13 23:21:56 +0000 2018               0   \n",
       "3   5beb5c9988ca4501f47f3746  Tue Nov 13 23:21:56 +0000 2018               0   \n",
       "4   5beb5c9888ca4501f47f3736  Tue Nov 13 23:21:55 +0000 2018               0   \n",
       "5   5beb5c9888ca4501f47f3737  Tue Nov 13 23:21:55 +0000 2018               0   \n",
       "6   5beb5c9888ca4501f47f3738  Tue Nov 13 23:21:55 +0000 2018               0   \n",
       "7   5beb5c9888ca4501f47f3739  Tue Nov 13 23:21:55 +0000 2018               0   \n",
       "8   5beb5c9888ca4501f47f373a  Tue Nov 13 23:21:55 +0000 2018               0   \n",
       "9   5beb5c9888ca4501f47f373b  Tue Nov 13 23:21:55 +0000 2018               0   \n",
       "10  5beb5c9888ca4501f47f373c  Tue Nov 13 23:21:55 +0000 2018               0   \n",
       "11  5beb5c9888ca4501f47f373d  Tue Nov 13 23:21:55 +0000 2018               0   \n",
       "13  5beb5c9988ca4501f47f373f  Tue Nov 13 23:21:55 +0000 2018               0   \n",
       "14  5beb5c9988ca4501f47f3740  Tue Nov 13 23:21:55 +0000 2018               0   \n",
       "15  5beb5c9988ca4501f47f3741  Tue Nov 13 23:21:55 +0000 2018               0   \n",
       "16  5beb5c9988ca4501f47f3742  Tue Nov 13 23:21:55 +0000 2018               0   \n",
       "17  5beb5c9788ca4501f47f3729  Tue Nov 13 23:21:54 +0000 2018               0   \n",
       "18  5beb5c9788ca4501f47f372a  Tue Nov 13 23:21:54 +0000 2018               0   \n",
       "19  5beb5c9788ca4501f47f372b  Tue Nov 13 23:21:54 +0000 2018               0   \n",
       "20  5beb5c9788ca4501f47f372c  Tue Nov 13 23:21:54 +0000 2018               0   \n",
       "22  5beb5c9788ca4501f47f372e  Tue Nov 13 23:21:54 +0000 2018               0   \n",
       "23  5beb5c9788ca4501f47f372f  Tue Nov 13 23:21:54 +0000 2018               0   \n",
       "24  5beb5c9788ca4501f47f3730  Tue Nov 13 23:21:54 +0000 2018               0   \n",
       "25  5beb5c9788ca4501f47f3731  Tue Nov 13 23:21:54 +0000 2018               0   \n",
       "26  5beb5c9788ca4501f47f3732  Tue Nov 13 23:21:54 +0000 2018               0   \n",
       "27  5beb5c9788ca4501f47f3733  Tue Nov 13 23:21:54 +0000 2018               0   \n",
       "28  5beb5c9888ca4501f47f3734  Tue Nov 13 23:21:54 +0000 2018               0   \n",
       "29  5beb5c9888ca4501f47f3735  Tue Nov 13 23:21:54 +0000 2018               0   \n",
       "31  5beb5c9688ca4501f47f371f  Tue Nov 13 23:21:53 +0000 2018               0   \n",
       "32  5beb5c9688ca4501f47f3720  Tue Nov 13 23:21:53 +0000 2018               0   \n",
       "33  5beb5c9688ca4501f47f3721  Tue Nov 13 23:21:53 +0000 2018               0   \n",
       "34  5beb5c9688ca4501f47f3722  Tue Nov 13 23:21:53 +0000 2018               0   \n",
       "35  5beb5c9688ca4501f47f3723  Tue Nov 13 23:21:53 +0000 2018               0   \n",
       "36  5beb5c9688ca4501f47f3724  Tue Nov 13 23:21:53 +0000 2018               0   \n",
       "37  5beb5c9688ca4501f47f3725  Tue Nov 13 23:21:53 +0000 2018               0   \n",
       "40  5beb5c9788ca4501f47f3728  Tue Nov 13 23:21:53 +0000 2018               0   \n",
       "43  5beb5c9588ca4501f47f3710  Tue Nov 13 23:21:52 +0000 2018               0   \n",
       "45  5beb5c9588ca4501f47f3712  Tue Nov 13 23:21:52 +0000 2018               0   \n",
       "46  5beb5c9588ca4501f47f3713  Tue Nov 13 23:21:52 +0000 2018               0   \n",
       "47  5beb5c9588ca4501f47f3714  Tue Nov 13 23:21:52 +0000 2018               0   \n",
       "48  5beb5c9588ca4501f47f3715  Tue Nov 13 23:21:52 +0000 2018               0   \n",
       "50  5beb5c9588ca4501f47f3717  Tue Nov 13 23:21:52 +0000 2018               0   \n",
       "52  5beb5c9588ca4501f47f3719  Tue Nov 13 23:21:52 +0000 2018               0   \n",
       "53  5beb5c9588ca4501f47f371a  Tue Nov 13 23:21:52 +0000 2018               0   \n",
       "54  5beb5c9588ca4501f47f371b  Tue Nov 13 23:21:52 +0000 2018               0   \n",
       "55  5beb5c9588ca4501f47f371c  Tue Nov 13 23:21:52 +0000 2018               0   \n",
       "56  5beb5c9688ca4501f47f371d  Tue Nov 13 23:21:52 +0000 2018               0   \n",
       "57  5beb5c9488ca4501f47f3705  Tue Nov 13 23:21:51 +0000 2018               0   \n",
       "58  5beb5c9488ca4501f47f3706  Tue Nov 13 23:21:51 +0000 2018               0   \n",
       "60  5beb5c9488ca4501f47f3708  Tue Nov 13 23:21:51 +0000 2018               0   \n",
       "\n",
       "    retweet_count      screen_name  sentiment  subjectivity  \\\n",
       "0               0      evilolive73   0.325000      0.500000   \n",
       "1               0   ThoseOfUs_Wins   0.233333      0.233333   \n",
       "2               0    jenny10434783   0.700000      0.600000   \n",
       "3               0    JillNensewitz   0.000000      0.000000   \n",
       "4               0  AnneVStrickland   0.166667      0.666667   \n",
       "5               0         dianne1h   0.000000      0.000000   \n",
       "6               0         MDonohue  -0.233333      0.800000   \n",
       "7               0         ropebelt  -0.125000      0.606250   \n",
       "8               0       jaimezle22   0.500000      1.000000   \n",
       "9               0    AnthemRespect   0.500000      1.000000   \n",
       "10              0    DalcurtPatton   0.000000      0.633333   \n",
       "11              0  JenniferGassman   0.000000      0.000000   \n",
       "13              0        MGardner9   0.000000      0.076923   \n",
       "14              0   boxingfanatic1   0.250000      0.333333   \n",
       "15              0      limpy_wimpy   0.000000      0.000000   \n",
       "16              0          JoeHeim   0.500000      0.500000   \n",
       "17              0  NotAConservati1   0.167857      0.403571   \n",
       "18              0        P_Liz0337   0.000000      0.000000   \n",
       "19              0    roman_moreno5   0.500000      0.500000   \n",
       "20              0     TruffalaSeed   0.000000      0.000000   \n",
       "22              0      rosshmartin   0.250000      0.250000   \n",
       "23              0       onlnsurfer  -0.250000      0.566667   \n",
       "24              0       bunnyknows   0.000000      0.000000   \n",
       "25              0          CJFinNM   0.000000      0.000000   \n",
       "26              0    SheilaMTriolo   0.026720      0.408201   \n",
       "27              0   barbaraward235  -0.116667      0.666667   \n",
       "28              0     karinajones7   0.500000      0.500000   \n",
       "29              0    StandFirm1111   0.000000      0.000000   \n",
       "31              0         JGonza28   0.350000      0.450000   \n",
       "32              0   LolaWillFollow   0.161905      0.211905   \n",
       "33              0          Entail2   0.000000      0.000000   \n",
       "34              0      democracy_4   1.000000      0.600000   \n",
       "35              0     Santiagojjjr   0.000000      0.125000   \n",
       "36              0     PatriotAmber   0.625000      0.500000   \n",
       "37              0       djnelcraze   0.250000      0.333333   \n",
       "40              0      Five9LeBron   0.166667      0.283333   \n",
       "43              0    jackieLbrewer   0.125000      0.166667   \n",
       "45              0        billg5050   0.600000      1.000000   \n",
       "46              0     Demented_RTs   0.000000      0.000000   \n",
       "47              0     OG_JOHNSON84   0.000000      0.000000   \n",
       "48              0      meliodafuck   0.300000      0.950000   \n",
       "50              0    FireCrownEyes   0.068182      0.227273   \n",
       "52              0        KaneDingo  -0.025000      0.383333   \n",
       "53              0  Stormtrooper821   0.309167      0.660833   \n",
       "54              0      jasonfl4567   0.000000      0.000000   \n",
       "55              0         tatme123   0.125000      0.216667   \n",
       "56              0  KnieriemenSusan  -0.600000      1.000000   \n",
       "57              0         helenmag   0.656250      0.750000   \n",
       "58              0          shey_og   0.000000      0.000000   \n",
       "60              0      hulucthulhu   0.200000      0.200000   \n",
       "\n",
       "                                                 text  \n",
       "0      jeremymontanez  cnn  fakenews  enemyofthepe...  \n",
       "1     the left    they'e getting paid too much mon...  \n",
       "2                       thats so good for you dear     \n",
       "3     cnn lawsuit over acosta access to wh claimed...  \n",
       "4      it s obvious that his bosses at cnn support...  \n",
       "5              sarah sanders responds to cnn lawsuit   \n",
       "6         sounds reasonable and therefore impossible   \n",
       "7   while the ludicrous  freedomfries jingoistic, ...  \n",
       "8     miley cyrus and liam hemsworth lost their ho...  \n",
       "9     retweet impoantmessages(likes just stay on y...  \n",
       "10    i hear ya! going back to using your own mone...  \n",
       "11    if you support   and the freedom of speech, ...  \n",
       "13        replaced regular nestles cocoa (my famil...  \n",
       "14    pbc and fox are announcing their first 10 ca...  \n",
       "15    blah blah blah bet the gasoline prices won't...  \n",
       "16    trump says he watches her \"a lot \" he should...  \n",
       "17    it says there right in the constitution  peo...  \n",
       "18                                 god, please don t   \n",
       "19                      ok but where do i sign up???   \n",
       "20    former cia officer  trump wh helping saudi c...  \n",
       "22    cnn sues president trump and top white house...  \n",
       "23  with programing takeover by 2 murdock leftist ...  \n",
       "24                              call in  833 599 nick  \n",
       "25    and they said mueller would never get any of...  \n",
       "26  thank you  for suing  over  pass being revoked...  \n",
       "27    (1 3) a former dhs official told politico  '...  \n",
       "28    bitch, please!melania trump calls for ouster...  \n",
       "29    when you watch the behavior of cnn's jim aco...  \n",
       "31    hey, more publicity for me  and i got a cool...  \n",
       "32    acosta has the ability to say or write whate...  \n",
       "33  fox biz news  ny state kicking in  1 5b plus f...  \n",
       "34                                     good!!          \n",
       "35    time to start trolling conservatives with th...  \n",
       "36    more breaking wind from cnn!  russia now say...  \n",
       "37     i think we all should be concerned because ...  \n",
       "40   there d be a lot less problems in the world i...  \n",
       "43    it shouldn t take a lawsuit from cnn to remi...  \n",
       "45       jim you're  spreading fakenews  you can s...  \n",
       "46                          cnn sues president trump   \n",
       "47      tim, even though your race is not official...  \n",
       "48            if only there was some kind of sign      \n",
       "50    citi will move 1,100 new york employees next...  \n",
       "52     actually i would because no one is doing an...  \n",
       "53    \" may have been an irritant to the president...  \n",
       "54            they re probably referring to fox news   \n",
       "55    an actual first amendment lawyer on cnn's la...  \n",
       "56    here's what's not gonna happen i'm not dragg...  \n",
       "57    with so many wonderful  amp  inspiring women...  \n",
       "58    mother nature like  if y all don t hurry up ...  \n",
       "60    fox what???tucker who???            i don't ...  "
      ]
     },
     "execution_count": 47,
     "metadata": {},
     "output_type": "execute_result"
    }
   ],
   "source": [
    "#Let's see what the dataframe looks like now\n",
    "df.head(50)"
   ]
  },
  {
   "cell_type": "markdown",
   "metadata": {},
   "source": [
    "### We'll create a list of all sentences in the df, as well as words"
   ]
  },
  {
   "cell_type": "code",
   "execution_count": 48,
   "metadata": {
    "collapsed": true
   },
   "outputs": [],
   "source": [
    "from nltk.tokenize import sent_tokenize\n",
    "from nltk.tokenize import word_tokenize"
   ]
  },
  {
   "cell_type": "code",
   "execution_count": 49,
   "metadata": {
    "collapsed": true
   },
   "outputs": [],
   "source": [
    "sentences= list(df['text'])\n",
    "words = list(df['text'].apply(word_tokenize))"
   ]
  },
  {
   "cell_type": "code",
   "execution_count": 53,
   "metadata": {
    "collapsed": true
   },
   "outputs": [
    {
     "data": {
      "text/plain": [
       "['   jeremymontanez  cnn  fakenews  enemyofthepeople  divideandconquer     fakestreammedia you ppl nd to take a good long look in the mirror  amp  c what u promote u all have  soldursoul ur all a bunch of  smiths under lucifers  ',\n",
       " \"  the left    they'e getting paid too much money to just ignore it    never ever forget   in today's  usa many people wan \",\n",
       " ' thats so good for you dear   ',\n",
       " '  cnn lawsuit over acosta access to wh claimed daily caller s chuck ross witnessed the acosta confrontation  ross does no ',\n",
       " '   it s obvious that his bosses at cnn support what he s doing and most likely encourage it or they would hav ',\n",
       " '  sarah sanders responds to cnn lawsuit ',\n",
       " '  sounds reasonable and therefore impossible ',\n",
       " 'while the ludicrous  freedomfries jingoistic, negative nationalistic fad was popular with then bush sycophants, (future trump voter base) fussy dick  cheney demanded perrier or calistoga be sent ahead to hotels he was scheduled to visit when with his wife',\n",
       " '  miley cyrus and liam hemsworth lost their home to a california wildfire, but the famous couple have donated  500,000 as they set t ',\n",
       " '  retweet impoantmessages(likes just stay on your page, no one can see them! not even you(learn to retweetmake a differenc ']"
      ]
     },
     "execution_count": 53,
     "metadata": {},
     "output_type": "execute_result"
    }
   ],
   "source": [
    "#List of strings\n",
    "sentences[:10]"
   ]
  },
  {
   "cell_type": "code",
   "execution_count": 52,
   "metadata": {
    "collapsed": true
   },
   "outputs": [
    {
     "data": {
      "text/plain": [
       "[['jeremymontanez',\n",
       "  'cnn',\n",
       "  'fakenews',\n",
       "  'enemyofthepeople',\n",
       "  'divideandconquer',\n",
       "  'fakestreammedia',\n",
       "  'you',\n",
       "  'ppl',\n",
       "  'nd',\n",
       "  'to',\n",
       "  'take',\n",
       "  'a',\n",
       "  'good',\n",
       "  'long',\n",
       "  'look',\n",
       "  'in',\n",
       "  'the',\n",
       "  'mirror',\n",
       "  'amp',\n",
       "  'c',\n",
       "  'what',\n",
       "  'u',\n",
       "  'promote',\n",
       "  'u',\n",
       "  'all',\n",
       "  'have',\n",
       "  'soldursoul',\n",
       "  'ur',\n",
       "  'all',\n",
       "  'a',\n",
       "  'bunch',\n",
       "  'of',\n",
       "  'smiths',\n",
       "  'under',\n",
       "  'lucifers'],\n",
       " ['the',\n",
       "  'left',\n",
       "  \"they'e\",\n",
       "  'getting',\n",
       "  'paid',\n",
       "  'too',\n",
       "  'much',\n",
       "  'money',\n",
       "  'to',\n",
       "  'just',\n",
       "  'ignore',\n",
       "  'it',\n",
       "  'never',\n",
       "  'ever',\n",
       "  'forget',\n",
       "  'in',\n",
       "  'today',\n",
       "  \"'s\",\n",
       "  'usa',\n",
       "  'many',\n",
       "  'people',\n",
       "  'wan'],\n",
       " ['thats', 'so', 'good', 'for', 'you', 'dear'],\n",
       " ['cnn',\n",
       "  'lawsuit',\n",
       "  'over',\n",
       "  'acosta',\n",
       "  'access',\n",
       "  'to',\n",
       "  'wh',\n",
       "  'claimed',\n",
       "  'daily',\n",
       "  'caller',\n",
       "  's',\n",
       "  'chuck',\n",
       "  'ross',\n",
       "  'witnessed',\n",
       "  'the',\n",
       "  'acosta',\n",
       "  'confrontation',\n",
       "  'ross',\n",
       "  'does',\n",
       "  'no'],\n",
       " ['it',\n",
       "  's',\n",
       "  'obvious',\n",
       "  'that',\n",
       "  'his',\n",
       "  'bosses',\n",
       "  'at',\n",
       "  'cnn',\n",
       "  'support',\n",
       "  'what',\n",
       "  'he',\n",
       "  's',\n",
       "  'doing',\n",
       "  'and',\n",
       "  'most',\n",
       "  'likely',\n",
       "  'encourage',\n",
       "  'it',\n",
       "  'or',\n",
       "  'they',\n",
       "  'would',\n",
       "  'hav'],\n",
       " ['sarah', 'sanders', 'responds', 'to', 'cnn', 'lawsuit'],\n",
       " ['sounds', 'reasonable', 'and', 'therefore', 'impossible'],\n",
       " ['while',\n",
       "  'the',\n",
       "  'ludicrous',\n",
       "  'freedomfries',\n",
       "  'jingoistic',\n",
       "  ',',\n",
       "  'negative',\n",
       "  'nationalistic',\n",
       "  'fad',\n",
       "  'was',\n",
       "  'popular',\n",
       "  'with',\n",
       "  'then',\n",
       "  'bush',\n",
       "  'sycophants',\n",
       "  ',',\n",
       "  '(',\n",
       "  'future',\n",
       "  'trump',\n",
       "  'voter',\n",
       "  'base',\n",
       "  ')',\n",
       "  'fussy',\n",
       "  'dick',\n",
       "  'cheney',\n",
       "  'demanded',\n",
       "  'perrier',\n",
       "  'or',\n",
       "  'calistoga',\n",
       "  'be',\n",
       "  'sent',\n",
       "  'ahead',\n",
       "  'to',\n",
       "  'hotels',\n",
       "  'he',\n",
       "  'was',\n",
       "  'scheduled',\n",
       "  'to',\n",
       "  'visit',\n",
       "  'when',\n",
       "  'with',\n",
       "  'his',\n",
       "  'wife'],\n",
       " ['miley',\n",
       "  'cyrus',\n",
       "  'and',\n",
       "  'liam',\n",
       "  'hemsworth',\n",
       "  'lost',\n",
       "  'their',\n",
       "  'home',\n",
       "  'to',\n",
       "  'a',\n",
       "  'california',\n",
       "  'wildfire',\n",
       "  ',',\n",
       "  'but',\n",
       "  'the',\n",
       "  'famous',\n",
       "  'couple',\n",
       "  'have',\n",
       "  'donated',\n",
       "  '500,000',\n",
       "  'as',\n",
       "  'they',\n",
       "  'set',\n",
       "  't'],\n",
       " ['retweet',\n",
       "  'impoantmessages',\n",
       "  '(',\n",
       "  'likes',\n",
       "  'just',\n",
       "  'stay',\n",
       "  'on',\n",
       "  'your',\n",
       "  'page',\n",
       "  ',',\n",
       "  'no',\n",
       "  'one',\n",
       "  'can',\n",
       "  'see',\n",
       "  'them',\n",
       "  '!',\n",
       "  'not',\n",
       "  'even',\n",
       "  'you',\n",
       "  '(',\n",
       "  'learn',\n",
       "  'to',\n",
       "  'retweetmake',\n",
       "  'a',\n",
       "  'differenc']]"
      ]
     },
     "execution_count": 52,
     "metadata": {},
     "output_type": "execute_result"
    }
   ],
   "source": [
    "#This should be a list of lists\n",
    "words[:10]"
   ]
  },
  {
   "cell_type": "markdown",
   "metadata": {},
   "source": [
    "### After initial examination of these tweets, it seems like a very large portion of these tweets are regarding a CNN corespondent Jim Acosta, and other events that are related to him.  Let's get an idea of how much it really is."
   ]
  },
  {
   "cell_type": "code",
   "execution_count": 54,
   "metadata": {
    "collapsed": true
   },
   "outputs": [],
   "source": [
    "acosta_tweets = []\n",
    "for tweet in sentences:\n",
    "    if 'acosta' in tweet:\n",
    "        acosta_tweets.append(tweet)"
   ]
  },
  {
   "cell_type": "code",
   "execution_count": 55,
   "metadata": {},
   "outputs": [
    {
     "data": {
      "text/plain": [
       "2277"
      ]
     },
     "execution_count": 55,
     "metadata": {},
     "output_type": "execute_result"
    }
   ],
   "source": [
    "len(acosta_tweets)"
   ]
  },
  {
   "cell_type": "markdown",
   "metadata": {},
   "source": [
    "About 12% of the tweets contain the word 'acosta' alone.  A lot of the analysis will revolve around users feeling towards him and CNN.  This is due to the timing of the project, as well as the large follower count for CNN of about 41 million users."
   ]
  },
  {
   "cell_type": "markdown",
   "metadata": {},
   "source": [
    "Another thing to note is that tweets towards Fox News was expected to be a major portion of this analysis, but unfortunately, the news source of about 18 million followers decided to go on a twitter protest and thus have not tweeted since Nov 8 :("
   ]
  },
  {
   "cell_type": "markdown",
   "metadata": {},
   "source": [
    "### Let's move forward with a count vectorizer, so we can create a sparse matrix of words and tweets"
   ]
  },
  {
   "cell_type": "code",
   "execution_count": 56,
   "metadata": {
    "collapsed": true
   },
   "outputs": [],
   "source": [
    "from sklearn.decomposition import TruncatedSVD\n",
    "from sklearn.feature_extraction.text import TfidfVectorizer \n",
    "from sklearn.feature_extraction.text import CountVectorizer \n",
    "from sklearn.preprocessing import Normalizer"
   ]
  },
  {
   "cell_type": "code",
   "execution_count": 57,
   "metadata": {
    "collapsed": true
   },
   "outputs": [],
   "source": [
    "#Stop words that we will use\n",
    "from sklearn.feature_extraction.stop_words import ENGLISH_STOP_WORDS"
   ]
  },
  {
   "cell_type": "markdown",
   "metadata": {},
   "source": [
    "We're going to add some of these domain specific stop words, as we expect these words to show up constantly."
   ]
  },
  {
   "cell_type": "code",
   "execution_count": 119,
   "metadata": {
    "collapsed": true
   },
   "outputs": [],
   "source": [
    "stop_words = ENGLISH_STOP_WORDS | {'trump', 'acosta','cnn','fox','wh','white','house','white house','jim','jim acosta'}"
   ]
  },
  {
   "cell_type": "code",
   "execution_count": 120,
   "metadata": {
    "collapsed": true
   },
   "outputs": [],
   "source": [
    "#Create count vectorizer with the stop words list, and bigrams/trigrams\n",
    "vectorizer = CountVectorizer(min_df = 10, stop_words = stop_words, ngram_range=[1, 3])"
   ]
  },
  {
   "cell_type": "code",
   "execution_count": 121,
   "metadata": {},
   "outputs": [],
   "source": [
    "#Fit the model with sentences list\n",
    "dtm = vectorizer.fit_transform(sentences)"
   ]
  },
  {
   "cell_type": "markdown",
   "metadata": {},
   "source": [
    "In order to find and seperate main topics, we will implement an effective topic modeling module from Gensim called Latent Dirichlet Allocation (LDA)."
   ]
  },
  {
   "cell_type": "markdown",
   "metadata": {},
   "source": [
    "### LDA with Gensim"
   ]
  },
  {
   "cell_type": "markdown",
   "metadata": {},
   "source": [
    "https://radimrehurek.com/gensim/models/ldamodel.html"
   ]
  },
  {
   "cell_type": "code",
   "execution_count": 64,
   "metadata": {
    "collapsed": true
   },
   "outputs": [],
   "source": [
    "#Gensim material\n",
    "import gensim\n",
    "from gensim.test.utils import common_texts\n",
    "from gensim.corpora.dictionary import Dictionary\n",
    "from gensim.models import LdaModel\n",
    "import gensim.corpora as corpora\n",
    "from gensim.utils import simple_preprocess\n",
    "from gensim.models import CoherenceModel"
   ]
  },
  {
   "cell_type": "code",
   "execution_count": 65,
   "metadata": {
    "collapsed": true
   },
   "outputs": [],
   "source": [
    "# spacy for lemmatization\n",
    "import spacy\n",
    "\n",
    "# Plotting tools\n",
    "import pyLDAvis\n",
    "import pyLDAvis.gensim  # don't skip this\n",
    "import matplotlib.pyplot as plt\n",
    "%matplotlib inline\n",
    "\n",
    "# Enable logging for gensim - optional\n",
    "import logging\n",
    "logging.basicConfig(format='%(asctime)s : %(levelname)s : %(message)s', level=logging.ERROR)\n",
    "\n",
    "import warnings\n",
    "warnings.filterwarnings(\"ignore\",category=DeprecationWarning)"
   ]
  },
  {
   "cell_type": "markdown",
   "metadata": {},
   "source": [
    "#### This creates the dictionary in which we train all our tweets on."
   ]
  },
  {
   "cell_type": "code",
   "execution_count": 104,
   "metadata": {
    "collapsed": true
   },
   "outputs": [],
   "source": [
    "# Create a corpus from a list of texts\n",
    "common_dictionary = Dictionary(common_texts)\n",
    "common_corpus = [common_dictionary.doc2bow(text) for text in common_texts]"
   ]
  },
  {
   "cell_type": "code",
   "execution_count": 105,
   "metadata": {
    "collapsed": true
   },
   "outputs": [],
   "source": [
    "#Sentence to individual words function\n",
    "def sent_to_words(sentences):\n",
    "    for sentence in sentences:\n",
    "        yield(gensim.utils.simple_preprocess(str(sentence), deacc=True))"
   ]
  },
  {
   "cell_type": "code",
   "execution_count": 106,
   "metadata": {},
   "outputs": [],
   "source": [
    "words = list(sent_to_words(sentences))"
   ]
  },
  {
   "cell_type": "code",
   "execution_count": 74,
   "metadata": {},
   "outputs": [
    {
     "name": "stdout",
     "output_type": "stream",
     "text": [
      "[['jeremymontanez', 'cnn', 'fakenews', 'fakestreammedia', 'you', 'ppl', 'nd', 'to', 'take', 'good', 'long', 'look', 'in', 'the', 'mirror', 'amp', 'what', 'promote', 'all', 'have', 'soldursoul', 'ur', 'all', 'bunch', 'of', 'smiths', 'under', 'lucifers'], ['the', 'left', 'they', 'getting', 'paid', 'too', 'much', 'money', 'to', 'just', 'ignore', 'it', 'never', 'ever', 'forget', 'in', 'today', 'usa', 'many', 'people', 'wan']]\n"
     ]
    }
   ],
   "source": [
    "print(words[:2])"
   ]
  },
  {
   "cell_type": "markdown",
   "metadata": {},
   "source": [
    "This will combine some words into two or three word phrases"
   ]
  },
  {
   "cell_type": "code",
   "execution_count": 107,
   "metadata": {},
   "outputs": [
    {
     "name": "stderr",
     "output_type": "stream",
     "text": [
      "/Users/peyjmonahmad/anaconda3/lib/python3.6/site-packages/gensim/models/phrases.py:598: UserWarning: For a faster implementation, use the gensim.models.phrases.Phraser class\n",
      "  warnings.warn(\"For a faster implementation, use the gensim.models.phrases.Phraser class\")\n"
     ]
    },
    {
     "name": "stdout",
     "output_type": "stream",
     "text": [
      "['jeremymontanez', 'cnn', 'fakenews', 'fakestreammedia', 'you', 'ppl', 'nd', 'to', 'take', 'good', 'long', 'look', 'in', 'the', 'mirror', 'amp', 'what', 'promote', 'all', 'have', 'soldursoul', 'ur', 'all', 'bunch', 'of', 'smiths', 'under', 'lucifers']\n"
     ]
    }
   ],
   "source": [
    "# Build the bigram and trigram models\n",
    "bigram = gensim.models.Phrases(words, min_count=5, threshold=100)\n",
    "trigram = gensim.models.Phrases(bigram[words], threshold=100)  \n",
    "\n",
    "# Faster way to get a sentence clubbed as a trigram/bigram\n",
    "bigram_mod = gensim.models.phrases.Phraser(bigram)\n",
    "trigram_mod = gensim.models.phrases.Phraser(trigram)\n",
    "\n",
    "# See trigram example\n",
    "print(trigram_mod[bigram_mod[words[0]]])"
   ]
  },
  {
   "cell_type": "markdown",
   "metadata": {},
   "source": [
    "### Create functions to implement stop words, bigrams/trigrams and lemmatization"
   ]
  },
  {
   "cell_type": "markdown",
   "metadata": {},
   "source": [
    "For more info on lemmatization, see below."
   ]
  },
  {
   "cell_type": "markdown",
   "metadata": {},
   "source": [
    "https://nlp.stanford.edu/IR-book/html/htmledition/stemming-and-lemmatization-1.html"
   ]
  },
  {
   "cell_type": "code",
   "execution_count": 78,
   "metadata": {
    "collapsed": true
   },
   "outputs": [],
   "source": [
    "def remove_stopwords(texts):\n",
    "    return [[word for word in simple_preprocess(str(doc)) if word not in stop_words] for doc in texts]\n",
    "\n",
    "def make_bigrams(texts):\n",
    "    return [bigram_mod[doc] for doc in texts]\n",
    "\n",
    "def make_trigrams(texts):\n",
    "    return [trigram_mod[bigram_mod[doc]] for doc in texts]\n",
    "\n",
    "def lemmatization(texts, allowed_postags=['NOUN', 'ADJ', 'VERB', 'ADV']):\n",
    "    \"\"\"https://spacy.io/api/annotation\"\"\"\n",
    "    texts_out = []\n",
    "    for sent in texts:\n",
    "        doc = nlp(\" \".join(sent)) \n",
    "        texts_out.append([token.lemma_ for token in doc if token.pos_ in allowed_postags])\n",
    "    return texts_out"
   ]
  },
  {
   "cell_type": "code",
   "execution_count": 108,
   "metadata": {},
   "outputs": [
    {
     "name": "stdout",
     "output_type": "stream",
     "text": [
      "[['jeremymontanez', 'fakenew', 'fakestreammedia', 'ppl', 'nd', 'good', 'long', 'look', 'mirror', 'amp', 'promote', 'soldursoul', 'bunch', 'smith', 'lucifer']]\n"
     ]
    }
   ],
   "source": [
    "# Remove Stop Words\n",
    "words_nostops = remove_stopwords(words)\n",
    "\n",
    "# Form Bigrams\n",
    "words_bigrams = make_bigrams(words_nostops)\n",
    "\n",
    "# Initialize spacy 'en' model, keeping only tagger component (for efficiency)\n",
    "nlp = spacy.load('en', disable=['parser', 'ner'])\n",
    "\n",
    "# Do lemmatization keeping only noun, adj, vb, adv\n",
    "data_lemmatized = lemmatization(words_bigrams, allowed_postags=['NOUN', 'ADJ', 'VERB', 'ADV'])\n",
    "\n",
    "print(data_lemmatized[:1])"
   ]
  },
  {
   "cell_type": "code",
   "execution_count": 109,
   "metadata": {
    "collapsed": true
   },
   "outputs": [],
   "source": [
    "id2word = corpora.Dictionary(data_lemmatized)\n",
    "\n",
    "# Create Corpus\n",
    "texts = data_lemmatized\n",
    "\n",
    "# Term Document Frequency\n",
    "corpus = [id2word.doc2bow(text) for text in texts]"
   ]
  },
  {
   "cell_type": "code",
   "execution_count": 110,
   "metadata": {
    "collapsed": true
   },
   "outputs": [],
   "source": [
    "lda_model = gensim.models.ldamodel.LdaModel(corpus=corpus,\n",
    "                                           id2word=id2word,\n",
    "                                           num_topics=10, \n",
    "                                           random_state=100,\n",
    "                                           update_every=1,\n",
    "                                           chunksize=100,\n",
    "                                           passes=10,\n",
    "                                           alpha='auto',\n",
    "                                           per_word_topics=True)"
   ]
  },
  {
   "cell_type": "code",
   "execution_count": 111,
   "metadata": {},
   "outputs": [
    {
     "name": "stdout",
     "output_type": "stream",
     "text": [
      "[(0,\n",
      "  '0.048*\"president\" + 0.045*\"reporter\" + 0.033*\"court\" + 0.026*\"new\" + '\n",
      "  '0.026*\"man\" + 0.023*\"doesn\" + 0.023*\"break\" + 0.021*\"year\" + '\n",
      "  '0.019*\"credential\" + 0.018*\"way\"'),\n",
      " (1,\n",
      "  '0.069*\"do\" + 0.032*\"need\" + 0.031*\"let\" + 0.030*\"watch\" + 0.018*\"democrat\" '\n",
      "  '+ 0.016*\"vote\" + 0.014*\"free\" + 0.014*\"happen\" + 0.013*\"liberal\" + '\n",
      "  '0.012*\"source\"'),\n",
      " (2,\n",
      "  '0.084*\"say\" + 0.039*\"know\" + 0.030*\"don\" + 0.026*\"good\" + 0.022*\"come\" + '\n",
      "  '0.021*\"lie\" + 0.019*\"love\" + 0.017*\"day\" + 0.014*\"bad\" + 0.014*\"care\"'),\n",
      " (3,\n",
      "  '0.037*\"question\" + 0.026*\"ask\" + 0.021*\"use\" + 0.019*\"law\" + 0.019*\"answer\" '\n",
      "  '+ 0.017*\"see\" + 0.015*\"kill\" + 0.015*\"country\" + 0.015*\"dark_secret\" + '\n",
      "  '0.014*\"decision\"'),\n",
      " (4,\n",
      "  '0.017*\"story\" + 0.015*\"long\" + 0.013*\"fakenew\" + 0.013*\"hate\" + '\n",
      "  '0.013*\"raise\" + 0.012*\"company\" + 0.011*\"outlet\" + 0.010*\"police\" + '\n",
      "  '0.010*\"angel\" + 0.010*\"change\"'),\n",
      " (5,\n",
      "  '0.067*\"people\" + 0.045*\"rule\" + 0.025*\"lose\" + 0.022*\"network\" + '\n",
      "  '0.021*\"american\" + 0.020*\"great\" + 0.018*\"will\" + 0.017*\"conference\" + '\n",
      "  '0.013*\"take\" + 0.012*\"muell\"'),\n",
      " (6,\n",
      "  '0.045*\"win\" + 0.038*\"make\" + 0.029*\"restore\" + 0.019*\"isn\" + '\n",
      "  '0.017*\"amendment\" + 0.013*\"conservative\" + 0.012*\"california\" + '\n",
      "  '0.011*\"freedom\" + 0.011*\"tweet\" + 0.010*\"maszka_wd\"'),\n",
      " (7,\n",
      "  '0.045*\"time\" + 0.038*\"think\" + 0.035*\"go\" + 0.030*\"want\" + 0.028*\"tell\" + '\n",
      "  '0.027*\"journalist\" + 0.026*\"prince_order\" + 0.022*\"look\" + '\n",
      "  '0.020*\"cia_conclude\" + 0.019*\"call\"'),\n",
      " (8,\n",
      "  '0.112*\"press\" + 0.062*\"pass\" + 0.027*\"judge_order\" + 0.024*\"order\" + '\n",
      "  '0.018*\"election\" + 0.018*\"return\" + 0.015*\"federal\" + 0.013*\"world\" + '\n",
      "  '0.011*\"week\" + 0.011*\"administration\"'),\n",
      " (9,\n",
      "  '0.058*\"news\" + 0.050*\"just\" + 0.047*\"judge\" + 0.039*\"amp\" + 0.028*\"right\" + '\n",
      "  '0.021*\"medium\" + 0.020*\"saudi_crown\" + 0.020*\"try\" + 0.019*\"get\" + '\n",
      "  '0.018*\"fake\"')]\n"
     ]
    }
   ],
   "source": [
    "from pprint import pprint\n",
    "pprint(lda_model.print_topics())\n",
    "doc_lda = lda_model[corpus]"
   ]
  },
  {
   "cell_type": "markdown",
   "metadata": {},
   "source": [
    "Not bad.  We will compute the perplexity and coherence of the model.  A lower perplexity and higher coherence score means a better model."
   ]
  },
  {
   "cell_type": "code",
   "execution_count": 112,
   "metadata": {},
   "outputs": [
    {
     "name": "stdout",
     "output_type": "stream",
     "text": [
      "\n",
      "Perplexity:  -9.122810238743364\n",
      "\n",
      "Coherence Score:  0.39337628287094056\n"
     ]
    }
   ],
   "source": [
    "# Compute Perplexity\n",
    "print('\\nPerplexity: ', lda_model.log_perplexity(corpus))  # a measure of how good the model is. lower the better.\n",
    "\n",
    "# Compute Coherence Score\n",
    "coherence_model_lda = CoherenceModel(model=lda_model, texts=data_lemmatized, dictionary=id2word, coherence='c_v')\n",
    "coherence_lda = coherence_model_lda.get_coherence()\n",
    "print('\\nCoherence Score: ', coherence_lda)"
   ]
  },
  {
   "cell_type": "markdown",
   "metadata": {},
   "source": [
    "Let's try this again with less topics, and see what happens to our perplexity and coherence scores."
   ]
  },
  {
   "cell_type": "code",
   "execution_count": 114,
   "metadata": {},
   "outputs": [
    {
     "name": "stdout",
     "output_type": "stream",
     "text": [
      "[(0,\n",
      "  '0.048*\"president\" + 0.045*\"reporter\" + 0.033*\"court\" + 0.026*\"new\" + '\n",
      "  '0.026*\"man\" + 0.023*\"doesn\" + 0.023*\"break\" + 0.021*\"year\" + '\n",
      "  '0.019*\"credential\" + 0.018*\"way\"'),\n",
      " (1,\n",
      "  '0.069*\"do\" + 0.032*\"need\" + 0.031*\"let\" + 0.030*\"watch\" + 0.018*\"democrat\" '\n",
      "  '+ 0.016*\"vote\" + 0.014*\"free\" + 0.014*\"happen\" + 0.013*\"liberal\" + '\n",
      "  '0.012*\"source\"'),\n",
      " (2,\n",
      "  '0.085*\"say\" + 0.040*\"know\" + 0.030*\"don\" + 0.027*\"good\" + 0.023*\"come\" + '\n",
      "  '0.022*\"lie\" + 0.019*\"love\" + 0.017*\"day\" + 0.014*\"bad\" + 0.014*\"care\"'),\n",
      " (3,\n",
      "  '0.037*\"question\" + 0.026*\"ask\" + 0.021*\"use\" + 0.019*\"law\" + 0.019*\"answer\" '\n",
      "  '+ 0.017*\"see\" + 0.015*\"kill\" + 0.015*\"country\" + 0.015*\"dark_secret\" + '\n",
      "  '0.014*\"decision\"'),\n",
      " (4,\n",
      "  '0.017*\"story\" + 0.015*\"long\" + 0.013*\"fakenew\" + 0.013*\"hate\" + '\n",
      "  '0.013*\"raise\" + 0.012*\"company\" + 0.011*\"outlet\" + 0.010*\"police\" + '\n",
      "  '0.010*\"angel\" + 0.010*\"change\"'),\n",
      " (5,\n",
      "  '0.067*\"people\" + 0.045*\"rule\" + 0.025*\"lose\" + 0.022*\"network\" + '\n",
      "  '0.021*\"american\" + 0.020*\"great\" + 0.018*\"will\" + 0.017*\"conference\" + '\n",
      "  '0.013*\"take\" + 0.012*\"muell\"'),\n",
      " (6,\n",
      "  '0.044*\"win\" + 0.037*\"make\" + 0.028*\"restore\" + 0.018*\"isn\" + '\n",
      "  '0.017*\"amendment\" + 0.012*\"conservative\" + 0.012*\"california\" + '\n",
      "  '0.011*\"freedom\" + 0.010*\"tweet\" + 0.010*\"maszka_wd\"'),\n",
      " (7,\n",
      "  '0.045*\"time\" + 0.038*\"think\" + 0.034*\"go\" + 0.030*\"want\" + 0.028*\"tell\" + '\n",
      "  '0.027*\"journalist\" + 0.026*\"prince_order\" + 0.022*\"look\" + '\n",
      "  '0.020*\"cia_conclude\" + 0.018*\"call\"'),\n",
      " (8,\n",
      "  '0.113*\"press\" + 0.063*\"pass\" + 0.027*\"judge_order\" + 0.024*\"order\" + '\n",
      "  '0.018*\"election\" + 0.018*\"return\" + 0.015*\"federal\" + 0.013*\"world\" + '\n",
      "  '0.011*\"week\" + 0.011*\"administration\"'),\n",
      " (9,\n",
      "  '0.059*\"news\" + 0.050*\"just\" + 0.047*\"judge\" + 0.039*\"amp\" + 0.028*\"right\" + '\n",
      "  '0.021*\"medium\" + 0.020*\"saudi_crown\" + 0.020*\"try\" + 0.019*\"get\" + '\n",
      "  '0.018*\"fake\"')]\n"
     ]
    }
   ],
   "source": [
    "from pprint import pprint\n",
    "pprint(lda_model1.print_topics())\n",
    "doc_lda = lda_model1[corpus]"
   ]
  },
  {
   "cell_type": "code",
   "execution_count": 99,
   "metadata": {},
   "outputs": [
    {
     "data": {
      "text/plain": [
       "18924"
      ]
     },
     "execution_count": 99,
     "metadata": {},
     "output_type": "execute_result"
    }
   ],
   "source": [
    "len(words)"
   ]
  },
  {
   "cell_type": "markdown",
   "metadata": {},
   "source": [
    "As you can see the coherence score drops as the number of topics drops, so we will stick with 20 topics in the model."
   ]
  },
  {
   "cell_type": "code",
   "execution_count": 115,
   "metadata": {},
   "outputs": [
    {
     "data": {
      "text/html": [
       "\n",
       "<link rel=\"stylesheet\" type=\"text/css\" href=\"https://cdn.rawgit.com/bmabey/pyLDAvis/files/ldavis.v1.0.0.css\">\n",
       "\n",
       "\n",
       "<div id=\"ldavis_el535151121464522964631266247\"></div>\n",
       "<script type=\"text/javascript\">\n",
       "\n",
       "var ldavis_el535151121464522964631266247_data = {\"mdsDat\": {\"Freq\": [16.43654194850218, 12.260771874210745, 10.473413996279584, 10.154551764734572, 10.035730068177564, 9.604985085239962, 8.771962797599594, 7.936247708069478, 7.37188783106, 6.95390692612632], \"cluster\": [1, 1, 1, 1, 1, 1, 1, 1, 1, 1], \"topics\": [1, 2, 3, 4, 5, 6, 7, 8, 9, 10], \"x\": [-0.4073472655012615, 0.04924887952572282, 0.044047289137040445, 0.051029578440115915, 0.040036564713983, 0.03681346634999557, 0.054844362254605726, 0.042307500793711726, 0.04618122282414972, 0.04283840146193604], \"y\": [-0.005401044303790866, -0.3769980135646314, 0.029666368771044498, 0.03268820174335527, 0.1555654320014639, 0.04767542364537046, 0.030409282306746964, 0.033326359342180555, 0.01715832759447369, 0.035909662463787066]}, \"tinfo\": {\"Category\": [\"Default\", \"Default\", \"Default\", \"Default\", \"Default\", \"Default\", \"Default\", \"Default\", \"Default\", \"Default\", \"Default\", \"Default\", \"Default\", \"Default\", \"Default\", \"Default\", \"Default\", \"Default\", \"Default\", \"Default\", \"Default\", \"Default\", \"Default\", \"Default\", \"Default\", \"Default\", \"Default\", \"Default\", \"Default\", \"Default\", \"Topic1\", \"Topic1\", \"Topic1\", \"Topic1\", \"Topic1\", \"Topic1\", \"Topic1\", \"Topic1\", \"Topic1\", \"Topic1\", \"Topic1\", \"Topic1\", \"Topic1\", \"Topic1\", \"Topic1\", \"Topic1\", \"Topic1\", \"Topic1\", \"Topic1\", \"Topic1\", \"Topic1\", \"Topic1\", \"Topic1\", \"Topic1\", \"Topic1\", \"Topic1\", \"Topic1\", \"Topic1\", \"Topic1\", \"Topic1\", \"Topic2\", \"Topic2\", \"Topic2\", \"Topic2\", \"Topic2\", \"Topic2\", \"Topic2\", \"Topic2\", \"Topic2\", \"Topic2\", \"Topic2\", \"Topic2\", \"Topic2\", \"Topic2\", \"Topic2\", \"Topic2\", \"Topic2\", \"Topic2\", \"Topic2\", \"Topic2\", \"Topic2\", \"Topic2\", \"Topic2\", \"Topic2\", \"Topic2\", \"Topic2\", \"Topic2\", \"Topic2\", \"Topic2\", \"Topic2\", \"Topic3\", \"Topic3\", \"Topic3\", \"Topic3\", \"Topic3\", \"Topic3\", \"Topic3\", \"Topic3\", \"Topic3\", \"Topic3\", \"Topic3\", \"Topic3\", \"Topic3\", \"Topic3\", \"Topic3\", \"Topic3\", \"Topic3\", \"Topic3\", \"Topic3\", \"Topic3\", \"Topic3\", \"Topic3\", \"Topic3\", \"Topic3\", \"Topic3\", \"Topic3\", \"Topic3\", \"Topic3\", \"Topic3\", \"Topic3\", \"Topic4\", \"Topic4\", \"Topic4\", \"Topic4\", \"Topic4\", \"Topic4\", \"Topic4\", \"Topic4\", \"Topic4\", \"Topic4\", \"Topic4\", \"Topic4\", \"Topic4\", \"Topic4\", \"Topic4\", \"Topic4\", \"Topic4\", \"Topic4\", \"Topic4\", \"Topic4\", \"Topic4\", \"Topic4\", \"Topic4\", \"Topic4\", \"Topic4\", \"Topic4\", \"Topic4\", \"Topic4\", \"Topic4\", \"Topic4\", \"Topic4\", \"Topic5\", \"Topic5\", \"Topic5\", \"Topic5\", \"Topic5\", \"Topic5\", \"Topic5\", \"Topic5\", \"Topic5\", \"Topic5\", \"Topic5\", \"Topic5\", \"Topic5\", \"Topic5\", \"Topic5\", \"Topic5\", \"Topic5\", \"Topic5\", \"Topic5\", \"Topic5\", \"Topic5\", \"Topic5\", \"Topic5\", \"Topic5\", \"Topic5\", \"Topic5\", \"Topic5\", \"Topic5\", \"Topic5\", \"Topic5\", \"Topic5\", \"Topic6\", \"Topic6\", \"Topic6\", \"Topic6\", \"Topic6\", \"Topic6\", \"Topic6\", \"Topic6\", \"Topic6\", \"Topic6\", \"Topic6\", \"Topic6\", \"Topic6\", \"Topic6\", \"Topic6\", \"Topic6\", \"Topic6\", \"Topic6\", \"Topic6\", \"Topic6\", \"Topic6\", \"Topic6\", \"Topic6\", \"Topic6\", \"Topic6\", \"Topic6\", \"Topic6\", \"Topic6\", \"Topic6\", \"Topic6\", \"Topic7\", \"Topic7\", \"Topic7\", \"Topic7\", \"Topic7\", \"Topic7\", \"Topic7\", \"Topic7\", \"Topic7\", \"Topic7\", \"Topic7\", \"Topic7\", \"Topic7\", \"Topic7\", \"Topic7\", \"Topic7\", \"Topic7\", \"Topic7\", \"Topic7\", \"Topic7\", \"Topic7\", \"Topic7\", \"Topic7\", \"Topic7\", \"Topic7\", \"Topic7\", \"Topic7\", \"Topic7\", \"Topic7\", \"Topic7\", \"Topic8\", \"Topic8\", \"Topic8\", \"Topic8\", \"Topic8\", \"Topic8\", \"Topic8\", \"Topic8\", \"Topic8\", \"Topic8\", \"Topic8\", \"Topic8\", \"Topic8\", \"Topic8\", \"Topic8\", \"Topic8\", \"Topic8\", \"Topic8\", \"Topic8\", \"Topic8\", \"Topic8\", \"Topic8\", \"Topic8\", \"Topic8\", \"Topic8\", \"Topic8\", \"Topic8\", \"Topic8\", \"Topic8\", \"Topic8\", \"Topic9\", \"Topic9\", \"Topic9\", \"Topic9\", \"Topic9\", \"Topic9\", \"Topic9\", \"Topic9\", \"Topic9\", \"Topic9\", \"Topic9\", \"Topic9\", \"Topic9\", \"Topic9\", \"Topic9\", \"Topic9\", \"Topic9\", \"Topic9\", \"Topic9\", \"Topic9\", \"Topic9\", \"Topic9\", \"Topic9\", \"Topic9\", \"Topic9\", \"Topic9\", \"Topic9\", \"Topic9\", \"Topic9\", \"Topic9\", \"Topic9\", \"Topic10\", \"Topic10\", \"Topic10\", \"Topic10\", \"Topic10\", \"Topic10\", \"Topic10\", \"Topic10\", \"Topic10\", \"Topic10\", \"Topic10\", \"Topic10\", \"Topic10\", \"Topic10\", \"Topic10\", \"Topic10\", \"Topic10\", \"Topic10\", \"Topic10\", \"Topic10\", \"Topic10\", \"Topic10\", \"Topic10\", \"Topic10\", \"Topic10\", \"Topic10\", \"Topic10\", \"Topic10\", \"Topic10\", \"Topic10\"], \"Freq\": [1700.0, 1559.0, 1441.0, 1084.0, 1232.0, 945.0, 886.0, 1160.0, 959.0, 699.0, 689.0, 655.0, 728.0, 593.0, 542.0, 586.0, 701.0, 529.0, 456.0, 548.0, 506.0, 485.0, 486.0, 477.0, 409.0, 461.0, 489.0, 432.0, 413.0, 527.0, 1440.808130884873, 1231.5363700454436, 1159.2896531127608, 958.9413813336081, 701.0070623901031, 527.0846848659274, 500.06277257704164, 493.0401052632114, 474.0867041231823, 445.88644832186804, 416.2427574475609, 364.6205096983846, 334.9542745157094, 323.37530566465944, 308.7068675610325, 280.82758001096147, 259.8585148501614, 241.05017642236112, 236.63552598424295, 223.70223892742985, 213.52117855527584, 202.33542116858297, 201.37094891692976, 191.3373601324897, 181.43421944728732, 169.42167606035434, 166.71927506336132, 160.8728305294751, 142.30434233538546, 141.88964692890264, 1558.9891552543256, 727.8047150908685, 548.1384937487928, 488.8389271779243, 412.0356141318849, 396.0840031089452, 350.1312951340242, 315.47482353304827, 258.6821347188187, 249.61130904616985, 246.76878238487626, 246.08625615677917, 246.0251102805009, 236.48012894464253, 229.23563224029152, 226.06068935846602, 210.2515571687214, 199.06401120083788, 189.0309117575804, 184.77133457207654, 172.50120052078378, 171.35304741312, 162.72214190321108, 159.6221525856986, 158.10698665933873, 128.5005866826362, 128.0518712117646, 125.51516850506803, 119.63276669484145, 117.20453085753842, 1083.6679072851402, 506.0657051399842, 485.1776465980651, 476.2781515917489, 279.289920380482, 252.81593358508198, 224.7361176358167, 222.2746717572765, 202.99662857661025, 188.41254301848969, 186.12443550268813, 174.46221988195066, 158.01052766799648, 154.767876737151, 152.71444653865098, 151.44219201556226, 151.08690786015828, 148.1473530326186, 136.82811264872103, 129.44539074226756, 115.45759003327471, 110.79692377579534, 109.07899239462544, 108.27263337687742, 108.20981088917019, 107.6541983497131, 100.17375420554247, 98.85072172126507, 91.02198512245005, 90.80948001585558, 688.9988606399357, 585.4671336467976, 528.5031823486265, 460.2473942234271, 431.50411996506324, 413.95390516540675, 403.8592739677434, 341.1678588104113, 312.15374429963555, 284.1035920880111, 270.960220772783, 264.763735309198, 229.55995689761494, 226.35234130124553, 208.4706042470987, 206.7318035604603, 183.65518298785335, 170.05265926027832, 163.53739746847856, 149.7117132216431, 144.4130109293854, 122.42228631042296, 100.47746126731099, 94.77816661728191, 93.47231442751887, 84.93577658854902, 83.86729769393806, 82.41282373142438, 80.44422609910718, 79.56514170007021, 81.63819184218423, 1699.8778369949775, 944.3217789334439, 413.1316931182148, 360.02008497022365, 273.85649112425665, 267.18914808494765, 231.59722888371923, 203.64648953522067, 166.1800847146919, 163.31239560920594, 140.33490804468843, 133.52752256787255, 132.2363312940593, 130.9310654034112, 123.1957122894393, 120.57285114379575, 120.28346294705419, 113.78822432240185, 112.79848319195763, 109.53003344671586, 109.20648615491609, 101.60074618737644, 98.64998869333115, 97.902929143662, 88.8760680769981, 87.72484183029911, 85.43089040546941, 83.42306186627557, 83.00409570964388, 82.35158943587133, 82.70886654691584, 698.6841515267421, 654.5870091850269, 484.2759065844661, 377.6446583123787, 373.7163319056843, 331.4643272682848, 326.76400546214575, 308.83275206867194, 271.15978069131836, 265.998336105319, 234.7032240506713, 225.79416005995898, 218.2796718799901, 202.59912655353452, 178.98233112150172, 165.89816083022262, 160.21397931400432, 157.59312834721396, 134.31665208760433, 128.61221091197643, 120.24018954183747, 116.09564784712204, 109.25258417753392, 105.43728215400199, 104.71926312108279, 99.56049916821016, 98.51348293343548, 95.46480830783578, 93.6529899303483, 90.71737336420662, 885.6932769168645, 592.9720723391316, 326.00303528485324, 286.6803837513247, 278.0147558208821, 265.66873891185224, 239.55503299707138, 224.12196441085845, 173.26352185821247, 165.0971313531955, 134.07594898048774, 132.22996013355447, 128.7700766036583, 124.09612137018202, 121.01180079150427, 98.46099741059965, 98.01264822376525, 89.5625925415603, 85.34572724035999, 83.89667649623524, 82.92848977385283, 80.73985878471125, 79.80940304933705, 73.17328271336437, 72.03410708050683, 69.13013127002176, 69.16244311787865, 68.77553134516852, 65.49254795471958, 64.1144442605056, 541.7226365190901, 455.257172371184, 346.5187607768091, 226.30651920957325, 204.78423672185744, 153.12158301751597, 142.28468965769116, 134.30131150255883, 126.43948622113719, 121.63938872645232, 120.29604081512225, 116.29062820552741, 109.17855520676285, 104.16370057461371, 100.45021075337922, 98.6956577400218, 96.48744905597734, 93.9943296072368, 92.04746906233713, 91.94927290554632, 87.14172374444361, 84.87849850012519, 83.83168127842059, 83.69353328203776, 80.55084444746915, 80.07339241710868, 78.49915414878832, 78.31823837315147, 76.63416176271832, 76.30931585372467, 409.15070170210856, 286.0924764263453, 232.2245335343891, 211.96072518561013, 207.9025129482702, 188.82935172630835, 167.62506200153365, 162.10136872597914, 161.43002463251355, 156.04205793367447, 150.08126470303353, 147.92557142673837, 144.90581017546086, 135.65700754001875, 126.36777021219899, 122.14445912480052, 112.70758502706178, 106.4840541749957, 102.1549780906595, 101.74574095734698, 101.09701796000064, 97.22317592700001, 88.54335382347112, 75.71550711423495, 74.89324371062287, 72.17755424086404, 64.95914489340947, 63.78708159669946, 63.010722062726046, 59.97151886846306, 78.31003207943738, 182.27756556170132, 159.49242125094779, 136.19178842619905, 135.44144967655825, 131.8057425506928, 122.78522506766754, 118.49202310409792, 104.75697564453182, 101.64883064221804, 104.10147031922631, 96.33768100636678, 93.44297947638965, 92.20203087024845, 92.16514687077951, 86.84689740636838, 85.33624308755833, 85.18917521024694, 84.1782688514546, 78.16837125316263, 77.64950349384327, 74.09215292369785, 73.56430310104933, 73.36773147405408, 67.08077964548357, 65.52747271649969, 62.97797596896636, 62.87691556587358, 62.48962869519381, 61.66887681065991, 60.5819203651783], \"Term\": [\"press\", \"say\", \"news\", \"do\", \"just\", \"pass\", \"people\", \"judge\", \"amp\", \"president\", \"time\", \"reporter\", \"know\", \"rule\", \"win\", \"think\", \"right\", \"go\", \"make\", \"don\", \"need\", \"court\", \"let\", \"watch\", \"question\", \"want\", \"good\", \"tell\", \"judge_order\", \"medium\", \"news\", \"just\", \"judge\", \"amp\", \"right\", \"medium\", \"saudi_crown\", \"try\", \"get\", \"fake\", \"work\", \"report\", \"support\", \"cia\", \"thing\", \"leave\", \"woman\", \"lawsuit\", \"guy\", \"today\", \"sure\", \"republican\", \"journalist_death\", \"continue\", \"pay\", \"ve\", \"hope\", \"official_say\", \"hold\", \"video\", \"say\", \"know\", \"don\", \"good\", \"come\", \"lie\", \"love\", \"day\", \"bad\", \"care\", \"start\", \"real\", \"america\", \"face\", \"believe\", \"read\", \"really\", \"stop\", \"child\", \"case\", \"big\", \"give\", \"miss\", \"feel\", \"washington\", \"cnnpolitic\", \"gop\", \"constitution\", \"wait\", \"turn\", \"do\", \"need\", \"let\", \"watch\", \"democrat\", \"vote\", \"free\", \"happen\", \"liberal\", \"source\", \"fact\", \"list\", \"not\", \"hard\", \"side\", \"job\", \"access\", \"party\", \"remember\", \"state\", \"keep\", \"organization\", \"bonus\", \"person\", \"rating\", \"government\", \"suck\", \"claim\", \"activist\", \"moment\", \"time\", \"think\", \"go\", \"want\", \"tell\", \"journalist\", \"prince_order\", \"look\", \"cia_conclude\", \"call\", \"didn\", \"truth\", \"jamal_khashoggi\", \"politic\", \"obama\", \"write\", \"act\", \"death_official\", \"talk\", \"reason\", \"stand\", \"stupid\", \"journalism\", \"opinion\", \"mind\", \"check\", \"fire\", \"push\", \"idea\", \"respect\", \"cia_determin\", \"press\", \"pass\", \"judge_order\", \"order\", \"election\", \"return\", \"federal\", \"world\", \"week\", \"administration\", \"issue\", \"agree\", \"reinstate\", \"joke\", \"georgia\", \"race\", \"business\", \"stacey_abram\", \"governor\", \"bring\", \"send\", \"problem\", \"money\", \"friday\", \"anti\", \"school\", \"immediately_return\", \"host\", \"charge\", \"voter\", \"democracy_fail\", \"president\", \"reporter\", \"court\", \"new\", \"man\", \"doesn\", \"break\", \"year\", \"credential\", \"way\", \"caravan\", \"thank\", \"saudi\", \"live\", \"follow\", \"run\", \"appoint\", \"sue\", \"control\", \"pre\", \"donald\", \"lead\", \"foxnew\", \"democracy\", \"hand\", \"little\", \"statement\", \"victory\", \"realize\", \"jimacosta\", \"people\", \"rule\", \"lose\", \"network\", \"american\", \"great\", \"will\", \"conference\", \"take\", \"muell\", \"wonder\", \"maybe\", \"power\", \"allow\", \"life\", \"protect\", \"view\", \"immediately\", \"away\", \"clinton\", \"sad\", \"shocking\", \"eye\", \"exactly\", \"fbi\", \"interview\", \"russian\", \"warn\", \"dead\", \"finally\", \"win\", \"make\", \"restore\", \"isn\", \"amendment\", \"conservative\", \"california\", \"freedom\", \"tweet\", \"maszka_wd\", \"investigation\", \"employee\", \"home\", \"rig\", \"alex_jone\", \"color\", \"favor\", \"fight\", \"free_speech\", \"attack\", \"set\", \"end\", \"actually\", \"potus\", \"threaten\", \"drop\", \"king\", \"likely\", \"midterm\", \"seat\", \"question\", \"ask\", \"use\", \"law\", \"answer\", \"see\", \"kill\", \"country\", \"dark_secret\", \"decision\", \"mean\", \"word\", \"hear\", \"mark\", \"correspondent\", \"crime\", \"war\", \"ass\", \"hell\", \"family\", \"fuck\", \"racist\", \"mic\", \"debate\", \"aren\", \"rude\", \"article\", \"human\", \"marry\", \"liar\", \"status\", \"story\", \"long\", \"fakenew\", \"hate\", \"raise\", \"company\", \"outlet\", \"police\", \"change\", \"angel\", \"group\", \"decorum\", \"deserve\", \"point\", \"washington_post\", \"post\", \"sound\", \"leader\", \"cost\", \"pick\", \"better\", \"low\", \"play\", \"tv\", \"second\", \"close\", \"pretend\", \"refugee\", \"florida\", \"ceo\"], \"Total\": [1700.0, 1559.0, 1441.0, 1084.0, 1232.0, 945.0, 886.0, 1160.0, 959.0, 699.0, 689.0, 655.0, 728.0, 593.0, 542.0, 586.0, 701.0, 529.0, 456.0, 548.0, 506.0, 485.0, 486.0, 477.0, 409.0, 461.0, 489.0, 432.0, 413.0, 527.0, 1441.6336925906464, 1232.361984359645, 1160.1152086587797, 959.7669469729143, 701.8326587761941, 527.9102914660779, 500.88835563914154, 493.8657394864352, 474.9123030522651, 446.7119772318321, 417.0683340714992, 365.4460811812628, 335.77988363913624, 324.2009213429867, 309.5324679725735, 281.6531721739904, 260.68410189206395, 241.87571643018094, 237.46109249279849, 224.52781451310227, 214.34683148018686, 203.16100994528097, 202.19812594737343, 192.16293709200184, 182.25980092587173, 170.24724961212672, 167.5449208460349, 161.701615237338, 143.12992282391116, 142.7152034273575, 1559.8220906276497, 728.6376956311368, 548.9714052674914, 489.67183142753663, 412.86856539564036, 396.9169357498884, 350.9642516668149, 316.3077337838284, 259.51507175537876, 250.4443068605329, 247.60181475066594, 246.91919614821575, 246.85811777373561, 237.31318367095068, 230.068523398464, 226.8936566819571, 211.08444971815337, 199.89692562241117, 189.86391322461293, 185.60426332386194, 173.33413128444994, 172.1859845667905, 163.5551409790781, 160.455134328743, 158.94003727399075, 129.33352154407996, 128.8848683986068, 126.34813070825862, 120.46569116437269, 118.03745078460854, 1084.497466199283, 506.89529433121254, 486.0072101616276, 477.10771172969737, 280.11947183199277, 253.64546139547517, 225.5656835435398, 223.10431538427534, 203.8261719988444, 189.24221693027812, 186.95400279444803, 175.29192160529573, 158.84009502449837, 155.5974243516272, 153.5440385607695, 152.27174671191267, 151.91644918016476, 148.97696697957858, 137.65770681696313, 130.27499747936218, 116.28732915435558, 111.62663563813447, 109.9086184422844, 109.10223141711212, 109.03939816928111, 108.48378374188415, 101.00335573441299, 99.68021137831887, 91.85171757213601, 91.639306393906, 689.8281211228398, 586.2963229663318, 529.3323839383836, 461.07661369340184, 432.33333082733225, 414.7830864700787, 404.68984735804605, 341.99705160402385, 312.9838682206412, 284.93279054559133, 271.78948105692064, 265.59298733016584, 230.38910197324995, 227.1815436277619, 209.29981719492775, 207.56105643191316, 184.48439370335365, 170.88406250800617, 164.3665768553633, 150.54105677113176, 145.24222310733865, 123.25151558125164, 101.30675025461991, 95.60738048329543, 94.30151927451342, 85.76496194079076, 84.6964994303478, 83.24211318809839, 81.2734484101034, 80.39434605074486, 82.68503543548307, 1700.712901795524, 945.1568258159755, 413.9667153322822, 360.85515801103645, 274.69164385234905, 268.0241556380663, 232.4322386592079, 204.48163038191365, 167.0152142701552, 164.1474529626721, 141.17003972339856, 134.36265968436297, 133.07133386035738, 131.766179220848, 124.03071737611657, 121.4078974363455, 121.1186562467278, 114.62332016229809, 113.63349137145954, 110.36535838449932, 110.04160828371114, 102.43590058609112, 99.48517162320691, 98.73796931540937, 89.71127764938184, 88.56000581773202, 86.2785176082542, 84.25821601659666, 83.83928093094336, 83.18677363542085, 83.54772687113288, 699.5119438600605, 655.4147894888904, 485.1036992605334, 378.4724796124731, 374.5441755958547, 332.29215241383065, 327.59180861777145, 309.66061410230543, 271.9875485894402, 266.8261206626662, 235.53111834789786, 226.62195758702455, 219.10762817527697, 203.42694745741227, 179.81017806996272, 166.72606374130862, 161.0417698163791, 158.42096203883696, 135.14466467622609, 129.44014969784047, 121.06801445451217, 116.92355980593605, 110.08042224220422, 106.26511423304406, 105.54705677509327, 100.38835912481899, 99.3412262358808, 96.29253573499784, 94.48088744997645, 91.54518570280263, 886.5220603439967, 593.8008394548073, 326.8318079351493, 287.50914377873113, 278.84355206114185, 266.497513148379, 240.38383460851577, 224.95079257014902, 174.09227207893161, 165.9259655031006, 134.90484320849563, 133.05876000522736, 129.5988632902034, 124.9248700620673, 121.84059650249738, 99.2897872543391, 98.84157558888926, 90.39165055522811, 86.17462529996018, 84.7259792471231, 83.75728351344625, 81.56904183856193, 80.63847588367456, 74.0021071019336, 72.86294800070259, 69.9588636680685, 69.99174755809882, 69.60483415976744, 66.32133582691203, 64.94330714237748, 542.5533469226955, 456.08789657865043, 347.34945254964214, 227.13721213809205, 205.61496849408366, 153.95235089091952, 143.11537075913625, 135.13198021594528, 127.2701981372079, 122.47044566609921, 121.12686646216223, 117.12144555571845, 110.0091939043327, 104.99452716412424, 101.28088544323532, 99.52655110105033, 97.31811003568845, 94.82508647041924, 92.87810467450998, 92.77995716185193, 87.9723564319549, 85.70917422953849, 84.66235880693536, 84.52429088544469, 81.3814680975505, 80.90435183821285, 79.32994941052375, 79.14911910328351, 77.46540523882895, 77.13995449533867, 409.9853051492783, 286.92709741344953, 233.05922235757566, 212.79540875471207, 208.73712871822062, 189.66399063322413, 168.45972889674132, 162.9360445718362, 162.26478843773015, 156.87684741698234, 150.91592682641314, 148.7602802671627, 145.7405223866896, 136.49189884139713, 127.20245134592538, 122.97928045269185, 113.54226502601398, 107.3188074586266, 102.98981178616062, 102.5804581459285, 101.93164945863684, 98.05783728301489, 89.37804649425803, 76.550586202522, 75.7279886702566, 73.01219401535698, 65.79388415520432, 64.62175241661936, 63.84604866706104, 60.806240104850815, 102.05957151500857, 183.1116276377231, 160.32660798614458, 137.0258714624336, 136.2755855666295, 132.6398983846444, 123.61941843030489, 119.32625489277858, 105.59105226774773, 102.48293354784474, 104.96514134966274, 97.17177599221506, 94.27700410967343, 93.03615220468156, 92.9992285942311, 87.68097565973896, 86.17034757429082, 86.0232860810637, 85.01248669471391, 79.00297033603519, 78.48358136240358, 74.92649459645367, 74.39883837749548, 74.20183606253403, 67.91485827972123, 66.36156861870252, 63.812035658663355, 63.71170707660284, 63.324449239709736, 62.502998007298665, 61.416130187257124], \"loglift\": [30.0, 29.0, 28.0, 27.0, 26.0, 25.0, 24.0, 23.0, 22.0, 21.0, 20.0, 19.0, 18.0, 17.0, 16.0, 15.0, 14.0, 13.0, 12.0, 11.0, 10.0, 9.0, 8.0, 7.0, 6.0, 5.0, 4.0, 3.0, 2.0, 1.0, 1.8051, 1.805, 1.805, 1.8048, 1.8045, 1.8041, 1.804, 1.804, 1.8039, 1.8038, 1.8037, 1.8034, 1.8032, 1.8031, 1.803, 1.8027, 1.8025, 1.8022, 1.8022, 1.802, 1.8018, 1.8016, 1.8016, 1.8014, 1.8011, 1.8008, 1.8007, 1.8005, 1.7999, 1.7999, 2.0982, 2.0976, 2.0972, 2.0971, 2.0967, 2.0967, 2.0964, 2.0961, 2.0956, 2.0954, 2.0954, 2.0954, 2.0954, 2.0952, 2.0951, 2.0951, 2.0948, 2.0946, 2.0944, 2.0943, 2.0939, 2.0939, 2.0937, 2.0936, 2.0935, 2.0923, 2.0923, 2.0922, 2.0918, 2.0917, 2.2556, 2.2547, 2.2546, 2.2546, 2.2534, 2.2531, 2.2526, 2.2526, 2.2523, 2.2519, 2.2519, 2.2516, 2.2511, 2.251, 2.2509, 2.2509, 2.2509, 2.2507, 2.2503, 2.2499, 2.2492, 2.2489, 2.2488, 2.2487, 2.2487, 2.2487, 2.2481, 2.248, 2.2473, 2.2472, 2.286, 2.2858, 2.2857, 2.2854, 2.2853, 2.2852, 2.2852, 2.2848, 2.2846, 2.2843, 2.2842, 2.2841, 2.2836, 2.2836, 2.2833, 2.2832, 2.2827, 2.2824, 2.2822, 2.2817, 2.2815, 2.2805, 2.279, 2.2785, 2.2784, 2.2775, 2.2774, 2.2772, 2.277, 2.2769, 2.2745, 2.2985, 2.2981, 2.297, 2.2967, 2.296, 2.2959, 2.2954, 2.2949, 2.294, 2.2939, 2.2931, 2.2928, 2.2927, 2.2927, 2.2923, 2.2921, 2.2921, 2.2917, 2.2916, 2.2914, 2.2914, 2.2908, 2.2906, 2.2905, 2.2897, 2.2895, 2.2891, 2.2891, 2.289, 2.2889, 2.2889, 2.3417, 2.3416, 2.3412, 2.3407, 2.3407, 2.3404, 2.3404, 2.3402, 2.3398, 2.3398, 2.3394, 2.3392, 2.3391, 2.3388, 2.3383, 2.3379, 2.3377, 2.3376, 2.3367, 2.3365, 2.336, 2.3358, 2.3353, 2.3351, 2.335, 2.3346, 2.3345, 2.3343, 2.3341, 2.3338, 2.4327, 2.4322, 2.4311, 2.4307, 2.4306, 2.4305, 2.4302, 2.4299, 2.4288, 2.4286, 2.4274, 2.4274, 2.4272, 2.427, 2.4268, 2.4252, 2.4252, 2.4244, 2.4239, 2.4238, 2.4237, 2.4234, 2.4233, 2.4223, 2.4222, 2.4217, 2.4217, 2.4216, 2.421, 2.4208, 2.5322, 2.5319, 2.5313, 2.5301, 2.5297, 2.5283, 2.5279, 2.5276, 2.5272, 2.5269, 2.5268, 2.5266, 2.5262, 2.5258, 2.5255, 2.5253, 2.5252, 2.5249, 2.5247, 2.5247, 2.5242, 2.524, 2.5239, 2.5239, 2.5235, 2.5234, 2.5232, 2.5232, 2.5229, 2.5229, 2.6055, 2.6046, 2.6039, 2.6036, 2.6035, 2.6031, 2.6025, 2.6024, 2.6023, 2.6022, 2.602, 2.6019, 2.6018, 2.6014, 2.6009, 2.6007, 2.6001, 2.5997, 2.5994, 2.5993, 2.5993, 2.5989, 2.5981, 2.5965, 2.5964, 2.596, 2.5947, 2.5945, 2.5943, 2.5937, 2.3426, 2.6613, 2.6606, 2.6598, 2.6597, 2.6596, 2.6591, 2.6589, 2.6579, 2.6577, 2.6576, 2.6572, 2.657, 2.6569, 2.6569, 2.6563, 2.6561, 2.6561, 2.656, 2.6552, 2.6552, 2.6547, 2.6546, 2.6546, 2.6535, 2.6532, 2.6527, 2.6527, 2.6526, 2.6524, 2.6522], \"logprob\": [30.0, 29.0, 28.0, 27.0, 26.0, 25.0, 24.0, 23.0, 22.0, 21.0, 20.0, 19.0, 18.0, 17.0, 16.0, 15.0, 14.0, 13.0, 12.0, 11.0, 10.0, 9.0, 8.0, 7.0, 6.0, 5.0, 4.0, 3.0, 2.0, 1.0, -2.8436999320983887, -3.0006000995635986, -3.0611000061035156, -3.2507998943328857, -3.5641000270843506, -3.849299907684326, -3.901900053024292, -3.9159998893737793, -3.955199956893921, -4.016600131988525, -4.085400104522705, -4.217800140380859, -4.302599906921387, -4.337800025939941, -4.384200096130371, -4.478899955749512, -4.55649995803833, -4.6315999031066895, -4.650100231170654, -4.706299781799316, -4.752900123596191, -4.806700229644775, -4.811500072479248, -4.862599849700928, -4.9156999588012695, -4.9842000007629395, -5.00029993057251, -5.035999774932861, -5.158699989318848, -5.161600112915039, -2.4716999530792236, -3.2335000038146973, -3.5169999599456787, -3.631500005722046, -3.8024001121520996, -3.841900110244751, -3.9651999473571777, -4.069499969482422, -4.267899990081787, -4.303599834442139, -4.315100193023682, -4.317800045013428, -4.3180999755859375, -4.357699871063232, -4.388800144195557, -4.402699947357178, -4.475200176239014, -4.529900074005127, -4.581600189208984, -4.604400157928467, -4.673099994659424, -4.679800033569336, -4.731500148773193, -4.750699996948242, -4.760300159454346, -4.967599868774414, -4.971099853515625, -4.991099834442139, -5.039100170135498, -5.059599876403809, -2.6779000759124756, -3.439300060272217, -3.4814999103546143, -3.5, -4.033699989318848, -4.133299827575684, -4.250999927520752, -4.2621002197265625, -4.352799892425537, -4.427299976348877, -4.439599990844727, -4.504300117492676, -4.603300094604492, -4.624000072479248, -4.637400150299072, -4.6458001136779785, -4.648099899291992, -4.667799949645996, -4.747200012207031, -4.802700042724609, -4.917099952697754, -4.9583001136779785, -4.973899841308594, -4.981299877166748, -4.981900215148926, -4.986999988555908, -5.059100151062012, -5.072400093078613, -5.154900074005127, -5.157199859619141, -3.0998001098632812, -3.2625999450683594, -3.365000009536743, -3.5032999515533447, -3.5678000450134277, -3.609299898147583, -3.634000062942505, -3.8027000427246094, -3.8915998935699463, -3.9856998920440674, -4.033100128173828, -4.05620002746582, -4.19890022277832, -4.2129998207092285, -4.295199871063232, -4.303599834442139, -4.421999931335449, -4.498899936676025, -4.538000106811523, -4.626299858093262, -4.662399768829346, -4.827600002288818, -5.025100231170654, -5.083499908447266, -5.097400188446045, -5.19320011138916, -5.2058000564575195, -5.223299980163574, -5.247499942779541, -5.258500099182129, -5.232800006866455, -2.184999942779541, -2.7727999687194824, -3.5994999408721924, -3.7370998859405518, -4.010700225830078, -4.035299777984619, -4.178299903869629, -4.3069000244140625, -4.510200023651123, -4.527599811553955, -4.679200172424316, -4.729000091552734, -4.738699913024902, -4.748600006103516, -4.809500217437744, -4.830999851226807, -4.833399772644043, -4.888899803161621, -4.89769983291626, -4.92710018157959, -4.929999828338623, -5.002200126647949, -5.031700134277344, -5.039299964904785, -5.136000156402588, -5.149099826812744, -5.175600051879883, -5.199399948120117, -5.204400062561035, -5.212299823760986, -5.208000183105469, -3.0302000045776367, -3.095400094985962, -3.3968000411987305, -3.6454999446868896, -3.655900001525879, -3.775899887084961, -3.7901999950408936, -3.84660005569458, -3.9767000675201416, -3.9958999156951904, -4.121099948883057, -4.159800052642822, -4.193600177764893, -4.268199920654297, -4.392099857330322, -4.4679999351501465, -4.502900123596191, -4.519400119781494, -4.679200172424316, -4.722599983215332, -4.789899826049805, -4.824999809265137, -4.885700225830078, -4.921299934387207, -4.928100109100342, -4.978600025177002, -4.989200115203857, -5.020699977874756, -5.03980016708374, -5.071700096130371, -2.7023000717163086, -3.1034998893737793, -3.7018001079559326, -3.8303000926971436, -3.8610000610351562, -3.906399965286255, -4.009900093078613, -4.076499938964844, -4.333899974822998, -4.382199764251709, -4.5903000831604, -4.604100227355957, -4.63070011138916, -4.667600154876709, -4.692800045013428, -4.89900016784668, -4.903600215911865, -4.99370002746582, -5.041999816894531, -5.059100151062012, -5.070700168609619, -5.097499847412109, -5.109000205993652, -5.195899963378906, -5.21150016784668, -5.252699851989746, -5.252200126647949, -5.257800102233887, -5.30679988861084, -5.328000068664551, -3.0938000679016113, -3.267699956893921, -3.540600061416626, -3.9667000770568848, -4.0665998458862305, -4.3572998046875, -4.430699825286865, -4.488500118255615, -4.548799991607666, -4.587500095367432, -4.598599910736084, -4.632500171661377, -4.6956000328063965, -4.742599964141846, -4.778900146484375, -4.796500205993652, -4.819200038909912, -4.845300197601318, -4.866300106048584, -4.867300033569336, -4.921000003814697, -4.947299957275391, -4.959799766540527, -4.961400032043457, -4.99970006942749, -5.0055999755859375, -5.0254998207092285, -5.0278000831604, -5.049499988555908, -5.053800106048584, -3.3006999492645264, -3.6584999561309814, -3.8671000003814697, -3.958400011062622, -3.9776999950408936, -4.073999881744385, -4.1930999755859375, -4.226600170135498, -4.2307000160217285, -4.264699935913086, -4.303599834442139, -4.3180999755859375, -4.338699817657471, -4.404699802398682, -4.475599765777588, -4.5096001625061035, -4.590000152587891, -4.6468000411987305, -4.688300132751465, -4.692299842834473, -4.698699951171875, -4.737800121307373, -4.831299781799316, -4.987800121307373, -4.998700141906738, -5.035699844360352, -5.140999794006348, -5.159200191497803, -5.171500205993652, -5.220900058746338, -4.954100131988525, -4.050899982452393, -4.1844000816345215, -4.342400074005127, -4.347899913787842, -4.375100135803223, -4.446000099182129, -4.481599807739258, -4.604800224304199, -4.634900093078613, -4.611100196838379, -4.688600063323975, -4.719099998474121, -4.732399940490723, -4.732800006866455, -4.792300224304199, -4.809800148010254, -4.811600208282471, -4.823500156402588, -4.897600173950195, -4.904200077056885, -4.951099872589111, -4.9583001136779785, -4.960899829864502, -5.05049991607666, -5.073999881744385, -5.11359977722168, -5.115300178527832, -5.121399879455566, -5.134699821472168, -5.152400016784668]}, \"token.table\": {\"Topic\": [3, 4, 3, 8, 5, 5, 8, 7, 8, 2, 7, 1, 10, 9, 5, 6, 9, 9, 9, 9, 8, 7, 2, 2, 10, 2, 3, 6, 5, 5, 8, 4, 6, 2, 2, 10, 10, 5, 4, 2, 1, 4, 4, 3, 7, 10, 2, 8, 2, 10, 7, 8, 2, 1, 6, 9, 10, 9, 6, 6, 9, 9, 2, 7, 4, 9, 9, 10, 6, 5, 3, 10, 4, 3, 6, 2, 6, 8, 5, 8, 8, 7, 7, 2, 3, 1, 10, 9, 8, 7, 5, 2, 8, 7, 4, 10, 6, 6, 3, 8, 8, 5, 9, 5, 1, 2, 4, 2, 2, 3, 5, 7, 10, 1, 6, 3, 3, 10, 9, 9, 1, 8, 1, 5, 9, 4, 7, 5, 7, 8, 8, 5, 4, 6, 3, 5, 4, 4, 1, 1, 5, 1, 3, 9, 8, 2, 9, 1, 6, 10, 1, 3, 9, 3, 2, 7, 8, 3, 6, 6, 10, 4, 7, 2, 10, 8, 6, 9, 9, 8, 7, 9, 1, 9, 8, 4, 2, 3, 5, 7, 3, 7, 6, 1, 3, 4, 1, 4, 5, 3, 10, 3, 5, 1, 7, 3, 10, 10, 10, 10, 4, 10, 8, 7, 6, 6, 5, 10, 4, 5, 7, 4, 9, 5, 9, 10, 3, 2, 2, 6, 2, 4, 10, 5, 3, 1, 6, 1, 4, 8, 5, 8, 1, 9, 7, 6, 7, 7, 6, 1, 2, 5, 8, 10, 9, 5, 8, 7, 3, 10, 3, 5, 4, 2, 3, 6, 1, 2, 3, 4, 5, 6, 7, 9, 10, 2, 10, 4, 3, 6, 1, 1, 7, 4, 4, 6, 1, 4, 8, 4, 1, 4, 1, 2, 10, 8, 9, 1, 6, 1, 7, 3, 5, 2, 4, 9, 7, 2, 10, 3, 6, 5, 7, 8, 1, 7, 9, 1, 5, 4, 6], \"Freq\": [0.9939674131069381, 0.9973743377766006, 0.990727254811897, 0.9921764664218038, 0.9930096206675041, 0.9973008893600729, 0.9873531373898462, 0.9925965897614479, 0.9970091258501865, 0.9965238421913184, 0.9969748195541674, 0.9992009029115524, 0.9908051250419638, 0.9964686267232521, 0.9920714801079779, 0.9935310583237695, 0.9903867951197478, 0.9879337697508237, 0.9967688746660494, 0.9877113109075963, 0.9915934735721929, 0.9863692438943424, 0.9980152530182745, 0.9953556297807267, 0.9876346197504144, 0.9980723283869487, 0.9917329645740062, 0.9981934572165632, 0.9966895555829534, 0.9907639641869126, 0.9922064921942352, 0.9967262786996006, 0.9977450183584092, 0.9982259254917688, 0.9967443456683559, 0.9932244153777136, 0.9952876685792832, 0.9899894068553062, 0.9910807173059919, 0.9954498292490638, 0.996295749752925, 0.9968564890381263, 0.991715121945886, 0.9931760640460798, 0.9914314445985261, 0.9872745689699195, 0.9974212289273645, 0.9947094408956689, 0.997896266588356, 0.9949893112411452, 0.9957733308725617, 0.9938139892933867, 0.9972446706864032, 0.9939481717463287, 0.9915300786829548, 0.9905469483236975, 0.9873046502964495, 0.9942551411856355, 0.9977248178848855, 0.9963691404457234, 0.9920370289280676, 0.9922054042044032, 0.9958656281710705, 0.980076760963312, 0.9948265362197557, 0.9928075507996063, 0.9944106002165402, 0.9864547657009988, 0.988094736055432, 0.993444143944482, 0.9960035915223194, 0.988862907803818, 0.9970952479328834, 0.9995412933503418, 0.9961113965393278, 0.9982304993335344, 0.9911783929114205, 0.9888219630011831, 0.9974821081462499, 0.9904249341322812, 0.9917258072322661, 0.9864583977243613, 0.9920822426679344, 0.9944664529351581, 0.9948971256020822, 0.9984061828020728, 0.9925133009446698, 0.9943414354310763, 0.9864556552197215, 0.9881565593435189, 0.9981403670088913, 0.9971634791828443, 0.991298858760581, 0.9854749136764865, 0.9917765263613925, 0.9919524179105789, 0.99549425912004, 0.9901851553600782, 0.9974921560112641, 0.9905456223769069, 0.9916231508327168, 0.992525982451067, 0.9908600570717253, 0.9916898216996441, 0.9980790073316659, 0.9931121887198058, 0.9993720695191355, 0.9986279965797134, 0.9931344275739946, 0.9955404971582184, 0.9944251350212526, 0.9981331414972641, 0.9879411899160006, 0.9980582398238041, 0.9948169395546579, 0.9950502284889772, 0.9961604483228648, 0.9906396618196454, 0.9949188985015108, 0.9903892261866079, 0.99210561424461, 0.9908262767091055, 0.9967476134562405, 0.9850671415076148, 0.9903785893546976, 0.984331310716907, 0.9956671821697866, 0.98518150701129, 0.9862938930423742, 0.9906968082715635, 0.9949932812532688, 0.9917118410840496, 0.998311109466909, 0.9940446272666643, 0.9916481767670353, 0.9941853120020743, 0.9871010544575205, 0.9981120578547622, 0.9940744952913892, 0.9990387086985361, 0.9976647510621567, 0.9997062678302, 0.9889297556000549, 0.9972709863671744, 0.9832352167068529, 0.9991248110892966, 0.9962620962577772, 0.9963794776792579, 0.9921011658602515, 0.9880901414124041, 0.9976809344309926, 0.9979275818535848, 0.9867408327918223, 0.9959466834374485, 0.9976898548101606, 0.993100850401039, 0.9854815932722637, 0.9926298850884598, 0.9961314326859739, 0.9979012246767275, 0.991725590637711, 0.9970846192990627, 0.9974549357958624, 0.9972525644357354, 0.9946391854201836, 0.9976147216648122, 0.9985470990304709, 0.9963961315977535, 0.9867486135050746, 0.9961587004640955, 0.9920429139337706, 0.9939308802876275, 0.998275670164433, 0.995770253333045, 0.9939920892765733, 0.9861983212515942, 0.9966057870406586, 0.9930236661639714, 0.9951231764966495, 0.9944194056650929, 0.9982337687068218, 0.9982291214392717, 0.9987516143499869, 0.9995604343919656, 0.9947110644553014, 0.9937896878633334, 0.9956610499140148, 0.9936471381160625, 0.9976301904183664, 0.9943863251404811, 0.9888854729081182, 0.9934421608965063, 0.9987760488160504, 0.993087883781986, 0.9994111140970433, 0.9898972605528282, 0.9938384391485575, 0.9838031492708459, 0.9892555173915379, 0.9944024398369571, 0.9947991214035509, 0.9864182098919606, 0.9937971572437649, 0.9953791007498082, 0.9965995890852418, 0.9992681413597666, 0.9995808217866923, 0.9888292574589607, 0.9982953677673171, 0.9957446502290984, 0.9870098698969391, 0.9850783078357028, 0.997596730573259, 0.996640272626751, 0.989212108768402, 0.9951756719325225, 0.9904676824456838, 0.9960613412687435, 0.9962773402693892, 0.9949102145105161, 0.9948624840929715, 0.9964059188719903, 0.9790847096877837, 0.9919491762103954, 0.995222157682478, 0.9987793515808929, 0.9993671343772791, 0.9942852718363938, 0.9950948534304148, 0.9989939452989575, 0.9961788681485512, 0.9905278190112745, 0.9988135935742204, 0.9861366443097973, 0.9986513332390325, 0.9956451695372885, 0.9858305072712238, 0.9909585951014674, 0.9949448214811083, 0.9982264398260806, 0.9994729587222868, 0.9936765381555577, 0.9852222560565866, 0.9945515359834243, 0.9964991212564531, 0.9905344142097083, 0.988947023003675, 0.9930238013621865, 0.9964567913813587, 0.9881045455517775, 0.9934358360918178, 0.9945620126740744, 0.9914472315228844, 0.9975694251220575, 0.9902130300976274, 0.9965651094836441, 0.0881837917443783, 0.0097981990827087, 0.0097981990827087, 0.0097981990827087, 0.0097981990827087, 0.0097981990827087, 0.0097981990827087, 0.7642595284512786, 0.097981990827087, 0.9955130594449192, 0.9939292351225101, 0.9898458402288238, 0.9900661148620516, 0.9973427630193676, 0.9976773961838215, 0.9983819145923838, 0.993725901409131, 0.9977697603589697, 0.9992289957688565, 0.9972555281330773, 0.9982797669786916, 0.9977889628238276, 0.9953125925782853, 0.9987995254216487, 0.9976492243767354, 0.9977673080297536, 0.9982470144875094, 0.9912108336997073, 0.9865293353635047, 0.9900196734522365, 0.9954551364805013, 0.9926738927356047, 0.9865769893259955, 0.9949885967985076, 0.9914856113545821, 0.9974552614033618, 0.9857336258691547, 0.9961342423733139, 0.9976650004328397, 0.9952241130129847, 0.9913104575699566, 0.9940855854187938, 0.9922334844632477, 0.9976782774571354, 0.9969038988363863, 0.9939214264126078, 0.9984032428422616, 0.9989801059640789, 0.9973757437177845, 0.9932927299941545, 0.9948892253644771, 0.9974384675502216, 0.9976446276322518, 0.9972969089599079, 0.9978666511909481], \"Term\": [\"access\", \"act\", \"activist\", \"actually\", \"administration\", \"agree\", \"alex_jone\", \"allow\", \"amendment\", \"america\", \"american\", \"amp\", \"angel\", \"answer\", \"anti\", \"appoint\", \"aren\", \"article\", \"ask\", \"ass\", \"attack\", \"away\", \"bad\", \"believe\", \"better\", \"big\", \"bonus\", \"break\", \"bring\", \"business\", \"california\", \"call\", \"caravan\", \"care\", \"case\", \"ceo\", \"change\", \"charge\", \"check\", \"child\", \"cia\", \"cia_conclude\", \"cia_determin\", \"claim\", \"clinton\", \"close\", \"cnnpolitic\", \"color\", \"come\", \"company\", \"conference\", \"conservative\", \"constitution\", \"continue\", \"control\", \"correspondent\", \"cost\", \"country\", \"court\", \"credential\", \"crime\", \"dark_secret\", \"day\", \"dead\", \"death_official\", \"debate\", \"decision\", \"decorum\", \"democracy\", \"democracy_fail\", \"democrat\", \"deserve\", \"didn\", \"do\", \"doesn\", \"don\", \"donald\", \"drop\", \"election\", \"employee\", \"end\", \"exactly\", \"eye\", \"face\", \"fact\", \"fake\", \"fakenew\", \"family\", \"favor\", \"fbi\", \"federal\", \"feel\", \"fight\", \"finally\", \"fire\", \"florida\", \"follow\", \"foxnew\", \"free\", \"free_speech\", \"freedom\", \"friday\", \"fuck\", \"georgia\", \"get\", \"give\", \"go\", \"good\", \"gop\", \"government\", \"governor\", \"great\", \"group\", \"guy\", \"hand\", \"happen\", \"hard\", \"hate\", \"hear\", \"hell\", \"hold\", \"home\", \"hope\", \"host\", \"human\", \"idea\", \"immediately\", \"immediately_return\", \"interview\", \"investigation\", \"isn\", \"issue\", \"jamal_khashoggi\", \"jimacosta\", \"job\", \"joke\", \"journalism\", \"journalist\", \"journalist_death\", \"judge\", \"judge_order\", \"just\", \"keep\", \"kill\", \"king\", \"know\", \"law\", \"lawsuit\", \"lead\", \"leader\", \"leave\", \"let\", \"liar\", \"liberal\", \"lie\", \"life\", \"likely\", \"list\", \"little\", \"live\", \"long\", \"look\", \"lose\", \"love\", \"low\", \"make\", \"man\", \"mark\", \"marry\", \"maszka_wd\", \"maybe\", \"mean\", \"medium\", \"mic\", \"midterm\", \"mind\", \"miss\", \"moment\", \"money\", \"muell\", \"need\", \"network\", \"new\", \"news\", \"not\", \"obama\", \"official_say\", \"opinion\", \"order\", \"organization\", \"outlet\", \"party\", \"pass\", \"pay\", \"people\", \"person\", \"pick\", \"play\", \"point\", \"police\", \"politic\", \"post\", \"potus\", \"power\", \"pre\", \"president\", \"press\", \"pretend\", \"prince_order\", \"problem\", \"protect\", \"push\", \"question\", \"race\", \"racist\", \"raise\", \"rating\", \"read\", \"real\", \"realize\", \"really\", \"reason\", \"refugee\", \"reinstate\", \"remember\", \"report\", \"reporter\", \"republican\", \"respect\", \"restore\", \"return\", \"rig\", \"right\", \"rude\", \"rule\", \"run\", \"russian\", \"sad\", \"saudi\", \"saudi_crown\", \"say\", \"school\", \"seat\", \"second\", \"see\", \"send\", \"set\", \"shocking\", \"side\", \"sound\", \"source\", \"stacey_abram\", \"stand\", \"start\", \"state\", \"statement\", \"status\", \"status\", \"status\", \"status\", \"status\", \"status\", \"status\", \"status\", \"status\", \"stop\", \"story\", \"stupid\", \"suck\", \"sue\", \"support\", \"sure\", \"take\", \"talk\", \"tell\", \"thank\", \"thing\", \"think\", \"threaten\", \"time\", \"today\", \"truth\", \"try\", \"turn\", \"tv\", \"tweet\", \"use\", \"ve\", \"victory\", \"video\", \"view\", \"vote\", \"voter\", \"wait\", \"want\", \"war\", \"warn\", \"washington\", \"washington_post\", \"watch\", \"way\", \"week\", \"will\", \"win\", \"woman\", \"wonder\", \"word\", \"work\", \"world\", \"write\", \"year\"]}, \"R\": 30, \"lambda.step\": 0.01, \"plot.opts\": {\"xlab\": \"PC1\", \"ylab\": \"PC2\"}, \"topic.order\": [10, 3, 2, 8, 9, 1, 6, 7, 4, 5]};\n",
       "\n",
       "function LDAvis_load_lib(url, callback){\n",
       "  var s = document.createElement('script');\n",
       "  s.src = url;\n",
       "  s.async = true;\n",
       "  s.onreadystatechange = s.onload = callback;\n",
       "  s.onerror = function(){console.warn(\"failed to load library \" + url);};\n",
       "  document.getElementsByTagName(\"head\")[0].appendChild(s);\n",
       "}\n",
       "\n",
       "if(typeof(LDAvis) !== \"undefined\"){\n",
       "   // already loaded: just create the visualization\n",
       "   !function(LDAvis){\n",
       "       new LDAvis(\"#\" + \"ldavis_el535151121464522964631266247\", ldavis_el535151121464522964631266247_data);\n",
       "   }(LDAvis);\n",
       "}else if(typeof define === \"function\" && define.amd){\n",
       "   // require.js is available: use it to load d3/LDAvis\n",
       "   require.config({paths: {d3: \"https://cdnjs.cloudflare.com/ajax/libs/d3/3.5.5/d3.min\"}});\n",
       "   require([\"d3\"], function(d3){\n",
       "      window.d3 = d3;\n",
       "      LDAvis_load_lib(\"https://cdn.rawgit.com/bmabey/pyLDAvis/files/ldavis.v1.0.0.js\", function(){\n",
       "        new LDAvis(\"#\" + \"ldavis_el535151121464522964631266247\", ldavis_el535151121464522964631266247_data);\n",
       "      });\n",
       "    });\n",
       "}else{\n",
       "    // require.js not available: dynamically load d3 & LDAvis\n",
       "    LDAvis_load_lib(\"https://cdnjs.cloudflare.com/ajax/libs/d3/3.5.5/d3.min.js\", function(){\n",
       "         LDAvis_load_lib(\"https://cdn.rawgit.com/bmabey/pyLDAvis/files/ldavis.v1.0.0.js\", function(){\n",
       "                 new LDAvis(\"#\" + \"ldavis_el535151121464522964631266247\", ldavis_el535151121464522964631266247_data);\n",
       "            })\n",
       "         });\n",
       "}\n",
       "</script>"
      ],
      "text/plain": [
       "PreparedData(topic_coordinates=            Freq  cluster  topics         x         y\n",
       "topic                                                \n",
       "9      16.436542        1       1 -0.407347 -0.005401\n",
       "2      12.260772        1       2  0.049249 -0.376998\n",
       "1      10.473414        1       3  0.044047  0.029666\n",
       "7      10.154552        1       4  0.051030  0.032688\n",
       "8      10.035730        1       5  0.040037  0.155565\n",
       "0       9.604985        1       6  0.036813  0.047675\n",
       "5       8.771963        1       7  0.054844  0.030409\n",
       "6       7.936248        1       8  0.042308  0.033326\n",
       "3       7.371888        1       9  0.046181  0.017158\n",
       "4       6.953907        1      10  0.042838  0.035910, topic_info=     Category         Freq             Term        Total  loglift  logprob\n",
       "term                                                                      \n",
       "482   Default  1700.000000            press  1700.000000  30.0000  30.0000\n",
       "120   Default  1559.000000              say  1559.000000  29.0000  29.0000\n",
       "108   Default  1441.000000             news  1441.000000  28.0000  28.0000\n",
       "33    Default  1084.000000               do  1084.000000  27.0000  27.0000\n",
       "18    Default  1232.000000             just  1232.000000  26.0000  26.0000\n",
       "172   Default   945.000000             pass   945.000000  25.0000  25.0000\n",
       "22    Default   886.000000           people   886.000000  24.0000  24.0000\n",
       "500   Default  1160.000000            judge  1160.000000  23.0000  23.0000\n",
       "0     Default   959.000000              amp   959.000000  22.0000  22.0000\n",
       "141   Default   699.000000        president   699.000000  21.0000  21.0000\n",
       "224   Default   689.000000             time   689.000000  20.0000  20.0000\n",
       "174   Default   655.000000         reporter   655.000000  19.0000  19.0000\n",
       "424   Default   728.000000             know   728.000000  18.0000  18.0000\n",
       "1563  Default   593.000000             rule   593.000000  17.0000  17.0000\n",
       "116   Default   542.000000              win   542.000000  16.0000  16.0000\n",
       "238   Default   586.000000            think   586.000000  15.0000  15.0000\n",
       "128   Default   701.000000            right   701.000000  14.0000  14.0000\n",
       "89    Default   529.000000               go   529.000000  13.0000  13.0000\n",
       "221   Default   456.000000             make   456.000000  12.0000  12.0000\n",
       "207   Default   548.000000              don   548.000000  11.0000  11.0000\n",
       "254   Default   506.000000             need   506.000000  10.0000  10.0000\n",
       "764   Default   485.000000            court   485.000000   9.0000   9.0000\n",
       "712   Default   486.000000              let   486.000000   8.0000   8.0000\n",
       "121   Default   477.000000            watch   477.000000   7.0000   7.0000\n",
       "173   Default   409.000000         question   409.000000   6.0000   6.0000\n",
       "214   Default   461.000000             want   461.000000   5.0000   5.0000\n",
       "4     Default   489.000000             good   489.000000   4.0000   4.0000\n",
       "190   Default   432.000000             tell   432.000000   3.0000   3.0000\n",
       "3979  Default   413.000000      judge_order   413.000000   2.0000   2.0000\n",
       "155   Default   527.000000           medium   527.000000   1.0000   1.0000\n",
       "...       ...          ...              ...          ...      ...      ...\n",
       "695   Topic10   182.277566            story   183.111628   2.6613  -4.0509\n",
       "6     Topic10   159.492421             long   160.326608   2.6606  -4.1844\n",
       "2     Topic10   136.191788          fakenew   137.025871   2.6598  -4.3424\n",
       "922   Topic10   135.441450             hate   136.275586   2.6597  -4.3479\n",
       "4508  Topic10   131.805743            raise   132.639898   2.6596  -4.3751\n",
       "1896  Topic10   122.785225          company   123.619418   2.6591  -4.4460\n",
       "844   Topic10   118.492023           outlet   119.326255   2.6589  -4.4816\n",
       "1343  Topic10   104.756976           police   105.591052   2.6579  -4.6048\n",
       "571   Topic10   101.648831           change   102.482934   2.6577  -4.6349\n",
       "8255  Topic10   104.101470            angel   104.965141   2.6576  -4.6111\n",
       "686   Topic10    96.337681            group    97.171776   2.6572  -4.6886\n",
       "1420  Topic10    93.442979          decorum    94.277004   2.6570  -4.7191\n",
       "501   Topic10    92.202031          deserve    93.036152   2.6569  -4.7324\n",
       "833   Topic10    92.165147            point    92.999229   2.6569  -4.7328\n",
       "3364  Topic10    86.846897  washington_post    87.680976   2.6563  -4.7923\n",
       "1292  Topic10    85.336243             post    86.170348   2.6561  -4.8098\n",
       "47    Topic10    85.189175            sound    86.023286   2.6561  -4.8116\n",
       "1425  Topic10    84.178269           leader    85.012487   2.6560  -4.8235\n",
       "465   Topic10    78.168371             cost    79.002970   2.6552  -4.8976\n",
       "1834  Topic10    77.649503             pick    78.483581   2.6552  -4.9042\n",
       "1060  Topic10    74.092153           better    74.926495   2.6547  -4.9511\n",
       "470   Topic10    73.564303              low    74.398838   2.6546  -4.9583\n",
       "2099  Topic10    73.367731             play    74.201836   2.6546  -4.9609\n",
       "1945  Topic10    67.080780               tv    67.914858   2.6535  -5.0505\n",
       "2543  Topic10    65.527473           second    66.361569   2.6532  -5.0740\n",
       "2335  Topic10    62.977976            close    63.812036   2.6527  -5.1136\n",
       "705   Topic10    62.876916          pretend    63.711707   2.6527  -5.1153\n",
       "4650  Topic10    62.489629          refugee    63.324449   2.6526  -5.1214\n",
       "1061  Topic10    61.668877          florida    62.502998   2.6524  -5.1347\n",
       "2328  Topic10    60.581920              ceo    61.416130   2.6522  -5.1524\n",
       "\n",
       "[333 rows x 6 columns], token_table=      Topic      Freq             Term\n",
       "term                                  \n",
       "28        3  0.993967           access\n",
       "366       4  0.997374              act\n",
       "1930      3  0.990727         activist\n",
       "274       8  0.992176         actually\n",
       "615       5  0.993010   administration\n",
       "479       5  0.997301            agree\n",
       "4810      8  0.987353        alex_jone\n",
       "509       7  0.992597            allow\n",
       "242       8  0.997009        amendment\n",
       "920       2  0.996524          america\n",
       "326       7  0.996975         american\n",
       "0         1  0.999201              amp\n",
       "8255     10  0.990805            angel\n",
       "308       9  0.996469           answer\n",
       "1931      5  0.992071             anti\n",
       "767       6  0.993531          appoint\n",
       "1180      9  0.990387             aren\n",
       "1016      9  0.987934          article\n",
       "664       9  0.996769              ask\n",
       "309       9  0.987711              ass\n",
       "841       8  0.991593           attack\n",
       "882       7  0.986369             away\n",
       "374       2  0.998015              bad\n",
       "1116      2  0.995356          believe\n",
       "1060     10  0.987635           better\n",
       "378       2  0.998072              big\n",
       "1956      3  0.991733            bonus\n",
       "559       6  0.998193            break\n",
       "1789      5  0.996690            bring\n",
       "1027      5  0.990764         business\n",
       "...     ...       ...              ...\n",
       "167       4  0.997767            truth\n",
       "258       1  0.998247              try\n",
       "2302      2  0.991211             turn\n",
       "1945     10  0.986529               tv\n",
       "226       8  0.990020            tweet\n",
       "92        9  0.995455              use\n",
       "259       1  0.992674               ve\n",
       "5216      6  0.986577          victory\n",
       "323       1  0.994989            video\n",
       "1606      7  0.991486             view\n",
       "827       3  0.997455             vote\n",
       "70        5  0.985734            voter\n",
       "476       2  0.996134             wait\n",
       "214       4  0.997665             want\n",
       "494       9  0.995224              war\n",
       "531       7  0.991310             warn\n",
       "2209      2  0.994086       washington\n",
       "3364     10  0.992233  washington_post\n",
       "121       3  0.997678            watch\n",
       "898       6  0.996904              way\n",
       "1059      5  0.993921             week\n",
       "478       7  0.998403             will\n",
       "116       8  0.998980              win\n",
       "303       1  0.997376            woman\n",
       "642       7  0.993293           wonder\n",
       "321       9  0.994889             word\n",
       "260       1  0.997438             work\n",
       "241       5  0.997645            world\n",
       "215       4  0.997297            write\n",
       "273       6  0.997867             year\n",
       "\n",
       "[311 rows x 3 columns], R=30, lambda_step=0.01, plot_opts={'xlab': 'PC1', 'ylab': 'PC2'}, topic_order=[10, 3, 2, 8, 9, 1, 6, 7, 4, 5])"
      ]
     },
     "execution_count": 115,
     "metadata": {},
     "output_type": "execute_result"
    }
   ],
   "source": [
    "pyLDAvis.enable_notebook()\n",
    "vis = pyLDAvis.gensim.prepare(lda_model, corpus, id2word)\n",
    "vis"
   ]
  },
  {
   "cell_type": "markdown",
   "metadata": {},
   "source": [
    "We're gonna perform LDA Topic modeling with Sklearn as well, to see if any better results can be formed.  This model requires a much simpler set up."
   ]
  },
  {
   "cell_type": "markdown",
   "metadata": {},
   "source": [
    "## LDA with Sklearn"
   ]
  },
  {
   "cell_type": "code",
   "execution_count": 117,
   "metadata": {
    "collapsed": true
   },
   "outputs": [],
   "source": [
    "from sklearn.decomposition import LatentDirichletAllocation\n",
    "\n",
    "lda_model = LatentDirichletAllocation(n_topics=10, n_jobs=-1, max_iter=50)"
   ]
  },
  {
   "cell_type": "markdown",
   "metadata": {},
   "source": [
    "Fit the model on the past vectorizer "
   ]
  },
  {
   "cell_type": "code",
   "execution_count": 123,
   "metadata": {},
   "outputs": [],
   "source": [
    "lda_sk = lda_model.fit(dtm)"
   ]
  },
  {
   "cell_type": "code",
   "execution_count": 124,
   "metadata": {},
   "outputs": [
    {
     "data": {
      "text/plain": [
       "LatentDirichletAllocation(batch_size=128, doc_topic_prior=None,\n",
       "             evaluate_every=-1, learning_decay=0.7,\n",
       "             learning_method='batch', learning_offset=10.0,\n",
       "             max_doc_update_iter=100, max_iter=50, mean_change_tol=0.001,\n",
       "             n_components=10, n_jobs=-1, n_topics=10, perp_tol=0.1,\n",
       "             random_state=None, topic_word_prior=None,\n",
       "             total_samples=1000000.0, verbose=0)"
      ]
     },
     "execution_count": 124,
     "metadata": {},
     "output_type": "execute_result"
    }
   ],
   "source": [
    "lda_sk"
   ]
  },
  {
   "cell_type": "code",
   "execution_count": 125,
   "metadata": {},
   "outputs": [
    {
     "data": {
      "text/plain": [
       "array([[ 568,    1,  845, ..., 2365, 2589, 2594],\n",
       "       [  48,    1,  568, ..., 3587, 2048, 1475],\n",
       "       [1286,    1,  845, ..., 2372, 1878, 1977],\n",
       "       ...,\n",
       "       [   1, 1285, 1286, ..., 1878, 2048, 1085],\n",
       "       [  48, 1286,  845, ..., 2372, 2453, 1015],\n",
       "       [   1,   48,  568, ..., 1272, 1271, 2372]])"
      ]
     },
     "execution_count": 125,
     "metadata": {},
     "output_type": "execute_result"
    }
   ],
   "source": [
    "lda_model.components_.argsort()"
   ]
  },
  {
   "cell_type": "code",
   "execution_count": 127,
   "metadata": {
    "collapsed": true
   },
   "outputs": [],
   "source": [
    "#Gives an id for each word in our vocabulary\n",
    "index_to_word = {value: key for key, value in vectorizer.vocabulary_.items()}"
   ]
  },
  {
   "cell_type": "code",
   "execution_count": 129,
   "metadata": {},
   "outputs": [
    {
     "name": "stdout",
     "output_type": "stream",
     "text": [
      "Topic: 0\n",
      "['people', 'pelosi', 'new', 'vote', 'amp', 'democrats', 'll', 'women', 'like', 'president']\n",
      "Topic: 1\n",
      "['good', 'like', 'time', 'right', 'media', 'think', 'mueller', 've', 'people', 'yes']\n",
      "Topic: 2\n",
      "['lawsuit', 'just', 'news', 'president', 'send', 'thought', 'day', 'journalist', 'conference', 'right']\n",
      "Topic: 3\n",
      "['great', 'news', 'democracy', 'says', 'lawsuit', 'going', 'sarah', 'video', 'sanders', 'stand']\n",
      "Topic: 4\n",
      "['saudi', 'cia', 'prince', 'ordered', 'crown', 'crown prince', 'saudi crown', 'saudi crown prince', 'death', 'prince ordered']\n",
      "Topic: 5\n",
      "['press', 'judge', 'pass', 'press pass', 'reporter', 'free', 'amendment', 'right', 'credentials', 'federal']\n",
      "Topic: 6\n",
      "['administration', 'lawsuit', 'love', 'news', 'restore', 'legal', 'attorney', 'hearing', 'court', 'restore press']\n",
      "Topic: 7\n",
      "['don', 'like', 'just', 'amp', 'people', 'news', 'know', 'questions', 'does', 'think']\n",
      "Topic: 8\n",
      "['did', 'obama', 'news', 'avenatti', 'orders', 'judge orders', 'new', 'wall', 'tucker', 'michael']\n",
      "Topic: 9\n",
      "['news', 'fake', 'fake news', 'melania', 'security', 'national', 'just', 'national security', 'lady', 'real']\n"
     ]
    }
   ],
   "source": [
    "#This will give us the words for the top 10 topics\n",
    "for i, topic in enumerate(lda_sk.components_):\n",
    "    top_word_indices = topic.argsort()[::-1][:10]\n",
    "    top_words = [index_to_word[word_index] for word_index in top_word_indices]\n",
    "    print('Topic:', i)\n",
    "    print(top_words)"
   ]
  },
  {
   "cell_type": "markdown",
   "metadata": {},
   "source": [
    "This model gives us a little clearer vision of our topics.  There are still a few topics that are closely related.  Topic 2,3,5, and 6 all seem to be about the same subject.  These can all be connected to the situation of Jim Acosta.  At this point, this is just the representation fo the data, so there is not much we can do to change that."
   ]
  },
  {
   "cell_type": "markdown",
   "metadata": {},
   "source": [
    "Other topics that stand out include the death ordering done by the Saudi Prince, Michael Avenatti, and Sarah Sanders.  Topic 0 and 1 seem to be around political party preference."
   ]
  },
  {
   "cell_type": "markdown",
   "metadata": {},
   "source": [
    "Next steps will be focusing on Word2Vec modeling, and eventually transforming the data into clusters."
   ]
  },
  {
   "cell_type": "markdown",
   "metadata": {},
   "source": [
    "### Word2Vec\n",
    "This model is very useful for detecting content throughout sentences, and ultimately can predict likelihood of the words before and after a certain word.\n",
    "\n",
    "https://radimrehurek.com/gensim/models/word2vec.html"
   ]
  },
  {
   "cell_type": "code",
   "execution_count": 130,
   "metadata": {
    "collapsed": true
   },
   "outputs": [],
   "source": [
    "from gensim.models import Word2Vec"
   ]
  },
  {
   "cell_type": "code",
   "execution_count": 134,
   "metadata": {
    "collapsed": true
   },
   "outputs": [],
   "source": [
    "texts = [[word for word in document.lower().split() if word not in stop_words]\n",
    "         for document in sentences]"
   ]
  },
  {
   "cell_type": "code",
   "execution_count": 136,
   "metadata": {},
   "outputs": [],
   "source": [
    "w2v_model = Word2Vec(texts, size=100, window=5, min_count=1, workers=4, sg=1)"
   ]
  },
  {
   "cell_type": "code",
   "execution_count": 137,
   "metadata": {},
   "outputs": [
    {
     "data": {
      "text/plain": [
       "<gensim.models.word2vec.Word2Vec at 0x1a1bdd7438>"
      ]
     },
     "execution_count": 137,
     "metadata": {},
     "output_type": "execute_result"
    }
   ],
   "source": [
    "w2v_model"
   ]
  },
  {
   "cell_type": "markdown",
   "metadata": {},
   "source": [
    "Now we can test what words are similar to a specific word in our vocabulary"
   ]
  },
  {
   "cell_type": "code",
   "execution_count": 140,
   "metadata": {},
   "outputs": [
    {
     "name": "stderr",
     "output_type": "stream",
     "text": [
      "/Users/peyjmonahmad/anaconda3/lib/python3.6/site-packages/gensim/matutils.py:737: FutureWarning: Conversion of the second argument of issubdtype from `int` to `np.signedinteger` is deprecated. In future, it will be treated as `np.int64 == np.dtype(int).type`.\n",
      "  if np.issubdtype(vec.dtype, np.int):\n"
     ]
    },
    {
     "data": {
      "text/plain": [
       "[('michael', 0.9780426025390625),\n",
       " ('arrested', 0.9762415885925293),\n",
       " ('tucker', 0.9746811985969543),\n",
       " ('advertised', 0.9738824367523193),\n",
       " ('domestic', 0.9719944000244141),\n",
       " ('caught', 0.970394492149353),\n",
       " (\"carlson's\", 0.9693905115127563),\n",
       " ('reported', 0.9687976241111755),\n",
       " ('polls', 0.967466413974762),\n",
       " ('reality', 0.9669656753540039),\n",
       " ('tweets', 0.9665089249610901),\n",
       " ('arrest', 0.9664884805679321),\n",
       " ('invasion', 0.9661216735839844),\n",
       " ('about!!you', 0.966069221496582),\n",
       " ('group', 0.9659738540649414)]"
      ]
     },
     "execution_count": 140,
     "metadata": {},
     "output_type": "execute_result"
    }
   ],
   "source": [
    "w2v_model.most_similar('avenatti',topn=15)"
   ]
  },
  {
   "cell_type": "code",
   "execution_count": 141,
   "metadata": {},
   "outputs": [
    {
     "name": "stderr",
     "output_type": "stream",
     "text": [
      "/Users/peyjmonahmad/anaconda3/lib/python3.6/site-packages/gensim/matutils.py:737: FutureWarning: Conversion of the second argument of issubdtype from `int` to `np.signedinteger` is deprecated. In future, it will be treated as `np.int64 == np.dtype(int).type`.\n",
      "  if np.issubdtype(vec.dtype, np.int):\n"
     ]
    },
    {
     "data": {
      "text/plain": [
       "[('concludes', 0.9939969778060913),\n",
       " ('crown', 0.9920171499252319),\n",
       " ('murder', 0.9919237494468689),\n",
       " ('determined', 0.9918879270553589),\n",
       " ('determines', 0.9918276071548462),\n",
       " ('prince', 0.9918035864830017),\n",
       " ('cia', 0.9916492104530334),\n",
       " ('mbs', 0.9893380999565125),\n",
       " ('mohammed', 0.9892471432685852),\n",
       " ('arabia', 0.9881752729415894),\n",
       " ('bin', 0.9877274632453918),\n",
       " ('salman', 0.987541675567627),\n",
       " ('oh?', 0.9863319396972656),\n",
       " ('khashoggi', 0.9862072467803955),\n",
       " ('assassinationwash', 0.9845870137214661)]"
      ]
     },
     "execution_count": 141,
     "metadata": {},
     "output_type": "execute_result"
    }
   ],
   "source": [
    "w2v_model.most_similar('saudi',topn=15)"
   ]
  },
  {
   "cell_type": "code",
   "execution_count": 142,
   "metadata": {},
   "outputs": [
    {
     "name": "stderr",
     "output_type": "stream",
     "text": [
      "/Users/peyjmonahmad/anaconda3/lib/python3.6/site-packages/gensim/matutils.py:737: FutureWarning: Conversion of the second argument of issubdtype from `int` to `np.signedinteger` is deprecated. In future, it will be treated as `np.int64 == np.dtype(int).type`.\n",
      "  if np.issubdtype(vec.dtype, np.int):\n"
     ]
    },
    {
     "data": {
      "text/plain": [
       "[('stacey', 0.9987804889678955),\n",
       " (\"'democracy\", 0.9925109148025513),\n",
       " (\"failed'\", 0.9888261556625366),\n",
       " ('ends', 0.9773774147033691),\n",
       " ('governor', 0.9773634672164917),\n",
       " ('georgia', 0.9707483053207397),\n",
       " ('death,', 0.9441314339637756),\n",
       " (\"khashoggi's\", 0.9401422739028931),\n",
       " (\"journalist's\", 0.9365145564079285),\n",
       " ('official', 0.9362003803253174),\n",
       " (\"jamalkhashoggi's\", 0.9350751638412476),\n",
       " ('mohammedbonesawsalaam', 0.9336996078491211),\n",
       " ('mohammedbinsalman', 0.9324951171875),\n",
       " ('cnncia', 0.9317567944526672),\n",
       " ('shane', 0.9316561222076416)]"
      ]
     },
     "execution_count": 142,
     "metadata": {},
     "output_type": "execute_result"
    }
   ],
   "source": [
    "w2v_model.most_similar('abrams',topn=15)"
   ]
  },
  {
   "cell_type": "code",
   "execution_count": 143,
   "metadata": {},
   "outputs": [
    {
     "name": "stderr",
     "output_type": "stream",
     "text": [
      "/Users/peyjmonahmad/anaconda3/lib/python3.6/site-packages/gensim/matutils.py:737: FutureWarning: Conversion of the second argument of issubdtype from `int` to `np.signedinteger` is deprecated. In future, it will be treated as `np.int64 == np.dtype(int).type`.\n",
      "  if np.issubdtype(vec.dtype, np.int):\n"
     ]
    },
    {
     "data": {
      "text/plain": [
       "[('hard', 0.9364634156227112),\n",
       " ('access', 0.9257644414901733),\n",
       " ('constitutional', 0.9147787690162659),\n",
       " ('speech,', 0.9119322299957275),\n",
       " ('jones', 0.9104751348495483),\n",
       " ('alex', 0.9069480895996094),\n",
       " ('violates', 0.9062274098396301),\n",
       " ('victory', 0.9054820537567139),\n",
       " (\"acosta's\", 0.9045382738113403),\n",
       " ('privilege,', 0.9035201072692871),\n",
       " ('ndtv', 0.9025154113769531),\n",
       " ('acosta,', 0.9024064540863037),\n",
       " ('violation', 0.8998973369598389),\n",
       " ('violated', 0.8989914059638977),\n",
       " ('rights', 0.898131787776947)]"
      ]
     },
     "execution_count": 143,
     "metadata": {},
     "output_type": "execute_result"
    }
   ],
   "source": [
    "w2v_model.most_similar('press',topn=15)"
   ]
  },
  {
   "cell_type": "markdown",
   "metadata": {},
   "source": [
    "Looks like the word similarity makes sense.  Now from Word2Vec, we can directly group words into clusters with K-means."
   ]
  },
  {
   "cell_type": "markdown",
   "metadata": {},
   "source": [
    "## K-Means clustering on single words"
   ]
  },
  {
   "cell_type": "code",
   "execution_count": 147,
   "metadata": {},
   "outputs": [],
   "source": [
    "from sklearn.cluster import KMeans\n",
    "km = KMeans(n_clusters=5,init='k-means++')"
   ]
  },
  {
   "cell_type": "code",
   "execution_count": 149,
   "metadata": {
    "collapsed": true
   },
   "outputs": [],
   "source": [
    "#The model is fitted on single word vectors\n",
    "km = km.fit(w2v_model.wv.syn0)"
   ]
  },
  {
   "cell_type": "code",
   "execution_count": 150,
   "metadata": {
    "collapsed": true
   },
   "outputs": [
    {
     "data": {
      "text/plain": [
       "array([[ 4.11895514e-02, -2.05540955e-02, -5.14657088e-02,\n",
       "        -4.37888429e-02, -5.45336008e-02,  5.73590118e-03,\n",
       "         1.95635241e-02, -6.91093691e-03,  1.53624061e-02,\n",
       "         1.88028328e-02, -2.86486894e-02,  4.49028052e-03,\n",
       "         1.53607782e-03, -1.42285619e-02,  3.47847641e-02,\n",
       "        -8.81210342e-03, -4.34263563e-03, -7.14291912e-03,\n",
       "         4.66624275e-02, -3.97079140e-02, -2.36182734e-02,\n",
       "        -9.88494791e-03, -2.94009596e-02, -2.02733874e-02,\n",
       "         1.37389973e-02,  2.96830274e-02,  2.93170735e-02,\n",
       "         5.49462214e-02, -8.61738529e-03,  1.13315228e-02,\n",
       "        -2.53829509e-02,  3.69346254e-02, -2.54169293e-02,\n",
       "        -4.64253239e-02,  2.56339610e-02,  6.13364428e-02,\n",
       "        -4.07880023e-02, -3.87525372e-02,  2.69702338e-02,\n",
       "        -3.23143229e-02,  2.29857899e-02, -2.60912701e-02,\n",
       "         7.35395961e-03,  6.10115612e-03, -3.78815234e-02,\n",
       "         4.19522263e-02, -7.18168169e-03, -5.05307578e-02,\n",
       "         3.18131484e-02, -2.01162416e-02, -1.64698139e-02,\n",
       "        -4.74093258e-02, -3.81031334e-02, -1.80150778e-03,\n",
       "        -4.37397361e-02, -2.00938173e-02, -2.35849302e-02,\n",
       "        -1.45048220e-02, -2.23481897e-02, -3.91736627e-02,\n",
       "         8.35065544e-03,  6.20151125e-03,  5.39249368e-03,\n",
       "         2.05350854e-02,  2.63511278e-02,  2.37041153e-02,\n",
       "         1.53702609e-02,  7.48893060e-03,  1.47469193e-02,\n",
       "         4.65569552e-03, -1.29602421e-02,  4.16181795e-02,\n",
       "        -3.01134251e-02,  7.15967566e-02,  1.22180264e-02,\n",
       "        -3.28935776e-03, -2.25112885e-02, -1.03074294e-02,\n",
       "         4.15667407e-02,  1.27676148e-02, -3.47877620e-04,\n",
       "         4.14767601e-02, -1.54343694e-02,  4.25939262e-02,\n",
       "        -7.50152990e-02,  2.09617168e-02,  1.27160791e-02,\n",
       "         3.83763164e-02,  2.39862334e-02,  7.22879265e-03,\n",
       "         7.07892627e-02,  3.98049913e-02, -3.72787677e-02,\n",
       "        -3.95632647e-02, -4.12873998e-02,  2.03687027e-02,\n",
       "        -7.82420579e-03,  2.75417604e-02, -3.69529203e-02,\n",
       "        -2.31781621e-02],\n",
       "       [ 2.51448929e-01, -1.07180506e-01, -2.74003148e-01,\n",
       "        -2.30090454e-01, -3.11483443e-01,  4.90538888e-02,\n",
       "         1.36203825e-01, -2.84024067e-02,  7.06976503e-02,\n",
       "         9.46666896e-02, -1.43967867e-01, -1.04682781e-02,\n",
       "         1.97664015e-02, -8.32873136e-02,  1.72318891e-01,\n",
       "        -8.84495527e-02, -9.79632605e-03, -2.87796371e-02,\n",
       "         2.95164555e-01, -2.42897928e-01, -1.40881926e-01,\n",
       "        -8.05411711e-02, -2.05193490e-01, -1.07061595e-01,\n",
       "         5.69301546e-02,  1.98295340e-01,  1.71018064e-01,\n",
       "         2.97383010e-01, -5.11019528e-02,  9.90160704e-02,\n",
       "        -1.84165046e-01,  2.29877055e-01, -1.78661913e-01,\n",
       "        -2.73490608e-01,  1.49796024e-01,  3.54991019e-01,\n",
       "        -2.26930380e-01, -2.12159723e-01,  1.66929513e-01,\n",
       "        -2.04645053e-01,  1.33652091e-01, -1.45729393e-01,\n",
       "         5.27050272e-02,  3.50955650e-02, -2.44334251e-01,\n",
       "         2.32642129e-01, -4.84387837e-02, -2.93280065e-01,\n",
       "         1.71541691e-01, -1.04971498e-01, -9.42253470e-02,\n",
       "        -2.79129982e-01, -2.45716661e-01, -1.53521672e-02,\n",
       "        -2.80336440e-01, -8.47731829e-02, -1.25969693e-01,\n",
       "        -9.91238058e-02, -1.08511031e-01, -2.22128347e-01,\n",
       "         3.70268859e-02,  3.11711393e-02,  3.93822193e-02,\n",
       "         1.32125646e-01,  1.41184539e-01,  1.42095789e-01,\n",
       "         9.92750078e-02,  8.14740062e-02,  6.56971633e-02,\n",
       "         3.80304568e-02, -6.05266169e-02,  2.69288719e-01,\n",
       "        -1.89155176e-01,  4.15125698e-01,  7.61859193e-02,\n",
       "        -4.51362990e-02, -1.43821537e-01, -3.44034880e-02,\n",
       "         2.44598746e-01,  7.91074634e-02,  9.47945658e-03,\n",
       "         2.48499811e-01, -9.14961547e-02,  2.83005387e-01,\n",
       "        -4.42197710e-01,  1.41426459e-01,  5.36309443e-02,\n",
       "         2.35396370e-01,  1.18213110e-01,  3.14463452e-02,\n",
       "         4.12075609e-01,  2.62114495e-01, -1.99882135e-01,\n",
       "        -1.96221232e-01, -2.00147733e-01,  1.27474934e-01,\n",
       "        -3.39105949e-02,  1.44435793e-01, -2.37267107e-01,\n",
       "        -1.53127044e-01],\n",
       "       [ 1.60018772e-01, -6.95659965e-02, -1.91005602e-01,\n",
       "        -1.62869453e-01, -2.03974366e-01,  2.34983712e-02,\n",
       "         7.55981654e-02, -2.53145918e-02,  6.17592260e-02,\n",
       "         7.16912746e-02, -1.05841950e-01,  1.51502918e-02,\n",
       "         4.46419988e-04, -5.57821989e-02,  1.27936065e-01,\n",
       "        -3.74114588e-02, -1.51836490e-02, -2.66150124e-02,\n",
       "         1.78528249e-01, -1.51789933e-01, -9.12026167e-02,\n",
       "        -3.96436527e-02, -1.12236194e-01, -7.54989833e-02,\n",
       "         5.33287264e-02,  1.13608733e-01,  1.12223461e-01,\n",
       "         2.04964846e-01, -3.41455638e-02,  4.70939875e-02,\n",
       "        -9.99192744e-02,  1.39402986e-01, -9.97968838e-02,\n",
       "        -1.75979853e-01,  1.00644067e-01,  2.27594838e-01,\n",
       "        -1.56095356e-01, -1.41459763e-01,  1.07259899e-01,\n",
       "        -1.23955116e-01,  8.83167088e-02, -9.71304476e-02,\n",
       "         2.91248001e-02,  2.17828490e-02, -1.46466985e-01,\n",
       "         1.60550892e-01, -3.45405266e-02, -1.86301768e-01,\n",
       "         1.20545566e-01, -7.60414749e-02, -6.53922558e-02,\n",
       "        -1.77251965e-01, -1.46813557e-01, -4.51875106e-03,\n",
       "        -1.72164723e-01, -7.37684667e-02, -9.00929347e-02,\n",
       "        -5.93516417e-02, -8.06711614e-02, -1.46969587e-01,\n",
       "         3.13412733e-02,  2.32588183e-02,  2.31785644e-02,\n",
       "         7.63972849e-02,  9.60764438e-02,  9.21701491e-02,\n",
       "         5.89936078e-02,  3.76903862e-02,  5.60568273e-02,\n",
       "         1.48867536e-02, -4.93685752e-02,  1.59728557e-01,\n",
       "        -1.14127845e-01,  2.71916866e-01,  4.81018871e-02,\n",
       "        -1.74153056e-02, -8.83965492e-02, -3.74129117e-02,\n",
       "         1.63202211e-01,  5.15715927e-02,  1.44805131e-03,\n",
       "         1.55457720e-01, -5.86485155e-02,  1.65599048e-01,\n",
       "        -2.84482241e-01,  8.32567662e-02,  4.42620106e-02,\n",
       "         1.41639829e-01,  8.59255418e-02,  2.85230502e-02,\n",
       "         2.65751094e-01,  1.55283719e-01, -1.38491735e-01,\n",
       "        -1.43584967e-01, -1.53416947e-01,  7.70458430e-02,\n",
       "        -2.43514292e-02,  1.02795541e-01, -1.45754084e-01,\n",
       "        -8.70343223e-02],\n",
       "       [ 8.89702961e-02, -4.28454801e-02, -1.09657981e-01,\n",
       "        -9.32132751e-02, -1.16776407e-01,  1.25979744e-02,\n",
       "         4.21734303e-02, -1.46575011e-02,  3.33069824e-02,\n",
       "         4.03975137e-02, -6.07771091e-02,  9.21885110e-03,\n",
       "         2.52837571e-03, -3.05434726e-02,  7.39208311e-02,\n",
       "        -1.96850486e-02, -8.84853862e-03, -1.50814848e-02,\n",
       "         1.00559846e-01, -8.57332274e-02, -5.09655923e-02,\n",
       "        -2.17399839e-02, -6.34268746e-02, -4.31653559e-02,\n",
       "         2.94664875e-02,  6.37757778e-02,  6.32316917e-02,\n",
       "         1.17260985e-01, -1.90894660e-02,  2.47949809e-02,\n",
       "        -5.49676232e-02,  7.92369321e-02, -5.49047776e-02,\n",
       "        -9.97288302e-02,  5.53600900e-02,  1.30750462e-01,\n",
       "        -8.77234638e-02, -8.23352784e-02,  5.84660321e-02,\n",
       "        -6.95148259e-02,  4.95745279e-02, -5.57085797e-02,\n",
       "         1.60339326e-02,  1.29603092e-02, -8.18756819e-02,\n",
       "         9.02345106e-02, -1.63271762e-02, -1.07705750e-01,\n",
       "         6.81927055e-02, -4.29047719e-02, -3.57844606e-02,\n",
       "        -1.01395540e-01, -8.21323618e-02, -3.63966497e-03,\n",
       "        -9.49720964e-02, -4.27170098e-02, -5.06249964e-02,\n",
       "        -3.21198851e-02, -4.76785749e-02, -8.39301571e-02,\n",
       "         1.79284159e-02,  1.32203884e-02,  1.17692836e-02,\n",
       "         4.42378446e-02,  5.58431000e-02,  5.12178428e-02,\n",
       "         3.33342776e-02,  1.73271336e-02,  3.15805487e-02,\n",
       "         9.83520504e-03, -2.77172085e-02,  8.96805748e-02,\n",
       "        -6.46100789e-02,  1.53795093e-01,  2.66710464e-02,\n",
       "        -7.82900117e-03, -4.86057028e-02, -2.16257256e-02,\n",
       "         8.99061933e-02,  2.78688464e-02, -2.59925611e-04,\n",
       "         8.87063295e-02, -3.31792906e-02,  9.22190323e-02,\n",
       "        -1.61034316e-01,  4.54115719e-02,  2.67525502e-02,\n",
       "         8.22740793e-02,  5.06247580e-02,  1.54858287e-02,\n",
       "         1.51389599e-01,  8.60021859e-02, -7.94369653e-02,\n",
       "        -8.35407674e-02, -8.80021453e-02,  4.36251946e-02,\n",
       "        -1.62169002e-02,  5.88680208e-02, -8.00115541e-02,\n",
       "        -4.97273430e-02],\n",
       "       [ 4.14914161e-01,  1.72833771e-01, -2.57071763e-01,\n",
       "        -2.45477110e-01, -2.63681412e-01,  1.23109609e-01,\n",
       "         1.41821206e-01, -3.34439054e-02,  3.36032391e-01,\n",
       "         2.01675206e-01, -1.44291282e-01,  4.62496057e-02,\n",
       "        -2.49425262e-01, -1.92072615e-01,  1.72411799e-01,\n",
       "        -1.58743426e-01, -1.40854847e-02, -6.11979738e-02,\n",
       "         3.79160106e-01, -3.17825258e-01, -2.33072728e-01,\n",
       "        -9.89019126e-02, -1.30844712e-01, -6.68922663e-02,\n",
       "         2.24610612e-01,  1.82186246e-01,  2.64162302e-01,\n",
       "         2.89823622e-01, -1.08485416e-01,  1.95409551e-01,\n",
       "        -2.52105236e-01,  2.16645896e-01, -2.70284504e-01,\n",
       "        -3.35838497e-01,  3.60184193e-01,  2.24226594e-01,\n",
       "        -3.99394333e-01, -1.02532655e-01,  3.61722946e-01,\n",
       "        -2.23005608e-01,  2.47593671e-01, -1.22428417e-01,\n",
       "         1.14592537e-01, -3.54192592e-03, -3.39031845e-01,\n",
       "         3.91173214e-01, -3.80069226e-01, -1.14462607e-01,\n",
       "         2.58176118e-01, -1.61286458e-01, -2.46897534e-01,\n",
       "        -2.07963377e-01, -3.15373898e-01,  1.15092151e-01,\n",
       "        -5.44912457e-01, -1.11083053e-01, -2.38955796e-01,\n",
       "        -2.52102792e-01, -3.22529003e-02, -2.22431093e-01,\n",
       "         6.70014173e-02,  4.36614603e-02,  1.48620754e-01,\n",
       "         3.48096378e-02,  6.53391406e-02,  2.59358913e-01,\n",
       "         1.31986111e-01,  3.89518201e-01,  1.34841740e-01,\n",
       "        -1.04945190e-01, -1.04728371e-01,  3.22192132e-01,\n",
       "        -1.78083599e-01,  5.21546841e-01,  1.62556097e-01,\n",
       "        -2.22896561e-01, -2.52833605e-01, -3.97283956e-02,\n",
       "         5.40464520e-01,  2.16565460e-01,  6.46008626e-02,\n",
       "         1.87808633e-01, -1.02846265e-01,  3.75135690e-01,\n",
       "        -4.88388687e-01,  2.62450010e-01, -4.63992283e-02,\n",
       "         5.72496876e-02, -1.28964372e-02,  1.66162297e-01,\n",
       "         3.84501278e-01,  3.81258011e-01, -1.83877707e-01,\n",
       "        -5.23670390e-02, -2.79966742e-01,  1.12816289e-01,\n",
       "         1.22466147e-01,  1.50843397e-01, -4.50721174e-01,\n",
       "        -1.06618658e-01]], dtype=float32)"
      ]
     },
     "execution_count": 150,
     "metadata": {},
     "output_type": "execute_result"
    }
   ],
   "source": [
    "km.cluster_centers_"
   ]
  },
  {
   "cell_type": "code",
   "execution_count": 151,
   "metadata": {},
   "outputs": [
    {
     "data": {
      "text/plain": [
       "array([4, 1, 4, ..., 0, 0, 0], dtype=int32)"
      ]
     },
     "execution_count": 151,
     "metadata": {},
     "output_type": "execute_result"
    }
   ],
   "source": [
    "km.labels_"
   ]
  },
  {
   "cell_type": "code",
   "execution_count": 155,
   "metadata": {},
   "outputs": [
    {
     "data": {
      "text/plain": [
       "1912.0071750362324"
      ]
     },
     "execution_count": 155,
     "metadata": {},
     "output_type": "execute_result"
    }
   ],
   "source": [
    "km.inertia_"
   ]
  },
  {
   "cell_type": "markdown",
   "metadata": {},
   "source": [
    "Let's check the distribution of the 5 clusters that were generated."
   ]
  },
  {
   "cell_type": "code",
   "execution_count": 153,
   "metadata": {},
   "outputs": [
    {
     "data": {
      "text/plain": [
       "[(0, 10623), (1, 2370), (2, 3155), (3, 6319), (4, 370)]"
      ]
     },
     "execution_count": 153,
     "metadata": {},
     "output_type": "execute_result"
    }
   ],
   "source": [
    "from collections import Counter\n",
    "sorted(Counter(km.labels_).items())"
   ]
  },
  {
   "cell_type": "markdown",
   "metadata": {},
   "source": [
    "Not a bad distribution.  A lot of our data is surrounding one subject, so it makes sence for one cluster to contain a signficant portion of words.\n",
    "\n",
    "We can get the top words for each cluster to get a better idea about them."
   ]
  },
  {
   "cell_type": "code",
   "execution_count": 158,
   "metadata": {},
   "outputs": [],
   "source": [
    "word_vecs = w2v_model.wv.syn0"
   ]
  },
  {
   "cell_type": "markdown",
   "metadata": {},
   "source": [
    "### Get top words from Clusters\n",
    "This function below wil generate a dataframe of all the top words for each cluster."
   ]
  },
  {
   "cell_type": "code",
   "execution_count": 163,
   "metadata": {},
   "outputs": [],
   "source": [
    "from scipy.spatial import KDTree"
   ]
  },
  {
   "cell_type": "code",
   "execution_count": 164,
   "metadata": {
    "collapsed": true
   },
   "outputs": [],
   "source": [
    "def get_top_words(index2word, k, centers, wordvecs):\n",
    "    \n",
    "    tree = KDTree(wordvecs)\n",
    "    \n",
    "#Closest points for each Cluster center is used to query the closest 20 points to it.\n",
    "    closest_points = [tree.query(np.reshape(x, (1, -1)), k=k) for x in centers]\n",
    "    closest_words_idxs = [x[1] for x in closest_points]\n",
    "    \n",
    "#Word Index is queried for each position in the above array, and added to a Dictionary.\n",
    "    closest_words = {}\n",
    "    for i in range(0, len(closest_words_idxs)):\n",
    "        closest_words['Cluster #' + str(i)] = [index2word[j] for j in closest_words_idxs[i][0]]\n",
    "        \n",
    "#A DataFrame is generated from the dictionary.\n",
    "    df = pd.DataFrame(closest_words)\n",
    "    df.index = df.index+1\n",
    "    \n",
    "    return df"
   ]
  },
  {
   "cell_type": "code",
   "execution_count": 166,
   "metadata": {},
   "outputs": [],
   "source": [
    "top_df = get_top_words(w2v_model.wv.index2word, 100, km.cluster_centers_,word_vecs )"
   ]
  },
  {
   "cell_type": "code",
   "execution_count": 168,
   "metadata": {},
   "outputs": [
    {
     "data": {
      "text/html": [
       "<div>\n",
       "<style>\n",
       "    .dataframe thead tr:only-child th {\n",
       "        text-align: right;\n",
       "    }\n",
       "\n",
       "    .dataframe thead th {\n",
       "        text-align: left;\n",
       "    }\n",
       "\n",
       "    .dataframe tbody tr th {\n",
       "        vertical-align: top;\n",
       "    }\n",
       "</style>\n",
       "<table border=\"1\" class=\"dataframe\">\n",
       "  <thead>\n",
       "    <tr style=\"text-align: right;\">\n",
       "      <th></th>\n",
       "      <th>Cluster #0</th>\n",
       "      <th>Cluster #1</th>\n",
       "      <th>Cluster #2</th>\n",
       "      <th>Cluster #3</th>\n",
       "      <th>Cluster #4</th>\n",
       "    </tr>\n",
       "  </thead>\n",
       "  <tbody>\n",
       "    <tr>\n",
       "      <th>1</th>\n",
       "      <td>po</td>\n",
       "      <td>inside</td>\n",
       "      <td>humans</td>\n",
       "      <td>humiliate</td>\n",
       "      <td>jimacosta</td>\n",
       "    </tr>\n",
       "    <tr>\n",
       "      <th>2</th>\n",
       "      <td>becuz</td>\n",
       "      <td>career</td>\n",
       "      <td>fbr</td>\n",
       "      <td>eventis</td>\n",
       "      <td>precedent</td>\n",
       "    </tr>\n",
       "    <tr>\n",
       "      <th>3</th>\n",
       "      <td>\"bipartisan</td>\n",
       "      <td>positive</td>\n",
       "      <td>kamala</td>\n",
       "      <td>arming</td>\n",
       "      <td>loses</td>\n",
       "    </tr>\n",
       "    <tr>\n",
       "      <th>4</th>\n",
       "      <td>creator</td>\n",
       "      <td>straight</td>\n",
       "      <td>fallen</td>\n",
       "      <td>huffpo</td>\n",
       "      <td>grandstanding</td>\n",
       "    </tr>\n",
       "    <tr>\n",
       "      <th>5</th>\n",
       "      <td>ticket?(just</td>\n",
       "      <td>crime</td>\n",
       "      <td>forms</td>\n",
       "      <td>prefect</td>\n",
       "      <td>judge's</td>\n",
       "    </tr>\n",
       "    <tr>\n",
       "      <th>6</th>\n",
       "      <td>aficionado</td>\n",
       "      <td>lower</td>\n",
       "      <td>environmental</td>\n",
       "      <td>distance</td>\n",
       "      <td>grounds</td>\n",
       "    </tr>\n",
       "    <tr>\n",
       "      <th>7</th>\n",
       "      <td>finale</td>\n",
       "      <td>and,</td>\n",
       "      <td>audience</td>\n",
       "      <td>attn</td>\n",
       "      <td>battle</td>\n",
       "    </tr>\n",
       "    <tr>\n",
       "      <th>8</th>\n",
       "      <td>trumpisamoron</td>\n",
       "      <td>beginning</td>\n",
       "      <td>yards</td>\n",
       "      <td>calm</td>\n",
       "      <td>restoring</td>\n",
       "    </tr>\n",
       "    <tr>\n",
       "      <th>9</th>\n",
       "      <td>journalismmatters</td>\n",
       "      <td>hitler</td>\n",
       "      <td>airports</td>\n",
       "      <td>women,</td>\n",
       "      <td>briefing</td>\n",
       "    </tr>\n",
       "    <tr>\n",
       "      <th>10</th>\n",
       "      <td>believeher</td>\n",
       "      <td>guest</td>\n",
       "      <td>suggested</td>\n",
       "      <td>todd(meet</td>\n",
       "      <td>release</td>\n",
       "    </tr>\n",
       "    <tr>\n",
       "      <th>11</th>\n",
       "      <td>nakstalker</td>\n",
       "      <td>main</td>\n",
       "      <td>cops</td>\n",
       "      <td>fbi,</td>\n",
       "      <td>action</td>\n",
       "    </tr>\n",
       "    <tr>\n",
       "      <th>12</th>\n",
       "      <td>opressing</td>\n",
       "      <td>media,</td>\n",
       "      <td>faced</td>\n",
       "      <td>sticking</td>\n",
       "      <td>round</td>\n",
       "    </tr>\n",
       "    <tr>\n",
       "      <th>13</th>\n",
       "      <td>crazyexgirlfr</td>\n",
       "      <td>rhetoric</td>\n",
       "      <td>meadows</td>\n",
       "      <td>'token</td>\n",
       "      <td>wins</td>\n",
       "    </tr>\n",
       "    <tr>\n",
       "      <th>14</th>\n",
       "      <td>households</td>\n",
       "      <td>comments</td>\n",
       "      <td>spell</td>\n",
       "      <td>directness</td>\n",
       "      <td>suspended</td>\n",
       "    </tr>\n",
       "    <tr>\n",
       "      <th>15</th>\n",
       "      <td>awaken</td>\n",
       "      <td>throwing</td>\n",
       "      <td>withdrawal</td>\n",
       "      <td>algorithm</td>\n",
       "      <td>following</td>\n",
       "    </tr>\n",
       "    <tr>\n",
       "      <th>16</th>\n",
       "      <td>ya?</td>\n",
       "      <td>listed</td>\n",
       "      <td>rise</td>\n",
       "      <td>louis</td>\n",
       "      <td>initial</td>\n",
       "    </tr>\n",
       "    <tr>\n",
       "      <th>17</th>\n",
       "      <td>winter</td>\n",
       "      <td>corporate</td>\n",
       "      <td>essentially</td>\n",
       "      <td>cybersecurity</td>\n",
       "      <td>assaulted</td>\n",
       "    </tr>\n",
       "    <tr>\n",
       "      <th>18</th>\n",
       "      <td>scribblings</td>\n",
       "      <td>economy</td>\n",
       "      <td>tribute</td>\n",
       "      <td>raci</td>\n",
       "      <td>ridiculous</td>\n",
       "    </tr>\n",
       "    <tr>\n",
       "      <th>19</th>\n",
       "      <td>hund</td>\n",
       "      <td>absurd</td>\n",
       "      <td>labor</td>\n",
       "      <td>smugly,</td>\n",
       "      <td>taking</td>\n",
       "    </tr>\n",
       "    <tr>\n",
       "      <th>20</th>\n",
       "      <td>trumpderangementsyndrome</td>\n",
       "      <td>destroyed</td>\n",
       "      <td>costs</td>\n",
       "      <td>9pm</td>\n",
       "      <td>violation</td>\n",
       "    </tr>\n",
       "    <tr>\n",
       "      <th>21</th>\n",
       "      <td>beautifully</td>\n",
       "      <td>rich</td>\n",
       "      <td>scream</td>\n",
       "      <td>philippine</td>\n",
       "      <td>dispute</td>\n",
       "    </tr>\n",
       "    <tr>\n",
       "      <th>22</th>\n",
       "      <td>fearing</td>\n",
       "      <td>accept</td>\n",
       "      <td>solely</td>\n",
       "      <td>legislator</td>\n",
       "      <td>temporary</td>\n",
       "    </tr>\n",
       "    <tr>\n",
       "      <th>23</th>\n",
       "      <td>saystranslation</td>\n",
       "      <td>mad</td>\n",
       "      <td>dress</td>\n",
       "      <td>enquirerrudy</td>\n",
       "      <td>sued</td>\n",
       "    </tr>\n",
       "    <tr>\n",
       "      <th>24</th>\n",
       "      <td>resulted</td>\n",
       "      <td>slow</td>\n",
       "      <td>ceremony,</td>\n",
       "      <td>trumptard</td>\n",
       "      <td>threatens</td>\n",
       "    </tr>\n",
       "    <tr>\n",
       "      <th>25</th>\n",
       "      <td>2,100</td>\n",
       "      <td>attempts</td>\n",
       "      <td>forgotten</td>\n",
       "      <td>accomplish</td>\n",
       "      <td>decorum</td>\n",
       "    </tr>\n",
       "    <tr>\n",
       "      <th>26</th>\n",
       "      <td>'wouldn't'</td>\n",
       "      <td>hardly</td>\n",
       "      <td>blocking</td>\n",
       "      <td>gaja</td>\n",
       "      <td>\"rules\"</td>\n",
       "    </tr>\n",
       "    <tr>\n",
       "      <th>27</th>\n",
       "      <td>(5</td>\n",
       "      <td>relevant</td>\n",
       "      <td>crucial</td>\n",
       "      <td>dreamact</td>\n",
       "      <td>intern</td>\n",
       "    </tr>\n",
       "    <tr>\n",
       "      <th>28</th>\n",
       "      <td>'live'</td>\n",
       "      <td>senator</td>\n",
       "      <td>bank</td>\n",
       "      <td>bearing</td>\n",
       "      <td>c</td>\n",
       "    </tr>\n",
       "    <tr>\n",
       "      <th>29</th>\n",
       "      <td>convo</td>\n",
       "      <td>outrage</td>\n",
       "      <td>ship</td>\n",
       "      <td>chihuahua</td>\n",
       "      <td>actions</td>\n",
       "    </tr>\n",
       "    <tr>\n",
       "      <th>30</th>\n",
       "      <td>poplar</td>\n",
       "      <td>racist,</td>\n",
       "      <td>bubble</td>\n",
       "      <td>conduit</td>\n",
       "      <td>way,</td>\n",
       "    </tr>\n",
       "  </tbody>\n",
       "</table>\n",
       "</div>"
      ],
      "text/plain": [
       "                  Cluster #0 Cluster #1     Cluster #2     Cluster #3  \\\n",
       "1                         po     inside         humans      humiliate   \n",
       "2                      becuz     career            fbr        eventis   \n",
       "3                \"bipartisan   positive         kamala         arming   \n",
       "4                    creator   straight         fallen         huffpo   \n",
       "5               ticket?(just      crime          forms        prefect   \n",
       "6                 aficionado      lower  environmental       distance   \n",
       "7                     finale       and,       audience           attn   \n",
       "8              trumpisamoron  beginning          yards           calm   \n",
       "9          journalismmatters     hitler       airports         women,   \n",
       "10                believeher      guest      suggested      todd(meet   \n",
       "11                nakstalker       main           cops           fbi,   \n",
       "12                 opressing     media,          faced       sticking   \n",
       "13             crazyexgirlfr   rhetoric        meadows         'token   \n",
       "14                households   comments          spell     directness   \n",
       "15                    awaken   throwing     withdrawal      algorithm   \n",
       "16                       ya?     listed           rise          louis   \n",
       "17                    winter  corporate    essentially  cybersecurity   \n",
       "18               scribblings    economy        tribute           raci   \n",
       "19                      hund     absurd          labor        smugly,   \n",
       "20  trumpderangementsyndrome  destroyed          costs            9pm   \n",
       "21               beautifully       rich         scream     philippine   \n",
       "22                   fearing     accept         solely     legislator   \n",
       "23           saystranslation        mad          dress   enquirerrudy   \n",
       "24                  resulted       slow      ceremony,      trumptard   \n",
       "25                     2,100   attempts      forgotten     accomplish   \n",
       "26                'wouldn't'     hardly       blocking           gaja   \n",
       "27                        (5   relevant        crucial       dreamact   \n",
       "28                    'live'    senator           bank        bearing   \n",
       "29                     convo    outrage           ship      chihuahua   \n",
       "30                    poplar    racist,         bubble        conduit   \n",
       "\n",
       "       Cluster #4  \n",
       "1       jimacosta  \n",
       "2       precedent  \n",
       "3           loses  \n",
       "4   grandstanding  \n",
       "5         judge's  \n",
       "6         grounds  \n",
       "7          battle  \n",
       "8       restoring  \n",
       "9        briefing  \n",
       "10        release  \n",
       "11         action  \n",
       "12          round  \n",
       "13           wins  \n",
       "14      suspended  \n",
       "15      following  \n",
       "16        initial  \n",
       "17      assaulted  \n",
       "18     ridiculous  \n",
       "19         taking  \n",
       "20      violation  \n",
       "21        dispute  \n",
       "22      temporary  \n",
       "23           sued  \n",
       "24      threatens  \n",
       "25        decorum  \n",
       "26        \"rules\"  \n",
       "27         intern  \n",
       "28              c  \n",
       "29        actions  \n",
       "30           way,  "
      ]
     },
     "execution_count": 168,
     "metadata": {},
     "output_type": "execute_result"
    }
   ],
   "source": [
    "top_df.head(30)"
   ]
  },
  {
   "cell_type": "markdown",
   "metadata": {},
   "source": [
    "A lot of interesting words here.  At this point it, it might be the best to cluster full tweets, rather than individual words."
   ]
  },
  {
   "cell_type": "markdown",
   "metadata": {},
   "source": [
    "#### This function will get the average vector of all words in each tweet."
   ]
  },
  {
   "cell_type": "code",
   "execution_count": 169,
   "metadata": {
    "collapsed": true
   },
   "outputs": [],
   "source": [
    "def avg_feature_vector(sentence, model, num_features):\n",
    "    \n",
    "    index2word_set= set(model.wv.index2word)\n",
    "    \n",
    "    words = sentence.split()\n",
    "    feature_vec = np.zeros((num_features, ), dtype='float32')\n",
    "    n_words = 0\n",
    "    for word in words:\n",
    "        if word in index2word_set:\n",
    "            n_words += 1\n",
    "            feature_vec = np.add(feature_vec, model[word])\n",
    "    if (n_words > 0):\n",
    "        feature_vec = np.divide(feature_vec, n_words)\n",
    "    return feature_vec"
   ]
  },
  {
   "cell_type": "code",
   "execution_count": 171,
   "metadata": {},
   "outputs": [],
   "source": [
    "#Initialize a list to store tweet_vectors\n",
    "tweet_vecs =[]\n",
    "\n",
    "#Each sentence will split words and get the full vector\n",
    "for tweet in sentences:\n",
    "    vector = avg_feature_vector(tweet, model=w2v_model, num_features=100)\n",
    "    tweet_vecs.append(vector)"
   ]
  },
  {
   "cell_type": "code",
   "execution_count": 172,
   "metadata": {},
   "outputs": [
    {
     "data": {
      "text/plain": [
       "18924"
      ]
     },
     "execution_count": 172,
     "metadata": {},
     "output_type": "execute_result"
    }
   ],
   "source": [
    "len(tweet_vecs)"
   ]
  },
  {
   "cell_type": "code",
   "execution_count": 173,
   "metadata": {},
   "outputs": [
    {
     "data": {
      "text/plain": [
       "array([ 0.26288754, -0.03350418, -0.17509429, -0.1493763 , -0.2441215 ,\n",
       "        0.07367125,  0.12787583, -0.00133126,  0.07185527,  0.07271484,\n",
       "       -0.07218339, -0.05509315,  0.0109548 , -0.06225236,  0.09067158,\n",
       "       -0.13948777,  0.04265939, -0.01687318,  0.29424378, -0.20770337,\n",
       "       -0.12363754, -0.11356118, -0.20147884, -0.06461789,  0.03819539,\n",
       "        0.17609343,  0.12799671,  0.20861623, -0.048839  ,  0.14847957,\n",
       "       -0.20289795,  0.21023889, -0.20284644, -0.23587102,  0.14426363,\n",
       "        0.22825658, -0.21462162, -0.12049138,  0.1769499 , -0.16311492,\n",
       "        0.1498047 , -0.11325441,  0.06886523,  0.02624707, -0.24684517,\n",
       "        0.18020454, -0.11647666, -0.18244545,  0.11891085, -0.07273252,\n",
       "       -0.07600429, -0.23018828, -0.25254208, -0.01124422, -0.32162267,\n",
       "       -0.01803503, -0.09405262, -0.15395573, -0.06517333, -0.1620611 ,\n",
       "        0.02153471,  0.02624547,  0.07118758,  0.12209567,  0.08415157,\n",
       "        0.14266177,  0.09932882,  0.16527446, -0.00218661,  0.01556852,\n",
       "       -0.01375822,  0.2851998 , -0.1832445 ,  0.33275163,  0.09928261,\n",
       "       -0.13475181, -0.15477507,  0.02947458,  0.22424829,  0.08706862,\n",
       "        0.02560308,  0.2062482 , -0.08261746,  0.29424062, -0.36644349,\n",
       "        0.16896154, -0.00961533,  0.18614309,  0.03910802,  0.03729176,\n",
       "        0.3180847 ,  0.27773407, -0.12649904, -0.07011303, -0.11951481,\n",
       "        0.12341989,  0.0208129 ,  0.07709099, -0.25566515, -0.12452949],\n",
       "      dtype=float32)"
      ]
     },
     "execution_count": 173,
     "metadata": {},
     "output_type": "execute_result"
    }
   ],
   "source": [
    "tweet_vecs[0]"
   ]
  },
  {
   "cell_type": "markdown",
   "metadata": {},
   "source": [
    "Now, we have the vectors to cluster full tweets instead of words."
   ]
  },
  {
   "cell_type": "code",
   "execution_count": 175,
   "metadata": {},
   "outputs": [],
   "source": [
    "tweet_clusters = km.fit(tweet_vecs)"
   ]
  },
  {
   "cell_type": "code",
   "execution_count": 176,
   "metadata": {
    "collapsed": true
   },
   "outputs": [
    {
     "data": {
      "text/plain": [
       "array([[ 1.12484485e-01, -4.36397043e-02, -1.20017472e-01,\n",
       "        -1.00287470e-01, -1.32815323e-01,  2.50225195e-02,\n",
       "         5.96272902e-02, -1.16579898e-02,  3.50350650e-02,\n",
       "         4.25215385e-02, -6.12355960e-02, -2.62608619e-03,\n",
       "         5.04279514e-03, -3.88780520e-02,  7.47549739e-02,\n",
       "        -3.87819257e-02, -2.23806424e-03, -1.43322199e-02,\n",
       "         1.32680569e-01, -1.07208396e-01, -6.41993325e-02,\n",
       "        -3.90453126e-02, -8.75528299e-02, -4.63880447e-02,\n",
       "         2.58149633e-02,  8.57919869e-02,  7.32474982e-02,\n",
       "         1.30379628e-01, -2.34865074e-02,  4.42164492e-02,\n",
       "        -8.29537138e-02,  1.00043560e-01, -7.95857827e-02,\n",
       "        -1.21106490e-01,  6.73813559e-02,  1.52786714e-01,\n",
       "        -1.01464682e-01, -9.13711211e-02,  7.67154459e-02,\n",
       "        -8.76314087e-02,  6.17177496e-02, -6.37935754e-02,\n",
       "         2.30319044e-02,  1.30083318e-02, -1.08782798e-01,\n",
       "         1.02471717e-01, -2.64070065e-02, -1.22463563e-01,\n",
       "         7.32743741e-02, -4.63717946e-02, -4.16904403e-02,\n",
       "        -1.19929685e-01, -1.10632975e-01, -7.42583571e-03,\n",
       "        -1.27933118e-01, -3.75860595e-02, -5.68792840e-02,\n",
       "        -4.65889471e-02, -4.63624217e-02, -9.67753541e-02,\n",
       "         1.82721927e-02,  1.24184942e-02,  2.08456272e-02,\n",
       "         5.60278357e-02,  6.19071422e-02,  6.16166426e-02,\n",
       "         4.53563109e-02,  4.19330327e-02,  2.78206783e-02,\n",
       "         1.58110636e-02, -2.47530151e-02,  1.20033431e-01,\n",
       "        -8.39893467e-02,  1.81902235e-01,  3.48302127e-02,\n",
       "        -2.55674628e-02, -6.23318047e-02, -1.30658602e-02,\n",
       "         1.10615520e-01,  3.69421055e-02,  6.23679210e-03,\n",
       "         1.05471032e-01, -3.90190090e-02,  1.23561591e-01,\n",
       "        -1.91611216e-01,  6.49893419e-02,  2.03936320e-02,\n",
       "         1.01253701e-01,  4.91981715e-02,  1.70649528e-02,\n",
       "         1.79605929e-01,  1.16438424e-01, -8.58237925e-02,\n",
       "        -8.14307926e-02, -8.74700747e-02,  5.49279897e-02,\n",
       "        -1.26702192e-02,  6.11766172e-02, -1.07034518e-01,\n",
       "        -6.35410056e-02],\n",
       "       [ 5.13386663e-01,  2.17911285e-01, -2.74722538e-01,\n",
       "        -2.76477829e-01, -2.56040359e-01,  1.28135959e-01,\n",
       "         1.09320379e-01, -5.18740614e-02,  4.30124598e-01,\n",
       "         2.36498387e-01, -1.56275153e-01,  8.17909686e-02,\n",
       "        -3.12414380e-01, -2.11733469e-01,  1.67483894e-01,\n",
       "        -1.22279555e-01, -3.20540127e-02, -9.25755310e-02,\n",
       "         3.89157519e-01, -3.40451583e-01, -2.55301957e-01,\n",
       "        -8.45521198e-02, -1.20676896e-01, -6.64057140e-02,\n",
       "         2.73762062e-01,  1.61890174e-01,  2.64291422e-01,\n",
       "         3.41378617e-01, -1.20061477e-01,  2.08186406e-01,\n",
       "        -2.45235049e-01,  2.03650282e-01, -2.80142750e-01,\n",
       "        -3.36588456e-01,  4.10975510e-01,  1.76246955e-01,\n",
       "        -4.66735176e-01, -6.08728428e-02,  4.28344216e-01,\n",
       "        -2.12516541e-01,  2.71295376e-01, -1.16658005e-01,\n",
       "         1.07062077e-01, -1.36772661e-02, -3.35877067e-01,\n",
       "         4.46608473e-01, -4.72497613e-01, -8.24930855e-02,\n",
       "         3.11248237e-01, -1.96145496e-01, -2.92067197e-01,\n",
       "        -2.07855588e-01, -3.15074734e-01,  1.48778637e-01,\n",
       "        -6.10146234e-01, -1.16580304e-01, -2.62758323e-01,\n",
       "        -2.96041132e-01, -1.88413443e-02, -2.68159445e-01,\n",
       "         1.03311668e-01,  7.41324593e-02,  1.92861617e-01,\n",
       "         2.68754119e-02,  6.89437342e-02,  2.74173308e-01,\n",
       "         1.17088401e-01,  4.39697030e-01,  1.69394193e-01,\n",
       "        -1.50233899e-01, -1.54567512e-01,  3.42663707e-01,\n",
       "        -1.67179267e-01,  5.88853371e-01,  1.87891088e-01,\n",
       "        -2.59099327e-01, -2.96743375e-01, -7.21771349e-02,\n",
       "         6.11740156e-01,  2.72812896e-01,  5.90193315e-02,\n",
       "         1.85423328e-01, -9.18402232e-02,  3.86557434e-01,\n",
       "        -5.08900131e-01,  2.82158612e-01, -6.04964461e-02,\n",
       "         2.19042311e-03, -4.50171721e-02,  2.02447585e-01,\n",
       "         3.97563091e-01,  4.42483512e-01, -1.86260624e-01,\n",
       "        -7.56267936e-02, -3.19395207e-01,  1.15960611e-01,\n",
       "         1.54806573e-01,  1.49141270e-01, -5.14235281e-01,\n",
       "        -7.39240017e-02],\n",
       "       [ 5.28299717e-01, -3.32469714e-01, -6.81368969e-01,\n",
       "        -6.95335737e-01, -6.10960902e-01, -1.94797776e-01,\n",
       "         1.26895366e-01, -1.57145745e-01,  1.85490226e-01,\n",
       "         2.41933247e-01, -6.14873620e-01,  1.25086811e-01,\n",
       "         4.91578360e-02, -2.91584247e-01,  5.68407789e-01,\n",
       "         1.12434600e-01, -5.06691336e-01, -3.74267673e-01,\n",
       "         2.49576994e-02, -1.84583811e-01, -1.03991049e-01,\n",
       "         2.05558515e-01, -1.16254611e-01, -4.77136701e-01,\n",
       "         3.20635111e-01,  3.82618899e-01,  1.71463823e-01,\n",
       "         7.30344237e-01,  1.24122684e-01,  1.26610054e-01,\n",
       "        -1.53626485e-02,  3.18602255e-01, -1.93682030e-01,\n",
       "        -1.43525526e-01,  2.85484617e-01,  7.50370763e-01,\n",
       "        -3.98304391e-01, -3.69468570e-01,  3.64666271e-01,\n",
       "        -3.87501142e-01,  5.78820445e-02, -2.09512855e-01,\n",
       "        -1.14800258e-01,  1.07807567e-02, -7.76013981e-02,\n",
       "         4.23541873e-01, -7.53509499e-02, -7.07904341e-01,\n",
       "         7.23738476e-01, -4.07980479e-01, -2.83391059e-01,\n",
       "        -5.59182541e-01, -1.42752171e-01,  1.01564537e-01,\n",
       "        -1.27806352e-01, -3.00774932e-01, -3.40155829e-01,\n",
       "         2.36406316e-01, -1.03747276e-02, -3.88586588e-01,\n",
       "         8.99725455e-02,  1.76379135e-01,  1.08214526e-01,\n",
       "         6.70001792e-02,  2.77601613e-01,  2.33650080e-01,\n",
       "        -1.65548791e-01, -2.25507410e-01,  5.22733800e-01,\n",
       "        -1.29539846e-01, -4.76233363e-01,  1.03695185e-01,\n",
       "        -1.75375115e-01,  8.09967581e-01,  4.35581454e-02,\n",
       "         4.79337166e-01, -4.14594634e-01, -4.59120403e-01,\n",
       "         3.64667622e-01,  1.56645158e-01, -1.20159433e-01,\n",
       "         5.42347520e-01, -2.12990187e-01,  3.24584521e-01,\n",
       "        -7.93528461e-01,  1.58016348e-01,  1.37604172e-01,\n",
       "         6.10028220e-03,  4.29894255e-01,  1.02684559e-02,\n",
       "         8.87154671e-01,  3.78781168e-01, -5.00976636e-01,\n",
       "        -1.10591127e+00, -5.92111840e-01,  2.51167397e-01,\n",
       "         5.43305886e-02,  4.82623947e-01, -4.78514818e-01,\n",
       "        -1.28280594e-01],\n",
       "       [ 3.14578301e-01, -2.22391062e-02, -2.13415166e-01,\n",
       "        -1.77559042e-01, -2.59774182e-01,  1.25412454e-01,\n",
       "         1.85802761e-01, -2.74826486e-04,  9.09239348e-02,\n",
       "         8.64718591e-02, -8.61726351e-02, -6.32749390e-02,\n",
       "        -1.44315631e-02, -1.17808933e-01,  9.84058478e-02,\n",
       "        -1.78897887e-01,  9.53988823e-03, -2.24972966e-02,\n",
       "         3.74534369e-01, -2.86478542e-01, -1.68197944e-01,\n",
       "        -1.41811203e-01, -2.45943343e-01, -6.84523734e-02,\n",
       "         3.96422492e-02,  2.42336715e-01,  1.72287603e-01,\n",
       "         2.46618329e-01, -5.80143030e-02,  1.98245705e-01,\n",
       "        -2.82427508e-01,  2.54513877e-01, -2.73141753e-01,\n",
       "        -2.87564728e-01,  1.93919117e-01,  3.21308248e-01,\n",
       "        -2.30619907e-01, -1.59072455e-01,  2.31416704e-01,\n",
       "        -2.33786768e-01,  1.68489704e-01, -1.13963756e-01,\n",
       "         9.63590305e-02,  1.80118941e-02, -3.10124515e-01,\n",
       "         2.25065969e-01, -1.52994291e-01, -2.38174867e-01,\n",
       "         1.57442094e-01, -8.40610311e-02, -1.26706797e-01,\n",
       "        -2.59727703e-01, -3.10048906e-01, -8.54775375e-03,\n",
       "        -3.96039143e-01, -1.37969691e-02, -1.40104349e-01,\n",
       "        -1.58089810e-01, -2.45739955e-02, -2.02029186e-01,\n",
       "         3.05519176e-02,  1.97604236e-02,  9.95231448e-02,\n",
       "         1.41892586e-01,  1.11551520e-01,  1.55509068e-01,\n",
       "         1.24140882e-01,  2.33218670e-01,  3.59469740e-02,\n",
       "         4.29595718e-02, -2.25272320e-02,  3.45238432e-01,\n",
       "        -2.17393587e-01,  4.26242383e-01,  1.04605972e-01,\n",
       "        -1.48077222e-01, -1.87947804e-01,  3.09169273e-02,\n",
       "         3.10130071e-01,  1.14713132e-01,  4.25838453e-02,\n",
       "         2.35399354e-01, -9.72101905e-02,  3.67946760e-01,\n",
       "        -4.20923261e-01,  2.15287777e-01, -3.24552315e-02,\n",
       "         2.07665081e-01,  2.69268206e-02,  5.98368436e-02,\n",
       "         4.09109360e-01,  3.54979174e-01, -1.57570039e-01,\n",
       "        -8.16730567e-02, -1.25190293e-01,  1.43294392e-01,\n",
       "         2.84564189e-02,  1.08334945e-01, -3.42805750e-01,\n",
       "        -1.69943132e-01],\n",
       "       [ 2.35216746e-01, -6.96993925e-02, -2.24674114e-01,\n",
       "        -1.84489134e-01, -2.64960972e-01,  4.89299835e-02,\n",
       "         1.24574790e-01, -2.18444425e-02,  6.90420284e-02,\n",
       "         8.16547041e-02, -1.08443938e-01, -1.13791785e-02,\n",
       "         4.57265782e-03, -7.61226118e-02,  1.28659920e-01,\n",
       "        -8.59847493e-02,  6.19623904e-05, -1.97493306e-02,\n",
       "         2.72581567e-01, -2.24800420e-01, -1.30786304e-01,\n",
       "        -8.60684049e-02, -1.86023092e-01, -8.98707421e-02,\n",
       "         4.57793303e-02,  1.70033675e-01,  1.52978034e-01,\n",
       "         2.52353651e-01, -5.29640809e-02,  9.21416756e-02,\n",
       "        -1.69259945e-01,  1.95140151e-01, -1.60412039e-01,\n",
       "        -2.40384577e-01,  1.33985192e-01,  2.93169268e-01,\n",
       "        -1.94693867e-01, -1.71152679e-01,  1.56953588e-01,\n",
       "        -1.82616392e-01,  1.26699213e-01, -1.19959796e-01,\n",
       "         5.17870723e-02,  2.73885792e-02, -2.21781142e-01,\n",
       "         2.03795475e-01, -5.91454075e-02, -2.44633647e-01,\n",
       "         1.45328532e-01, -9.11867894e-02, -9.63841230e-02,\n",
       "        -2.40514899e-01, -2.15237189e-01, -1.46279872e-02,\n",
       "        -2.62860888e-01, -6.62779877e-02, -1.10143100e-01,\n",
       "        -1.05789675e-01, -9.14149574e-02, -1.96783541e-01,\n",
       "         3.78768217e-02,  2.66571389e-02,  3.99065360e-02,\n",
       "         1.23207374e-01,  1.10593118e-01,  1.23113679e-01,\n",
       "         9.26217058e-02,  9.26300833e-02,  5.50059549e-02,\n",
       "         3.41664115e-02, -4.99547814e-02,  2.50004490e-01,\n",
       "        -1.65827036e-01,  3.65989593e-01,  7.52754009e-02,\n",
       "        -5.40715964e-02, -1.31465017e-01, -1.86344248e-02,\n",
       "         2.25901665e-01,  7.36051809e-02,  1.86682860e-02,\n",
       "         2.10277233e-01, -8.24837553e-02,  2.63687333e-01,\n",
       "        -3.81808144e-01,  1.32595986e-01,  3.21302791e-02,\n",
       "         2.08628926e-01,  8.40183955e-02,  2.82209320e-02,\n",
       "         3.51165844e-01,  2.40577885e-01, -1.65592654e-01,\n",
       "        -1.43048532e-01, -1.65722820e-01,  1.13130444e-01,\n",
       "        -2.00328087e-02,  1.18376887e-01, -2.24447244e-01,\n",
       "        -1.27279088e-01]])"
      ]
     },
     "execution_count": 176,
     "metadata": {},
     "output_type": "execute_result"
    }
   ],
   "source": [
    "tweet_clusters.cluster_centers_"
   ]
  },
  {
   "cell_type": "code",
   "execution_count": 177,
   "metadata": {},
   "outputs": [
    {
     "data": {
      "text/plain": [
       "[(0, 1761), (1, 1812), (2, 290), (3, 5944), (4, 9117)]"
      ]
     },
     "execution_count": 177,
     "metadata": {},
     "output_type": "execute_result"
    }
   ],
   "source": [
    "sorted(Counter(tweet_clusters.labels_).items())"
   ]
  },
  {
   "cell_type": "code",
   "execution_count": 179,
   "metadata": {},
   "outputs": [
    {
     "data": {
      "text/plain": [
       "5961.049164984778"
      ]
     },
     "execution_count": 179,
     "metadata": {},
     "output_type": "execute_result"
    }
   ],
   "source": [
    "tweet_clusters.inertia_"
   ]
  },
  {
   "cell_type": "markdown",
   "metadata": {},
   "source": [
    "Inertia decreased, but thats expected with more volume in each cluster"
   ]
  },
  {
   "cell_type": "markdown",
   "metadata": {},
   "source": [
    "Let's try a couple more clustering methods to see if the balance of clusters can increase."
   ]
  },
  {
   "cell_type": "markdown",
   "metadata": {},
   "source": [
    "Mini Batch K-Means is a very effective clustering method that is not computationally expensive, we can try it with this method."
   ]
  },
  {
   "cell_type": "code",
   "execution_count": 180,
   "metadata": {
    "collapsed": true
   },
   "outputs": [],
   "source": [
    "from sklearn.cluster import MiniBatchKMeans"
   ]
  },
  {
   "cell_type": "code",
   "execution_count": 228,
   "metadata": {},
   "outputs": [],
   "source": [
    "mbk = MiniBatchKMeans(n_clusters=5)"
   ]
  },
  {
   "cell_type": "code",
   "execution_count": 229,
   "metadata": {},
   "outputs": [],
   "source": [
    "mbk_clusters = mbk.fit(tweet_vecs)"
   ]
  },
  {
   "cell_type": "code",
   "execution_count": 230,
   "metadata": {},
   "outputs": [],
   "source": [
    "mbk_labels= mbk_clusters.labels_"
   ]
  },
  {
   "cell_type": "code",
   "execution_count": 231,
   "metadata": {},
   "outputs": [
    {
     "data": {
      "text/plain": [
       "[(0, 6350), (1, 2847), (2, 288), (3, 8622), (4, 817)]"
      ]
     },
     "execution_count": 231,
     "metadata": {},
     "output_type": "execute_result"
    }
   ],
   "source": [
    "sorted(Counter(mbk_clusters.labels_).items())"
   ]
  },
  {
   "cell_type": "code",
   "execution_count": 232,
   "metadata": {},
   "outputs": [
    {
     "data": {
      "text/plain": [
       "6134.906334338031"
      ]
     },
     "execution_count": 232,
     "metadata": {},
     "output_type": "execute_result"
    }
   ],
   "source": [
    "mbk_clusters.inertia_"
   ]
  },
  {
   "cell_type": "markdown",
   "metadata": {},
   "source": [
    "Even though one cluster is continously getting less love the others, it appears that about 5 clusters is optimal for this data.  We can confirm this with a plot that shows the change in inertia as we increase clusters."
   ]
  },
  {
   "cell_type": "code",
   "execution_count": 204,
   "metadata": {},
   "outputs": [],
   "source": [
    "Sum_of_squared_distances = []\n",
    "K = range(1,15)\n",
    "for k in K:\n",
    "    km = KMeans(n_clusters=k)\n",
    "    km1= km.fit(tweet_vecs)\n",
    "    Sum_of_squared_distances.append(km1.inertia_)"
   ]
  },
  {
   "cell_type": "code",
   "execution_count": 205,
   "metadata": {},
   "outputs": [
    {
     "data": {
      "image/png": "[encoded data removed]",
      "text/plain": [
       "<Figure size 432x288 with 1 Axes>"
      ]
     },
     "metadata": {},
     "output_type": "display_data"
    }
   ],
   "source": [
    "plt.plot(K, Sum_of_squared_distances, 'bx-')\n",
    "plt.xlabel('k')\n",
    "plt.ylabel('Sum_of_squared_distances')\n",
    "plt.title('Elbow Method For Optimal k')\n",
    "plt.show()"
   ]
  },
  {
   "cell_type": "markdown",
   "metadata": {},
   "source": [
    "It seems that we are getting diminishing returns at about 5 clusters.  We will stick with this number."
   ]
  },
  {
   "cell_type": "markdown",
   "metadata": {},
   "source": [
    "Now, we can examine the different groups.  And do some sentiment analysis on main topics so see the difference in sentiment throughout topics, and the overall sentiment as well."
   ]
  },
  {
   "cell_type": "markdown",
   "metadata": {},
   "source": [
    "Let's load the sentences in a dataframe with cluster labels as one of the columns, so the tweets will be differentiated."
   ]
  },
  {
   "cell_type": "code",
   "execution_count": 233,
   "metadata": {},
   "outputs": [],
   "source": [
    "tweet_df = pd.DataFrame(sentences)\n",
    "tweet_df['Cluster Labels'] = mbk_labels"
   ]
  },
  {
   "cell_type": "code",
   "execution_count": 210,
   "metadata": {
    "collapsed": true
   },
   "outputs": [
    {
     "data": {
      "text/html": [
       "<div>\n",
       "<style>\n",
       "    .dataframe thead tr:only-child th {\n",
       "        text-align: right;\n",
       "    }\n",
       "\n",
       "    .dataframe thead th {\n",
       "        text-align: left;\n",
       "    }\n",
       "\n",
       "    .dataframe tbody tr th {\n",
       "        vertical-align: top;\n",
       "    }\n",
       "</style>\n",
       "<table border=\"1\" class=\"dataframe\">\n",
       "  <thead>\n",
       "    <tr style=\"text-align: right;\">\n",
       "      <th></th>\n",
       "      <th>0</th>\n",
       "      <th>Cluster Labels</th>\n",
       "    </tr>\n",
       "  </thead>\n",
       "  <tbody>\n",
       "    <tr>\n",
       "      <th>0</th>\n",
       "      <td>jeremymontanez  cnn  fakenews  enemyofthepe...</td>\n",
       "      <td>4</td>\n",
       "    </tr>\n",
       "    <tr>\n",
       "      <th>1</th>\n",
       "      <td>the left    they'e getting paid too much mon...</td>\n",
       "      <td>3</td>\n",
       "    </tr>\n",
       "    <tr>\n",
       "      <th>2</th>\n",
       "      <td>thats so good for you dear</td>\n",
       "      <td>3</td>\n",
       "    </tr>\n",
       "    <tr>\n",
       "      <th>3</th>\n",
       "      <td>cnn lawsuit over acosta access to wh claimed...</td>\n",
       "      <td>3</td>\n",
       "    </tr>\n",
       "    <tr>\n",
       "      <th>4</th>\n",
       "      <td>it s obvious that his bosses at cnn support...</td>\n",
       "      <td>4</td>\n",
       "    </tr>\n",
       "    <tr>\n",
       "      <th>5</th>\n",
       "      <td>sarah sanders responds to cnn lawsuit</td>\n",
       "      <td>1</td>\n",
       "    </tr>\n",
       "    <tr>\n",
       "      <th>6</th>\n",
       "      <td>sounds reasonable and therefore impossible</td>\n",
       "      <td>4</td>\n",
       "    </tr>\n",
       "    <tr>\n",
       "      <th>7</th>\n",
       "      <td>while the ludicrous  freedomfries jingoistic, ...</td>\n",
       "      <td>0</td>\n",
       "    </tr>\n",
       "    <tr>\n",
       "      <th>8</th>\n",
       "      <td>miley cyrus and liam hemsworth lost their ho...</td>\n",
       "      <td>4</td>\n",
       "    </tr>\n",
       "    <tr>\n",
       "      <th>9</th>\n",
       "      <td>retweet impoantmessages(likes just stay on y...</td>\n",
       "      <td>0</td>\n",
       "    </tr>\n",
       "  </tbody>\n",
       "</table>\n",
       "</div>"
      ],
      "text/plain": [
       "                                                   0  Cluster Labels\n",
       "0     jeremymontanez  cnn  fakenews  enemyofthepe...               4\n",
       "1    the left    they'e getting paid too much mon...               3\n",
       "2                      thats so good for you dear                  3\n",
       "3    cnn lawsuit over acosta access to wh claimed...               3\n",
       "4     it s obvious that his bosses at cnn support...               4\n",
       "5             sarah sanders responds to cnn lawsuit                1\n",
       "6        sounds reasonable and therefore impossible                4\n",
       "7  while the ludicrous  freedomfries jingoistic, ...               0\n",
       "8    miley cyrus and liam hemsworth lost their ho...               4\n",
       "9    retweet impoantmessages(likes just stay on y...               0"
      ]
     },
     "execution_count": 210,
     "metadata": {},
     "output_type": "execute_result"
    }
   ],
   "source": [
    "tweet_df.head(10)"
   ]
  },
  {
   "cell_type": "code",
   "execution_count": 212,
   "metadata": {},
   "outputs": [],
   "source": [
    "#Set max column width to view full sentences\n",
    "pd.set_option('display.max_colwidth', -1)\n",
    "tweet_df = tweet_df.rename(columns={0:'Tweet'})"
   ]
  },
  {
   "cell_type": "code",
   "execution_count": 213,
   "metadata": {
    "collapsed": true
   },
   "outputs": [
    {
     "data": {
      "text/html": [
       "<div>\n",
       "<style>\n",
       "    .dataframe thead tr:only-child th {\n",
       "        text-align: right;\n",
       "    }\n",
       "\n",
       "    .dataframe thead th {\n",
       "        text-align: left;\n",
       "    }\n",
       "\n",
       "    .dataframe tbody tr th {\n",
       "        vertical-align: top;\n",
       "    }\n",
       "</style>\n",
       "<table border=\"1\" class=\"dataframe\">\n",
       "  <thead>\n",
       "    <tr style=\"text-align: right;\">\n",
       "      <th></th>\n",
       "      <th>Tweet</th>\n",
       "      <th>Cluster Labels</th>\n",
       "    </tr>\n",
       "  </thead>\n",
       "  <tbody>\n",
       "    <tr>\n",
       "      <th>0</th>\n",
       "      <td>jeremymontanez  cnn  fakenews  enemyofthepeople  divideandconquer     fakestreammedia you ppl nd to take a good long look in the mirror  amp  c what u promote u all have  soldursoul ur all a bunch of  smiths under lucifers</td>\n",
       "      <td>4</td>\n",
       "    </tr>\n",
       "    <tr>\n",
       "      <th>1</th>\n",
       "      <td>the left    they'e getting paid too much money to just ignore it    never ever forget   in today's  usa many people wan</td>\n",
       "      <td>3</td>\n",
       "    </tr>\n",
       "    <tr>\n",
       "      <th>2</th>\n",
       "      <td>thats so good for you dear</td>\n",
       "      <td>3</td>\n",
       "    </tr>\n",
       "    <tr>\n",
       "      <th>3</th>\n",
       "      <td>cnn lawsuit over acosta access to wh claimed daily caller s chuck ross witnessed the acosta confrontation  ross does no</td>\n",
       "      <td>3</td>\n",
       "    </tr>\n",
       "    <tr>\n",
       "      <th>4</th>\n",
       "      <td>it s obvious that his bosses at cnn support what he s doing and most likely encourage it or they would hav</td>\n",
       "      <td>4</td>\n",
       "    </tr>\n",
       "    <tr>\n",
       "      <th>5</th>\n",
       "      <td>sarah sanders responds to cnn lawsuit</td>\n",
       "      <td>1</td>\n",
       "    </tr>\n",
       "    <tr>\n",
       "      <th>6</th>\n",
       "      <td>sounds reasonable and therefore impossible</td>\n",
       "      <td>4</td>\n",
       "    </tr>\n",
       "    <tr>\n",
       "      <th>7</th>\n",
       "      <td>while the ludicrous  freedomfries jingoistic, negative nationalistic fad was popular with then bush sycophants, (future trump voter base) fussy dick  cheney demanded perrier or calistoga be sent ahead to hotels he was scheduled to visit when with his wife</td>\n",
       "      <td>0</td>\n",
       "    </tr>\n",
       "    <tr>\n",
       "      <th>8</th>\n",
       "      <td>miley cyrus and liam hemsworth lost their home to a california wildfire, but the famous couple have donated  500,000 as they set t</td>\n",
       "      <td>4</td>\n",
       "    </tr>\n",
       "    <tr>\n",
       "      <th>9</th>\n",
       "      <td>retweet impoantmessages(likes just stay on your page, no one can see them! not even you(learn to retweetmake a differenc</td>\n",
       "      <td>0</td>\n",
       "    </tr>\n",
       "    <tr>\n",
       "      <th>10</th>\n",
       "      <td>i hear ya! going back to using your own money for stuff is depressing</td>\n",
       "      <td>4</td>\n",
       "    </tr>\n",
       "    <tr>\n",
       "      <th>11</th>\n",
       "      <td>if you support   and the freedom of speech, please retweet so we can hold  accountable for h</td>\n",
       "      <td>1</td>\n",
       "    </tr>\n",
       "    <tr>\n",
       "      <th>12</th>\n",
       "      <td>replaced regular nestles cocoa (my family has used nestles forever!) with</td>\n",
       "      <td>4</td>\n",
       "    </tr>\n",
       "    <tr>\n",
       "      <th>13</th>\n",
       "      <td>pbc and fox are announcing their first 10 cards on fox network and fs1 at a news conference in los angeles  1st one was</td>\n",
       "      <td>4</td>\n",
       "    </tr>\n",
       "    <tr>\n",
       "      <th>14</th>\n",
       "      <td>blah blah blah bet the gasoline prices won't drop at the pump</td>\n",
       "      <td>4</td>\n",
       "    </tr>\n",
       "    <tr>\n",
       "      <th>15</th>\n",
       "      <td>trump says he watches her \"a lot \" he should do it more   is what class and professionalism look like</td>\n",
       "      <td>3</td>\n",
       "    </tr>\n",
       "    <tr>\n",
       "      <th>16</th>\n",
       "      <td>it says there right in the constitution  people named jim acosta who physically accost young interns have a god given right t</td>\n",
       "      <td>3</td>\n",
       "    </tr>\n",
       "    <tr>\n",
       "      <th>17</th>\n",
       "      <td>god, please don t</td>\n",
       "      <td>3</td>\n",
       "    </tr>\n",
       "    <tr>\n",
       "      <th>18</th>\n",
       "      <td>ok but where do i sign up???</td>\n",
       "      <td>4</td>\n",
       "    </tr>\n",
       "    <tr>\n",
       "      <th>19</th>\n",
       "      <td>former cia officer  trump wh helping saudi crown prince cover up murder   reports</td>\n",
       "      <td>2</td>\n",
       "    </tr>\n",
       "    <tr>\n",
       "      <th>20</th>\n",
       "      <td>cnn sues president trump and top white house aides for barring jim acosta</td>\n",
       "      <td>1</td>\n",
       "    </tr>\n",
       "    <tr>\n",
       "      <th>21</th>\n",
       "      <td>with programing takeover by 2 murdock leftist sons   amp  it's programs (few exceptions) joined radical propagandist ranks of multi national corporations controlling media pushing globalism with fake news  amp  no longer reporting truth  republican  democrat  maga  ccot  gop  dnc</td>\n",
       "      <td>4</td>\n",
       "    </tr>\n",
       "    <tr>\n",
       "      <th>22</th>\n",
       "      <td>call in  833 599 nick</td>\n",
       "      <td>0</td>\n",
       "    </tr>\n",
       "    <tr>\n",
       "      <th>23</th>\n",
       "      <td>and they said mueller would never get any of them</td>\n",
       "      <td>3</td>\n",
       "    </tr>\n",
       "    <tr>\n",
       "      <th>24</th>\n",
       "      <td>thank you  for suing  over  pass being revoked  the president does not have the right to shut down reporters just because he doesn t like the questions  he has been violating the 1st amendment for too long   freedomofpress</td>\n",
       "      <td>3</td>\n",
       "    </tr>\n",
       "  </tbody>\n",
       "</table>\n",
       "</div>"
      ],
      "text/plain": [
       "                                                                                                                                                                                                                                                                                       Tweet  \\\n",
       "0      jeremymontanez  cnn  fakenews  enemyofthepeople  divideandconquer     fakestreammedia you ppl nd to take a good long look in the mirror  amp  c what u promote u all have  soldursoul ur all a bunch of  smiths under lucifers                                                          \n",
       "1     the left    they'e getting paid too much money to just ignore it    never ever forget   in today's  usa many people wan                                                                                                                                                                  \n",
       "2    thats so good for you dear                                                                                                                                                                                                                                                                \n",
       "3     cnn lawsuit over acosta access to wh claimed daily caller s chuck ross witnessed the acosta confrontation  ross does no                                                                                                                                                                  \n",
       "4      it s obvious that his bosses at cnn support what he s doing and most likely encourage it or they would hav                                                                                                                                                                              \n",
       "5     sarah sanders responds to cnn lawsuit                                                                                                                                                                                                                                                    \n",
       "6     sounds reasonable and therefore impossible                                                                                                                                                                                                                                               \n",
       "7   while the ludicrous  freedomfries jingoistic, negative nationalistic fad was popular with then bush sycophants, (future trump voter base) fussy dick  cheney demanded perrier or calistoga be sent ahead to hotels he was scheduled to visit when with his wife                            \n",
       "8     miley cyrus and liam hemsworth lost their home to a california wildfire, but the famous couple have donated  500,000 as they set t                                                                                                                                                       \n",
       "9     retweet impoantmessages(likes just stay on your page, no one can see them! not even you(learn to retweetmake a differenc                                                                                                                                                                 \n",
       "10    i hear ya! going back to using your own money for stuff is depressing                                                                                                                                                                                                                    \n",
       "11    if you support   and the freedom of speech, please retweet so we can hold  accountable for h                                                                                                                                                                                             \n",
       "12        replaced regular nestles cocoa (my family has used nestles forever!) with                                                                                                                                                                                                            \n",
       "13    pbc and fox are announcing their first 10 cards on fox network and fs1 at a news conference in los angeles  1st one was                                                                                                                                                                  \n",
       "14    blah blah blah bet the gasoline prices won't drop at the pump                                                                                                                                                                                                                            \n",
       "15    trump says he watches her \"a lot \" he should do it more   is what class and professionalism look like                                                                                                                                                                                    \n",
       "16    it says there right in the constitution  people named jim acosta who physically accost young interns have a god given right t                                                                                                                                                            \n",
       "17   god, please don t                                                                                                                                                                                                                                                                         \n",
       "18    ok but where do i sign up???                                                                                                                                                                                                                                                             \n",
       "19    former cia officer  trump wh helping saudi crown prince cover up murder   reports                                                                                                                                                                                                        \n",
       "20    cnn sues president trump and top white house aides for barring jim acosta                                                                                                                                                                                                                \n",
       "21  with programing takeover by 2 murdock leftist sons   amp  it's programs (few exceptions) joined radical propagandist ranks of multi national corporations controlling media pushing globalism with fake news  amp  no longer reporting truth  republican  democrat  maga  ccot  gop  dnc   \n",
       "22    call in  833 599 nick                                                                                                                                                                                                                                                                    \n",
       "23    and they said mueller would never get any of them                                                                                                                                                                                                                                        \n",
       "24  thank you  for suing  over  pass being revoked  the president does not have the right to shut down reporters just because he doesn t like the questions  he has been violating the 1st amendment for too long   freedomofpress                                                             \n",
       "\n",
       "    Cluster Labels  \n",
       "0   4               \n",
       "1   3               \n",
       "2   3               \n",
       "3   3               \n",
       "4   4               \n",
       "5   1               \n",
       "6   4               \n",
       "7   0               \n",
       "8   4               \n",
       "9   0               \n",
       "10  4               \n",
       "11  1               \n",
       "12  4               \n",
       "13  4               \n",
       "14  4               \n",
       "15  3               \n",
       "16  3               \n",
       "17  3               \n",
       "18  4               \n",
       "19  2               \n",
       "20  1               \n",
       "21  4               \n",
       "22  0               \n",
       "23  3               \n",
       "24  3               "
      ]
     },
     "execution_count": 213,
     "metadata": {},
     "output_type": "execute_result"
    }
   ],
   "source": [
    "tweet_df.head(25)"
   ]
  },
  {
   "cell_type": "code",
   "execution_count": 234,
   "metadata": {},
   "outputs": [
    {
     "data": {
      "text/plain": [
       "3    8622\n",
       "0    6350\n",
       "1    2847\n",
       "4    817 \n",
       "2    288 \n",
       "Name: Cluster Labels, dtype: int64"
      ]
     },
     "execution_count": 234,
     "metadata": {},
     "output_type": "execute_result"
    }
   ],
   "source": [
    "tweet_df['Cluster Labels'].value_counts()"
   ]
  },
  {
   "cell_type": "markdown",
   "metadata": {},
   "source": [
    "We're going to give each cluster their own dataframe."
   ]
  },
  {
   "cell_type": "code",
   "execution_count": 242,
   "metadata": {
    "collapsed": true
   },
   "outputs": [],
   "source": [
    "df_0 = tweet_df[tweet_df['Cluster Labels'] == 0]\n",
    "df_1 = tweet_df[tweet_df['Cluster Labels'] == 1]\n",
    "df_2 = tweet_df[tweet_df['Cluster Labels'] == 2]\n",
    "df_3 = tweet_df[tweet_df['Cluster Labels'] == 3]\n",
    "df_4 = tweet_df[tweet_df['Cluster Labels'] == 4] "
   ]
  },
  {
   "cell_type": "code",
   "execution_count": 243,
   "metadata": {},
   "outputs": [
    {
     "data": {
      "text/html": [
       "<div>\n",
       "<style>\n",
       "    .dataframe thead tr:only-child th {\n",
       "        text-align: right;\n",
       "    }\n",
       "\n",
       "    .dataframe thead th {\n",
       "        text-align: left;\n",
       "    }\n",
       "\n",
       "    .dataframe tbody tr th {\n",
       "        vertical-align: top;\n",
       "    }\n",
       "</style>\n",
       "<table border=\"1\" class=\"dataframe\">\n",
       "  <thead>\n",
       "    <tr style=\"text-align: right;\">\n",
       "      <th></th>\n",
       "      <th>Tweet</th>\n",
       "      <th>Cluster Labels</th>\n",
       "    </tr>\n",
       "  </thead>\n",
       "  <tbody>\n",
       "    <tr>\n",
       "      <th>6</th>\n",
       "      <td>sounds reasonable and therefore impossible</td>\n",
       "      <td>0</td>\n",
       "    </tr>\n",
       "    <tr>\n",
       "      <th>7</th>\n",
       "      <td>while the ludicrous  freedomfries jingoistic, negative nationalistic fad was popular with then bush sycophants, (future trump voter base) fussy dick  cheney demanded perrier or calistoga be sent ahead to hotels he was scheduled to visit when with his wife</td>\n",
       "      <td>0</td>\n",
       "    </tr>\n",
       "    <tr>\n",
       "      <th>9</th>\n",
       "      <td>retweet impoantmessages(likes just stay on your page, no one can see them! not even you(learn to retweetmake a differenc</td>\n",
       "      <td>0</td>\n",
       "    </tr>\n",
       "    <tr>\n",
       "      <th>12</th>\n",
       "      <td>replaced regular nestles cocoa (my family has used nestles forever!) with</td>\n",
       "      <td>0</td>\n",
       "    </tr>\n",
       "    <tr>\n",
       "      <th>14</th>\n",
       "      <td>blah blah blah bet the gasoline prices won't drop at the pump</td>\n",
       "      <td>0</td>\n",
       "    </tr>\n",
       "    <tr>\n",
       "      <th>18</th>\n",
       "      <td>ok but where do i sign up???</td>\n",
       "      <td>0</td>\n",
       "    </tr>\n",
       "    <tr>\n",
       "      <th>22</th>\n",
       "      <td>call in  833 599 nick</td>\n",
       "      <td>0</td>\n",
       "    </tr>\n",
       "    <tr>\n",
       "      <th>31</th>\n",
       "      <td>good!!</td>\n",
       "      <td>0</td>\n",
       "    </tr>\n",
       "    <tr>\n",
       "      <th>39</th>\n",
       "      <td>tim, even though your race is not officially being electronically recounted    do the machines still</td>\n",
       "      <td>0</td>\n",
       "    </tr>\n",
       "    <tr>\n",
       "      <th>42</th>\n",
       "      <td>actually i would because no one is doing anything sexual, illegal, or immoral in a convention center</td>\n",
       "      <td>0</td>\n",
       "    </tr>\n",
       "    <tr>\n",
       "      <th>47</th>\n",
       "      <td>with so many wonderful  amp  inspiring women headed into the 116th congress (more than 100!), its an honor to be included in</td>\n",
       "      <td>0</td>\n",
       "    </tr>\n",
       "    <tr>\n",
       "      <th>51</th>\n",
       "      <td>1  while voter fraud is happening w evidence (many videos of wro</td>\n",
       "      <td>0</td>\n",
       "    </tr>\n",
       "    <tr>\n",
       "      <th>52</th>\n",
       "      <td>congratulations arizona!you rejected an american hero  who fought for your freedom!   electing a consti</td>\n",
       "      <td>0</td>\n",
       "    </tr>\n",
       "    <tr>\n",
       "      <th>55</th>\n",
       "      <td>after running a year long competition that drew interest from hundreds of cities and a number of states, amazon has chosen new yor</td>\n",
       "      <td>0</td>\n",
       "    </tr>\n",
       "    <tr>\n",
       "      <th>56</th>\n",
       "      <td>during her time as speaker, pelosi's ferocity   in the face of all but impossible odds   was essential to passing historic,</td>\n",
       "      <td>0</td>\n",
       "    </tr>\n",
       "    <tr>\n",
       "      <th>58</th>\n",
       "      <td>will likely ride his bicycle in slow circles at the end of the   driveway while glaring in the windows</td>\n",
       "      <td>0</td>\n",
       "    </tr>\n",
       "    <tr>\n",
       "      <th>73</th>\n",
       "      <td>first  get the tax returnsfirst  get the helsinki transcriptfirst  publish</td>\n",
       "      <td>0</td>\n",
       "    </tr>\n",
       "    <tr>\n",
       "      <th>81</th>\n",
       "      <td>apparently the caravans here and breaching trump's wall and yet i can find nothing on fox news about the doom and gloom of thi</td>\n",
       "      <td>0</td>\n",
       "    </tr>\n",
       "    <tr>\n",
       "      <th>87</th>\n",
       "      <td>how about being shameless? invade other countries, kill, torture, rape and capture ladies, make them sex slaves, and deny all of the war crimes yeah  that ll do</td>\n",
       "      <td>0</td>\n",
       "    </tr>\n",
       "    <tr>\n",
       "      <th>88</th>\n",
       "      <td>since when does a proclamation override federal regulations?</td>\n",
       "      <td>0</td>\n",
       "    </tr>\n",
       "    <tr>\n",
       "      <th>91</th>\n",
       "      <td>in its recitation of acosta s interactions with the white house, cnn s lawyers forgot to mention all of this to the fede</td>\n",
       "      <td>0</td>\n",
       "    </tr>\n",
       "    <tr>\n",
       "      <th>92</th>\n",
       "      <td>lookie here, folks!  see the hordes of invaders that george soros and the un and the eu have unleashed on the usa? this is just the first wave!we must prove to them that we will not allow our country to be taken down! the usa is not france!    buildthedamnwall</td>\n",
       "      <td>0</td>\n",
       "    </tr>\n",
       "    <tr>\n",
       "      <th>94</th>\n",
       "      <td>i added a video to a  playlist   sensational fox lawyer  warns trump he'll lose cnn  courtcase jim</td>\n",
       "      <td>0</td>\n",
       "    </tr>\n",
       "    <tr>\n",
       "      <th>95</th>\n",
       "      <td>at a production in mid june, pro trump agitator laura loomer jumps on the stage after caesar is graphically stabbed, shou</td>\n",
       "      <td>0</td>\n",
       "    </tr>\n",
       "    <tr>\n",
       "      <th>101</th>\n",
       "      <td>writer  does anyone love the  usmilitary less than   disrespectfuldonald</td>\n",
       "      <td>0</td>\n",
       "    </tr>\n",
       "    <tr>\n",
       "      <th>104</th>\n",
       "      <td>notice how she changed her explanation before  assaulted an internnow  wouldn't give up the micfor how much longer</td>\n",
       "      <td>0</td>\n",
       "    </tr>\n",
       "    <tr>\n",
       "      <th>108</th>\n",
       "      <td>incoming!</td>\n",
       "      <td>0</td>\n",
       "    </tr>\n",
       "    <tr>\n",
       "      <th>112</th>\n",
       "      <td>the  has now deleted this tweet with its appalling headline  it would be a shame if you retweeted this screenshot</td>\n",
       "      <td>0</td>\n",
       "    </tr>\n",
       "    <tr>\n",
       "      <th>116</th>\n",
       "      <td>justice is hummin  in d c  today  mueller s convenin  a grand jury and michael cohen is in town! a special thanks to</td>\n",
       "      <td>0</td>\n",
       "    </tr>\n",
       "    <tr>\n",
       "      <th>118</th>\n",
       "      <td>naked distraction du jour  agent orange holed up just doing tweeting for days  french shade  cohen in dc to</td>\n",
       "      <td>0</td>\n",
       "    </tr>\n",
       "    <tr>\n",
       "      <th>119</th>\n",
       "      <td>that further proves to me that cnn las forever lost their moral and journalistic compass! no wonder they are so low in the ratings!!</td>\n",
       "      <td>0</td>\n",
       "    </tr>\n",
       "    <tr>\n",
       "      <th>123</th>\n",
       "      <td>in 1985, a young  criticised a tory government planning to withdraw from unesco at the behest of  the far</td>\n",
       "      <td>0</td>\n",
       "    </tr>\n",
       "    <tr>\n",
       "      <th>145</th>\n",
       "      <td>unbelievable</td>\n",
       "      <td>0</td>\n",
       "    </tr>\n",
       "    <tr>\n",
       "      <th>148</th>\n",
       "      <td>go get screwed</td>\n",
       "      <td>0</td>\n",
       "    </tr>\n",
       "    <tr>\n",
       "      <th>149</th>\n",
       "      <td>white supremacy sitting at the resolute desk in the oval office  let that sink in for a minute</td>\n",
       "      <td>0</td>\n",
       "    </tr>\n",
       "    <tr>\n",
       "      <th>152</th>\n",
       "      <td>cnn is a carnival show</td>\n",
       "      <td>0</td>\n",
       "    </tr>\n",
       "    <tr>\n",
       "      <th>156</th>\n",
       "      <td>\"only a person whose ancestors or family members bore no risk of being lynched themselves would dismiss as  ridiculous' obj</td>\n",
       "      <td>0</td>\n",
       "    </tr>\n",
       "    <tr>\n",
       "      <th>165</th>\n",
       "      <td>there is a pay gap between genders in the same job fields</td>\n",
       "      <td>0</td>\n",
       "    </tr>\n",
       "    <tr>\n",
       "      <th>168</th>\n",
       "      <td>einstein visa recipient and catalog model melania trump has some thoughts on national security and they re as incoherent</td>\n",
       "      <td>0</td>\n",
       "    </tr>\n",
       "    <tr>\n",
       "      <th>170</th>\n",
       "      <td>people familiar with an audio recording of the killing of journalist jamal khashoggi say it contains an instruction to \"tell yo</td>\n",
       "      <td>0</td>\n",
       "    </tr>\n",
       "    <tr>\n",
       "      <th>174</th>\n",
       "      <td>so what s the single craziest, dishonest and trolliest op ed that we could get fox news to publish?  hold my beer    mitch mcconnell</td>\n",
       "      <td>0</td>\n",
       "    </tr>\n",
       "    <tr>\n",
       "      <th>185</th>\n",
       "      <td>trump reminded him who's house he was at</td>\n",
       "      <td>0</td>\n",
       "    </tr>\n",
       "    <tr>\n",
       "      <th>188</th>\n",
       "      <td>ok, i am a little naive sometimes ha ha but just so i am clear, twitches    louise mensche has us all on huge bloc</td>\n",
       "      <td>0</td>\n",
       "    </tr>\n",
       "    <tr>\n",
       "      <th>191</th>\n",
       "      <td>wapo called out acostathe atlantic called his \"performance journalism\" dangerousmsnbc criticized his behaviorand even cu</td>\n",
       "      <td>0</td>\n",
       "    </tr>\n",
       "    <tr>\n",
       "      <th>192</th>\n",
       "      <td>breaking  the white house correspondents' association is planning a massive walkout and strike until the trump adminis</td>\n",
       "      <td>0</td>\n",
       "    </tr>\n",
       "    <tr>\n",
       "      <th>196</th>\n",
       "      <td>cnn  \"poland marches with banners that have nazi and communist symbols\"</td>\n",
       "      <td>0</td>\n",
       "    </tr>\n",
       "    <tr>\n",
       "      <th>202</th>\n",
       "      <td>brian kemp, the man in charge of the georgia governor election, in which he himself is a candidate, thinks 21,000 uncounte</td>\n",
       "      <td>0</td>\n",
       "    </tr>\n",
       "    <tr>\n",
       "      <th>205</th>\n",
       "      <td>woodward on cnn  remedy isn't a lawsuit, 'it's more serious reporting'</td>\n",
       "      <td>0</td>\n",
       "    </tr>\n",
       "    <tr>\n",
       "      <th>216</th>\n",
       "      <td>loveeeeeeeeee thissssssssss        the city has its downfalls but there is still a lot of beauty and nature between the cracks too</td>\n",
       "      <td>0</td>\n",
       "    </tr>\n",
       "    <tr>\n",
       "      <th>228</th>\n",
       "      <td>it's even worse when cnn considers that as 'leading news'   haha!  what dopes they are!</td>\n",
       "      <td>0</td>\n",
       "    </tr>\n",
       "  </tbody>\n",
       "</table>\n",
       "</div>"
      ],
      "text/plain": [
       "                                                                                                                                                                                                                                                                      Tweet  \\\n",
       "6      sounds reasonable and therefore impossible                                                                                                                                                                                                                             \n",
       "7    while the ludicrous  freedomfries jingoistic, negative nationalistic fad was popular with then bush sycophants, (future trump voter base) fussy dick  cheney demanded perrier or calistoga be sent ahead to hotels he was scheduled to visit when with his wife          \n",
       "9      retweet impoantmessages(likes just stay on your page, no one can see them! not even you(learn to retweetmake a differenc                                                                                                                                               \n",
       "12         replaced regular nestles cocoa (my family has used nestles forever!) with                                                                                                                                                                                          \n",
       "14     blah blah blah bet the gasoline prices won't drop at the pump                                                                                                                                                                                                          \n",
       "18     ok but where do i sign up???                                                                                                                                                                                                                                           \n",
       "22     call in  833 599 nick                                                                                                                                                                                                                                                  \n",
       "31     good!!                                                                                                                                                                                                                                                                 \n",
       "39       tim, even though your race is not officially being electronically recounted    do the machines still                                                                                                                                                                 \n",
       "42      actually i would because no one is doing anything sexual, illegal, or immoral in a convention center                                                                                                                                                                  \n",
       "47     with so many wonderful  amp  inspiring women headed into the 116th congress (more than 100!), its an honor to be included in                                                                                                                                           \n",
       "51            1  while voter fraud is happening w evidence (many videos of wro                                                                                                                                                                                                \n",
       "52      congratulations arizona!you rejected an american hero  who fought for your freedom!   electing a consti                                                                                                                                                               \n",
       "55     after running a year long competition that drew interest from hundreds of cities and a number of states, amazon has chosen new yor                                                                                                                                     \n",
       "56     during her time as speaker, pelosi's ferocity   in the face of all but impossible odds   was essential to passing historic,                                                                                                                                            \n",
       "58       will likely ride his bicycle in slow circles at the end of the   driveway while glaring in the windows                                                                                                                                                               \n",
       "73         first  get the tax returnsfirst  get the helsinki transcriptfirst  publish                                                                                                                                                                                         \n",
       "81     apparently the caravans here and breaching trump's wall and yet i can find nothing on fox news about the doom and gloom of thi                                                                                                                                         \n",
       "87    how about being shameless? invade other countries, kill, torture, rape and capture ladies, make them sex slaves, and deny all of the war crimes yeah  that ll do                                                                                                        \n",
       "88      since when does a proclamation override federal regulations?                                                                                                                                                                                                          \n",
       "91     in its recitation of acosta s interactions with the white house, cnn s lawyers forgot to mention all of this to the fede                                                                                                                                               \n",
       "92     lookie here, folks!  see the hordes of invaders that george soros and the un and the eu have unleashed on the usa? this is just the first wave!we must prove to them that we will not allow our country to be taken down! the usa is not france!    buildthedamnwall   \n",
       "94   i added a video to a  playlist   sensational fox lawyer  warns trump he'll lose cnn  courtcase jim                                                                                                                                                                       \n",
       "95      at a production in mid june, pro trump agitator laura loomer jumps on the stage after caesar is graphically stabbed, shou                                                                                                                                             \n",
       "101    writer  does anyone love the  usmilitary less than   disrespectfuldonald                                                                                                                                                                                               \n",
       "104    notice how she changed her explanation before  assaulted an internnow  wouldn't give up the micfor how much longer                                                                                                                                                     \n",
       "108   incoming!                                                                                                                                                                                                                                                               \n",
       "112    the  has now deleted this tweet with its appalling headline  it would be a shame if you retweeted this screenshot                                                                                                                                                      \n",
       "116    justice is hummin  in d c  today  mueller s convenin  a grand jury and michael cohen is in town! a special thanks to                                                                                                                                                   \n",
       "118     naked distraction du jour  agent orange holed up just doing tweeting for days  french shade  cohen in dc to                                                                                                                                                           \n",
       "119   that further proves to me that cnn las forever lost their moral and journalistic compass! no wonder they are so low in the ratings!!                                                                                                                                    \n",
       "123    in 1985, a young  criticised a tory government planning to withdraw from unesco at the behest of  the far                                                                                                                                                              \n",
       "145  unbelievable                                                                                                                                                                                                                                                             \n",
       "148   go get screwed                                                                                                                                                                                                                                                          \n",
       "149     white supremacy sitting at the resolute desk in the oval office  let that sink in for a minute                                                                                                                                                                        \n",
       "152  cnn is a carnival show                                                                                                                                                                                                                                                   \n",
       "156    \"only a person whose ancestors or family members bore no risk of being lynched themselves would dismiss as  ridiculous' obj                                                                                                                                            \n",
       "165      there is a pay gap between genders in the same job fields                                                                                                                                                                                                            \n",
       "168    einstein visa recipient and catalog model melania trump has some thoughts on national security and they re as incoherent                                                                                                                                               \n",
       "170    people familiar with an audio recording of the killing of journalist jamal khashoggi say it contains an instruction to \"tell yo                                                                                                                                        \n",
       "174   so what s the single craziest, dishonest and trolliest op ed that we could get fox news to publish?  hold my beer    mitch mcconnell                                                                                                                                    \n",
       "185     trump reminded him who's house he was at                                                                                                                                                                                                                              \n",
       "188    ok, i am a little naive sometimes ha ha but just so i am clear, twitches    louise mensche has us all on huge bloc                                                                                                                                                     \n",
       "191    wapo called out acostathe atlantic called his \"performance journalism\" dangerousmsnbc criticized his behaviorand even cu                                                                                                                                               \n",
       "192    breaking  the white house correspondents' association is planning a massive walkout and strike until the trump adminis                                                                                                                                                 \n",
       "196    cnn  \"poland marches with banners that have nazi and communist symbols\"                                                                                                                                                                                                \n",
       "202    brian kemp, the man in charge of the georgia governor election, in which he himself is a candidate, thinks 21,000 uncounte                                                                                                                                             \n",
       "205  woodward on cnn  remedy isn't a lawsuit, 'it's more serious reporting'                                                                                                                                                                                                   \n",
       "216  loveeeeeeeeee thissssssssss        the city has its downfalls but there is still a lot of beauty and nature between the cracks too                                                                                                                                       \n",
       "228      it's even worse when cnn considers that as 'leading news'   haha!  what dopes they are!                                                                                                                                                                              \n",
       "\n",
       "     Cluster Labels  \n",
       "6    0               \n",
       "7    0               \n",
       "9    0               \n",
       "12   0               \n",
       "14   0               \n",
       "18   0               \n",
       "22   0               \n",
       "31   0               \n",
       "39   0               \n",
       "42   0               \n",
       "47   0               \n",
       "51   0               \n",
       "52   0               \n",
       "55   0               \n",
       "56   0               \n",
       "58   0               \n",
       "73   0               \n",
       "81   0               \n",
       "87   0               \n",
       "88   0               \n",
       "91   0               \n",
       "92   0               \n",
       "94   0               \n",
       "95   0               \n",
       "101  0               \n",
       "104  0               \n",
       "108  0               \n",
       "112  0               \n",
       "116  0               \n",
       "118  0               \n",
       "119  0               \n",
       "123  0               \n",
       "145  0               \n",
       "148  0               \n",
       "149  0               \n",
       "152  0               \n",
       "156  0               \n",
       "165  0               \n",
       "168  0               \n",
       "170  0               \n",
       "174  0               \n",
       "185  0               \n",
       "188  0               \n",
       "191  0               \n",
       "192  0               \n",
       "196  0               \n",
       "202  0               \n",
       "205  0               \n",
       "216  0               \n",
       "228  0               "
      ]
     },
     "execution_count": 243,
     "metadata": {},
     "output_type": "execute_result"
    }
   ],
   "source": [
    "df_0.head(50)"
   ]
  },
  {
   "cell_type": "code",
   "execution_count": 237,
   "metadata": {},
   "outputs": [
    {
     "data": {
      "text/html": [
       "<div>\n",
       "<style>\n",
       "    .dataframe thead tr:only-child th {\n",
       "        text-align: right;\n",
       "    }\n",
       "\n",
       "    .dataframe thead th {\n",
       "        text-align: left;\n",
       "    }\n",
       "\n",
       "    .dataframe tbody tr th {\n",
       "        vertical-align: top;\n",
       "    }\n",
       "</style>\n",
       "<table border=\"1\" class=\"dataframe\">\n",
       "  <thead>\n",
       "    <tr style=\"text-align: right;\">\n",
       "      <th></th>\n",
       "      <th>0</th>\n",
       "      <th>Cluster Labels</th>\n",
       "    </tr>\n",
       "  </thead>\n",
       "  <tbody>\n",
       "    <tr>\n",
       "      <th>3</th>\n",
       "      <td>cnn lawsuit over acosta access to wh claimed daily caller s chuck ross witnessed the acosta confrontation  ross does no</td>\n",
       "      <td>1</td>\n",
       "    </tr>\n",
       "    <tr>\n",
       "      <th>11</th>\n",
       "      <td>if you support   and the freedom of speech, please retweet so we can hold  accountable for h</td>\n",
       "      <td>1</td>\n",
       "    </tr>\n",
       "    <tr>\n",
       "      <th>24</th>\n",
       "      <td>thank you  for suing  over  pass being revoked  the president does not have the right to shut down reporters just because he doesn t like the questions  he has been violating the 1st amendment for too long   freedomofpress</td>\n",
       "      <td>1</td>\n",
       "    </tr>\n",
       "    <tr>\n",
       "      <th>36</th>\n",
       "      <td>it shouldn t take a lawsuit from cnn to remind the president of the first amendment  the white house should reverse its decision</td>\n",
       "      <td>1</td>\n",
       "    </tr>\n",
       "    <tr>\n",
       "      <th>43</th>\n",
       "      <td>\" may have been an irritant to the president   but he was hardly a danger to him  so i think cnn's got a very good case</td>\n",
       "      <td>1</td>\n",
       "    </tr>\n",
       "    <tr>\n",
       "      <th>45</th>\n",
       "      <td>an actual first amendment lawyer on cnn's lawsuit  \"it s not that the president lacks authority to bar individuals who hav</td>\n",
       "      <td>1</td>\n",
       "    </tr>\n",
       "    <tr>\n",
       "      <th>60</th>\n",
       "      <td>when it rains it pours   on  trump bad decisions   cnn sues white house to regain access for reporter jim acosta</td>\n",
       "      <td>1</td>\n",
       "    </tr>\n",
       "    <tr>\n",
       "      <th>63</th>\n",
       "      <td>jim acosta and cnn sue white house for banning abusive jackass from from constitutional right to harass president  via</td>\n",
       "      <td>1</td>\n",
       "    </tr>\n",
       "    <tr>\n",
       "      <th>69</th>\n",
       "      <td>cnn gets several things wrong in its lawsuit against the white house  via</td>\n",
       "      <td>1</td>\n",
       "    </tr>\n",
       "    <tr>\n",
       "      <th>72</th>\n",
       "      <td>a few cnn reporters told me that they re embarrassed by acosta  amp  cnn  a wh correspondent from a major network (not fox)</td>\n",
       "      <td>1</td>\n",
       "    </tr>\n",
       "    <tr>\n",
       "      <th>77</th>\n",
       "      <td>per cnn's  both cnn and acosta are plaintiffs in the lawsuit  there are six defendants  trump, john kelly,  sarah</td>\n",
       "      <td>1</td>\n",
       "    </tr>\n",
       "    <tr>\n",
       "      <th>93</th>\n",
       "      <td>i hope they sue the shit outta them! it s also my hope that as part of the settlement sarah  clara bell  sanders is sent bac</td>\n",
       "      <td>1</td>\n",
       "    </tr>\n",
       "    <tr>\n",
       "      <th>99</th>\n",
       "      <td>breaking news cnn files lawsuit to restore acosta s press credentialsin related news</td>\n",
       "      <td>1</td>\n",
       "    </tr>\n",
       "    <tr>\n",
       "      <th>100</th>\n",
       "      <td>leave it to  to file a lawsuit filled with fake news</td>\n",
       "      <td>1</td>\n",
       "    </tr>\n",
       "    <tr>\n",
       "      <th>110</th>\n",
       "      <td>cnn's jim acosta acts like he's a journalist   but he's not</td>\n",
       "      <td>1</td>\n",
       "    </tr>\n",
       "    <tr>\n",
       "      <th>113</th>\n",
       "      <td>trump and the other defendants have until 11am wednesday to file responses to cnn and acosta's lawsuit  the judge has sch</td>\n",
       "      <td>1</td>\n",
       "    </tr>\n",
       "    <tr>\n",
       "      <th>117</th>\n",
       "      <td>acosta has access to the white house, the same every other opinion writer or op ed writer has  he remains a member of the</td>\n",
       "      <td>1</td>\n",
       "    </tr>\n",
       "    <tr>\n",
       "      <th>132</th>\n",
       "      <td>the press needs to be free to ask tough q</td>\n",
       "      <td>1</td>\n",
       "    </tr>\n",
       "    <tr>\n",
       "      <th>133</th>\n",
       "      <td>accuses  cnn of grandstanding says 1st amendment not served when a reporter tries to monopolize the floor  amp</td>\n",
       "      <td>1</td>\n",
       "    </tr>\n",
       "    <tr>\n",
       "      <th>137</th>\n",
       "      <td>daily caller reporter  on being named in the cnn trump lawsuit  i was not at the press conference as cnn su</td>\n",
       "      <td>1</td>\n",
       "    </tr>\n",
       "    <tr>\n",
       "      <th>141</th>\n",
       "      <td>donald trump s day so far   goes berserk about france  plans to fire kirstjen nielsen  cnn sues trump over jim acosta</td>\n",
       "      <td>1</td>\n",
       "    </tr>\n",
       "    <tr>\n",
       "      <th>142</th>\n",
       "      <td>so immigrants took over the white house now  well done</td>\n",
       "      <td>1</td>\n",
       "    </tr>\n",
       "    <tr>\n",
       "      <th>143</th>\n",
       "      <td>trump runs away when asked about cnn suing him  via</td>\n",
       "      <td>1</td>\n",
       "    </tr>\n",
       "    <tr>\n",
       "      <th>157</th>\n",
       "      <td>this is peak  soyintoxicationcnn sues president trump and top white house aides for barring jim acostaimagine being</td>\n",
       "      <td>1</td>\n",
       "    </tr>\n",
       "    <tr>\n",
       "      <th>158</th>\n",
       "      <td>good  i don't care if they think  is a preening jerk  the government can't deny him access  freedom of the press m</td>\n",
       "      <td>1</td>\n",
       "    </tr>\n",
       "    <tr>\n",
       "      <th>159</th>\n",
       "      <td>cnn suing president trump and top trump aides, alleging constitutional violations by the white house in their revoking jim acost</td>\n",
       "      <td>1</td>\n",
       "    </tr>\n",
       "    <tr>\n",
       "      <th>161</th>\n",
       "      <td>imo the wh shouldn t bother to hold daily briefings   if cnn acosta wins in court, i would cancel briefings  amp  give</td>\n",
       "      <td>1</td>\n",
       "    </tr>\n",
       "    <tr>\n",
       "      <th>162</th>\n",
       "      <td>can courts rescue democracy from trumpists? today 1  maryland sues trump for appointing hack whitaker acting ag  2  cnn sues</td>\n",
       "      <td>1</td>\n",
       "    </tr>\n",
       "    <tr>\n",
       "      <th>163</th>\n",
       "      <td>cnn s lawsuit is a political stunt  they falsely claim this reporter s hard pass was suspended because he asked \"tough q</td>\n",
       "      <td>1</td>\n",
       "    </tr>\n",
       "    <tr>\n",
       "      <th>171</th>\n",
       "      <td>new  wh statement on  cnn lawsuit  per</td>\n",
       "      <td>1</td>\n",
       "    </tr>\n",
       "    <tr>\n",
       "      <th>172</th>\n",
       "      <td>jimacosta is not banned from the wh, he just doesn't have a permanent press pass  he can still get a daily pass cnn</td>\n",
       "      <td>1</td>\n",
       "    </tr>\n",
       "    <tr>\n",
       "      <th>183</th>\n",
       "      <td>i support this lawsuit, but find it interesting that zucker let trump tell him who to ban from cnn during the primary if</td>\n",
       "      <td>1</td>\n",
       "    </tr>\n",
       "    <tr>\n",
       "      <th>194</th>\n",
       "      <td>reporting this news on  now  the judge in cnn v  trump will hold a hearing wednesday at 3 30pm</td>\n",
       "      <td>1</td>\n",
       "    </tr>\n",
       "    <tr>\n",
       "      <th>207</th>\n",
       "      <td>there's nothing in the constitution that says the president must have a press conference, that the president must call on</td>\n",
       "      <td>1</td>\n",
       "    </tr>\n",
       "    <tr>\n",
       "      <th>209</th>\n",
       "      <td>how much more of  and  do we have to put up with? a lawsuit against trump for having a press pass revoked? new</td>\n",
       "      <td>1</td>\n",
       "    </tr>\n",
       "    <tr>\n",
       "      <th>212</th>\n",
       "      <td>whatever the legal merits, being sued by cnn is a gift to trump</td>\n",
       "      <td>1</td>\n",
       "    </tr>\n",
       "    <tr>\n",
       "      <th>213</th>\n",
       "      <td>it would be a shame for  lawsuit if a video of him repeatedly yelling across the room at president trump at a pr</td>\n",
       "      <td>1</td>\n",
       "    </tr>\n",
       "    <tr>\n",
       "      <th>220</th>\n",
       "      <td>cnn sues  so their rude selfish showboating reporter can get out of  time out  for his disrespectful treatm</td>\n",
       "      <td>1</td>\n",
       "    </tr>\n",
       "    <tr>\n",
       "      <th>221</th>\n",
       "      <td>he didn't lose any rights  having a hard pass is a privilege, not a right!he needs to learn that unprofessional behavior gets</td>\n",
       "      <td>1</td>\n",
       "    </tr>\n",
       "    <tr>\n",
       "      <th>233</th>\n",
       "      <td>i would say ignorance, but trump supporters will take trumps side no matter how wrong he is, so just stupidity taking his credentials violates jim acosta's first amendment rights of freedom of the press  amp  his fifth amendment right for due process  wh cannot fix this one</td>\n",
       "      <td>1</td>\n",
       "    </tr>\n",
       "    <tr>\n",
       "      <th>238</th>\n",
       "      <td>the chances of seeing  tax returns just went way up</td>\n",
       "      <td>1</td>\n",
       "    </tr>\n",
       "    <tr>\n",
       "      <th>239</th>\n",
       "      <td>cnn sued the secret service agent at the gate who took his pass? oh wow  talk about a major optics fail</td>\n",
       "      <td>1</td>\n",
       "    </tr>\n",
       "    <tr>\n",
       "      <th>240</th>\n",
       "      <td>judge napolitano schools fox business host on acosta lawsuit  newsgrit</td>\n",
       "      <td>1</td>\n",
       "    </tr>\n",
       "    <tr>\n",
       "      <th>249</th>\n",
       "      <td>yep, ted olson the attorney for cnn doesn't have the balls to go on the mark levin show   specialreport</td>\n",
       "      <td>1</td>\n",
       "    </tr>\n",
       "    <tr>\n",
       "      <th>251</th>\n",
       "      <td>cnn sues trump administration, demands return of acosta's press pass   zero hedge  marxist  socialist  fake  news  media  deepstate</td>\n",
       "      <td>1</td>\n",
       "    </tr>\n",
       "    <tr>\n",
       "      <th>252</th>\n",
       "      <td>why do journalist thinks they can tell the president of u s america how things supposed to work  how simple fan journalist be</td>\n",
       "      <td>1</td>\n",
       "    </tr>\n",
       "    <tr>\n",
       "      <th>255</th>\n",
       "      <td>per  cnn s lawsuit about the suspension of  hard pass seeks  permanent relief  preventing the white hou</td>\n",
       "      <td>1</td>\n",
       "    </tr>\n",
       "    <tr>\n",
       "      <th>257</th>\n",
       "      <td>he s not important enough to be  loomered, to be honest</td>\n",
       "      <td>1</td>\n",
       "    </tr>\n",
       "    <tr>\n",
       "      <th>258</th>\n",
       "      <td>cnn files lawsuit against trump, doesn t mention   putting hands on female intern</td>\n",
       "      <td>1</td>\n",
       "    </tr>\n",
       "    <tr>\n",
       "      <th>263</th>\n",
       "      <td>now that they have to go before a judge, the white house has ditched the lie that acosta assaulted an intern and instead</td>\n",
       "      <td>1</td>\n",
       "    </tr>\n",
       "  </tbody>\n",
       "</table>\n",
       "</div>"
      ],
      "text/plain": [
       "                                                                                                                                                                                                                                                                                           0  \\\n",
       "3      cnn lawsuit over acosta access to wh claimed daily caller s chuck ross witnessed the acosta confrontation  ross does no                                                                                                                                                                 \n",
       "11     if you support   and the freedom of speech, please retweet so we can hold  accountable for h                                                                                                                                                                                            \n",
       "24   thank you  for suing  over  pass being revoked  the president does not have the right to shut down reporters just because he doesn t like the questions  he has been violating the 1st amendment for too long   freedomofpress                                                            \n",
       "36     it shouldn t take a lawsuit from cnn to remind the president of the first amendment  the white house should reverse its decision                                                                                                                                                        \n",
       "43     \" may have been an irritant to the president   but he was hardly a danger to him  so i think cnn's got a very good case                                                                                                                                                                 \n",
       "45     an actual first amendment lawyer on cnn's lawsuit  \"it s not that the president lacks authority to bar individuals who hav                                                                                                                                                              \n",
       "60     when it rains it pours   on  trump bad decisions   cnn sues white house to regain access for reporter jim acosta                                                                                                                                                                        \n",
       "63   jim acosta and cnn sue white house for banning abusive jackass from from constitutional right to harass president  via                                                                                                                                                                    \n",
       "69     cnn gets several things wrong in its lawsuit against the white house  via                                                                                                                                                                                                               \n",
       "72     a few cnn reporters told me that they re embarrassed by acosta  amp  cnn  a wh correspondent from a major network (not fox)                                                                                                                                                             \n",
       "77     per cnn's  both cnn and acosta are plaintiffs in the lawsuit  there are six defendants  trump, john kelly,  sarah                                                                                                                                                                       \n",
       "93     i hope they sue the shit outta them! it s also my hope that as part of the settlement sarah  clara bell  sanders is sent bac                                                                                                                                                            \n",
       "99              breaking news cnn files lawsuit to restore acosta s press credentialsin related news                                                                                                                                                                                           \n",
       "100    leave it to  to file a lawsuit filled with fake news                                                                                                                                                                                                                                    \n",
       "110    cnn's jim acosta acts like he's a journalist   but he's not                                                                                                                                                                                                                             \n",
       "113    trump and the other defendants have until 11am wednesday to file responses to cnn and acosta's lawsuit  the judge has sch                                                                                                                                                               \n",
       "117    acosta has access to the white house, the same every other opinion writer or op ed writer has  he remains a member of the                                                                                                                                                               \n",
       "132            the press needs to be free to ask tough q                                                                                                                                                                                                                                       \n",
       "133      accuses  cnn of grandstanding says 1st amendment not served when a reporter tries to monopolize the floor  amp                                                                                                                                                                        \n",
       "137    daily caller reporter  on being named in the cnn trump lawsuit  i was not at the press conference as cnn su                                                                                                                                                                             \n",
       "141    donald trump s day so far   goes berserk about france  plans to fire kirstjen nielsen  cnn sues trump over jim acosta                                                                                                                                                                   \n",
       "142   so immigrants took over the white house now  well done                                                                                                                                                                                                                                   \n",
       "143  trump runs away when asked about cnn suing him  via                                                                                                                                                                                                                                       \n",
       "157    this is peak  soyintoxicationcnn sues president trump and top white house aides for barring jim acostaimagine being                                                                                                                                                                     \n",
       "158    good  i don't care if they think  is a preening jerk  the government can't deny him access  freedom of the press m                                                                                                                                                                      \n",
       "159    cnn suing president trump and top trump aides, alleging constitutional violations by the white house in their revoking jim acost                                                                                                                                                        \n",
       "161     imo the wh shouldn t bother to hold daily briefings   if cnn acosta wins in court, i would cancel briefings  amp  give                                                                                                                                                                 \n",
       "162    can courts rescue democracy from trumpists? today 1  maryland sues trump for appointing hack whitaker acting ag  2  cnn sues                                                                                                                                                            \n",
       "163    cnn s lawsuit is a political stunt  they falsely claim this reporter s hard pass was suspended because he asked \"tough q                                                                                                                                                                \n",
       "171    new  wh statement on  cnn lawsuit  per                                                                                                                                                                                                                                                  \n",
       "172     jimacosta is not banned from the wh, he just doesn't have a permanent press pass  he can still get a daily pass cnn                                                                                                                                                                    \n",
       "183    i support this lawsuit, but find it interesting that zucker let trump tell him who to ban from cnn during the primary if                                                                                                                                                                \n",
       "194    reporting this news on  now  the judge in cnn v  trump will hold a hearing wednesday at 3 30pm                                                                                                                                                                                          \n",
       "207    there's nothing in the constitution that says the president must have a press conference, that the president must call on                                                                                                                                                               \n",
       "209    how much more of  and  do we have to put up with? a lawsuit against trump for having a press pass revoked? new                                                                                                                                                                          \n",
       "212    whatever the legal merits, being sued by cnn is a gift to trump                                                                                                                                                                                                                         \n",
       "213    it would be a shame for  lawsuit if a video of him repeatedly yelling across the room at president trump at a pr                                                                                                                                                                        \n",
       "220    cnn sues  so their rude selfish showboating reporter can get out of  time out  for his disrespectful treatm                                                                                                                                                                             \n",
       "221    he didn't lose any rights  having a hard pass is a privilege, not a right!he needs to learn that unprofessional behavior gets                                                                                                                                                           \n",
       "233      i would say ignorance, but trump supporters will take trumps side no matter how wrong he is, so just stupidity taking his credentials violates jim acosta's first amendment rights of freedom of the press  amp  his fifth amendment right for due process  wh cannot fix this one    \n",
       "238    the chances of seeing  tax returns just went way up                                                                                                                                                                                                                                     \n",
       "239    cnn sued the secret service agent at the gate who took his pass? oh wow  talk about a major optics fail                                                                                                                                                                                 \n",
       "240  judge napolitano schools fox business host on acosta lawsuit  newsgrit                                                                                                                                                                                                                    \n",
       "249  yep, ted olson the attorney for cnn doesn't have the balls to go on the mark levin show   specialreport                                                                                                                                                                                   \n",
       "251  cnn sues trump administration, demands return of acosta's press pass   zero hedge  marxist  socialist  fake  news  media  deepstate                                                                                                                                                       \n",
       "252   why do journalist thinks they can tell the president of u s america how things supposed to work  how simple fan journalist be                                                                                                                                                            \n",
       "255    per  cnn s lawsuit about the suspension of  hard pass seeks  permanent relief  preventing the white hou                                                                                                                                                                                 \n",
       "257    he s not important enough to be  loomered, to be honest                                                                                                                                                                                                                                 \n",
       "258    cnn files lawsuit against trump, doesn t mention   putting hands on female intern                                                                                                                                                                                                       \n",
       "263    now that they have to go before a judge, the white house has ditched the lie that acosta assaulted an intern and instead                                                                                                                                                                \n",
       "\n",
       "     Cluster Labels  \n",
       "3    1               \n",
       "11   1               \n",
       "24   1               \n",
       "36   1               \n",
       "43   1               \n",
       "45   1               \n",
       "60   1               \n",
       "63   1               \n",
       "69   1               \n",
       "72   1               \n",
       "77   1               \n",
       "93   1               \n",
       "99   1               \n",
       "100  1               \n",
       "110  1               \n",
       "113  1               \n",
       "117  1               \n",
       "132  1               \n",
       "133  1               \n",
       "137  1               \n",
       "141  1               \n",
       "142  1               \n",
       "143  1               \n",
       "157  1               \n",
       "158  1               \n",
       "159  1               \n",
       "161  1               \n",
       "162  1               \n",
       "163  1               \n",
       "171  1               \n",
       "172  1               \n",
       "183  1               \n",
       "194  1               \n",
       "207  1               \n",
       "209  1               \n",
       "212  1               \n",
       "213  1               \n",
       "220  1               \n",
       "221  1               \n",
       "233  1               \n",
       "238  1               \n",
       "239  1               \n",
       "240  1               \n",
       "249  1               \n",
       "251  1               \n",
       "252  1               \n",
       "255  1               \n",
       "257  1               \n",
       "258  1               \n",
       "263  1               "
      ]
     },
     "execution_count": 237,
     "metadata": {},
     "output_type": "execute_result"
    }
   ],
   "source": [
    "df_1.head(50)"
   ]
  },
  {
   "cell_type": "markdown",
   "metadata": {},
   "source": [
    "Now that each cluster has its own unique dataframe, we will compare sentiments of different groups towards the major talking points.\n",
    "The sentiments will be conducted through Vader sentiment.  This is a package that specializes in accurately detecting sentiments of social media users\n",
    "\n",
    "https://github.com/cjhutto/vaderSentiment\n",
    "\n",
    "For each list, we're going to record the sentiment for every tweet stored inside.  The metric that will be used is the compound score.  This is a score that balances the positivity and negativity of a statement.  The score will be between -1 (most extreme negative) and +1 (most extreme positive).  The threshold for a positive statement is any score greater than 0.05, while a negative statement is a score less than -0.05.  Any score in between these two values is considered a neutral statement.  Finally, we will take the mean score of all the compound scores for a given group. "
   ]
  },
  {
   "cell_type": "code",
   "execution_count": 258,
   "metadata": {
    "collapsed": true
   },
   "outputs": [],
   "source": [
    "from vaderSentiment.vaderSentiment import SentimentIntensityAnalyzer\n",
    "analyzer = SentimentIntensityAnalyzer()"
   ]
  },
  {
   "cell_type": "markdown",
   "metadata": {},
   "source": [
    "### 1. Jim Acosta"
   ]
  },
  {
   "cell_type": "code",
   "execution_count": 244,
   "metadata": {
    "collapsed": true
   },
   "outputs": [],
   "source": [
    "acosta0 = []\n",
    "for tweet in df_0['Tweet']:\n",
    "    if 'acosta' in tweet:\n",
    "        acosta0.append(tweet)"
   ]
  },
  {
   "cell_type": "code",
   "execution_count": 259,
   "metadata": {},
   "outputs": [],
   "source": [
    "acosta_sents0 = []\n",
    "for sentiment in acosta0:\n",
    "    vs = analyzer.polarity_scores(sentiment)\n",
    "    acosta_sents0.append(vs['compound'])"
   ]
  },
  {
   "cell_type": "code",
   "execution_count": 264,
   "metadata": {
    "collapsed": true
   },
   "outputs": [],
   "source": [
    "acosta_mean0 = np.mean(acosta_sents0)"
   ]
  },
  {
   "cell_type": "code",
   "execution_count": 245,
   "metadata": {
    "collapsed": true
   },
   "outputs": [],
   "source": [
    "acosta1 = []\n",
    "for tweet in df_1['Tweet']:\n",
    "    if 'acosta' in tweet:\n",
    "        acosta1.append(tweet)"
   ]
  },
  {
   "cell_type": "code",
   "execution_count": 260,
   "metadata": {
    "collapsed": true
   },
   "outputs": [],
   "source": [
    "acosta_sents1 = []\n",
    "for sentiment in acosta1:\n",
    "    vs = analyzer.polarity_scores(sentiment)\n",
    "    acosta_sents1.append(vs['compound'])"
   ]
  },
  {
   "cell_type": "code",
   "execution_count": 265,
   "metadata": {
    "collapsed": true
   },
   "outputs": [],
   "source": [
    "acosta_mean1 = np.mean(acosta_sents1)"
   ]
  },
  {
   "cell_type": "code",
   "execution_count": 246,
   "metadata": {
    "collapsed": true
   },
   "outputs": [],
   "source": [
    "acosta2 = []\n",
    "for tweet in df_2['Tweet']:\n",
    "    if 'acosta' in tweet:\n",
    "        acosta2.append(tweet)"
   ]
  },
  {
   "cell_type": "code",
   "execution_count": 261,
   "metadata": {
    "collapsed": true
   },
   "outputs": [],
   "source": [
    "acosta_sents2 = []\n",
    "for sentiment in acosta2:\n",
    "    vs = analyzer.polarity_scores(sentiment)\n",
    "    acosta_sents2.append(vs['compound'])"
   ]
  },
  {
   "cell_type": "code",
   "execution_count": 267,
   "metadata": {},
   "outputs": [
    {
     "name": "stderr",
     "output_type": "stream",
     "text": [
      "/Users/peyjmonahmad/anaconda3/lib/python3.6/site-packages/numpy/core/fromnumeric.py:2920: RuntimeWarning: Mean of empty slice.\n",
      "  out=out, **kwargs)\n",
      "/Users/peyjmonahmad/anaconda3/lib/python3.6/site-packages/numpy/core/_methods.py:85: RuntimeWarning: invalid value encountered in double_scalars\n",
      "  ret = ret.dtype.type(ret / rcount)\n"
     ]
    }
   ],
   "source": [
    "acosta_mean2 = np.mean(acosta_sents2)"
   ]
  },
  {
   "cell_type": "code",
   "execution_count": 247,
   "metadata": {
    "collapsed": true
   },
   "outputs": [],
   "source": [
    "acosta3 = []\n",
    "for tweet in df_3['Tweet']:\n",
    "    if 'acosta' in tweet:\n",
    "        acosta3.append(tweet)"
   ]
  },
  {
   "cell_type": "code",
   "execution_count": 262,
   "metadata": {
    "collapsed": true
   },
   "outputs": [],
   "source": [
    "acosta_sents3 = []\n",
    "for sentiment in acosta3:\n",
    "    vs = analyzer.polarity_scores(sentiment)\n",
    "    acosta_sents3.append(vs['compound'])"
   ]
  },
  {
   "cell_type": "code",
   "execution_count": 268,
   "metadata": {
    "collapsed": true
   },
   "outputs": [],
   "source": [
    "acosta_mean3 = np.mean(acosta_sents3)"
   ]
  },
  {
   "cell_type": "code",
   "execution_count": 248,
   "metadata": {
    "collapsed": true
   },
   "outputs": [],
   "source": [
    "acosta4 = []\n",
    "for tweet in df_4['Tweet']:\n",
    "    if 'acosta' in tweet:\n",
    "        acosta4.append(tweet)"
   ]
  },
  {
   "cell_type": "code",
   "execution_count": 263,
   "metadata": {
    "collapsed": true
   },
   "outputs": [],
   "source": [
    "acosta_sents4 = []\n",
    "for sentiment in acosta4:\n",
    "    vs = analyzer.polarity_scores(sentiment)\n",
    "    acosta_sents4.append(vs['compound'])"
   ]
  },
  {
   "cell_type": "code",
   "execution_count": 269,
   "metadata": {
    "collapsed": true
   },
   "outputs": [],
   "source": [
    "acosta_mean4 = np.mean(acosta_sents4)"
   ]
  },
  {
   "cell_type": "markdown",
   "metadata": {},
   "source": [
    "Group 2 doesn't have any tweets containing Acosta, so that group will be excluded."
   ]
  },
  {
   "cell_type": "code",
   "execution_count": 275,
   "metadata": {},
   "outputs": [],
   "source": [
    "acosta_x = ['Group 0','Group 1','Group 3','Group 4']\n",
    "acosta_y = [acosta_mean0,acosta_mean1,acosta_mean3,acosta_mean4]"
   ]
  },
  {
   "cell_type": "code",
   "execution_count": 276,
   "metadata": {},
   "outputs": [
    {
     "data": {
      "text/plain": [
       "Text(0.5, 1.0, 'Sentiment towards Jim Acosta')"
      ]
     },
     "execution_count": 276,
     "metadata": {},
     "output_type": "execute_result"
    },
    {
     "data": {
      "image/png": "[encoded data removed]",
      "text/plain": [
       "<Figure size 432x288 with 1 Axes>"
      ]
     },
     "metadata": {},
     "output_type": "display_data"
    }
   ],
   "source": [
    "plt.bar(acosta_x,acosta_y)\n",
    "plt.title('Sentiment towards Jim Acosta')"
   ]
  },
  {
   "cell_type": "markdown",
   "metadata": {},
   "source": [
    "As you can see, three out of the four clusters have a slightly negative sentiment towards Jim Acosta of less than -0.05.  We expect the overall sentiment to be slightly negative as well, and we can confirm that by taking the mean of all four groups."
   ]
  },
  {
   "cell_type": "code",
   "execution_count": 277,
   "metadata": {},
   "outputs": [
    {
     "data": {
      "text/plain": [
       "-0.10776113306982872"
      ]
     },
     "execution_count": 277,
     "metadata": {},
     "output_type": "execute_result"
    }
   ],
   "source": [
    "total_acosta_sents = acosta_sents0 + acosta_sents1 + acosta_sents3 + acosta_sents4\n",
    "np.mean(total_acosta_sents)"
   ]
  },
  {
   "cell_type": "markdown",
   "metadata": {},
   "source": [
    "Overall, the sentiment towards Jim acosta is considered negative, but it was close to neutral."
   ]
  },
  {
   "cell_type": "markdown",
   "metadata": {},
   "source": [
    "The words press and judge were very prevalent throughout the dataset, which will be analyzed next.  It seems that these words were mostly being used in the context of Freedom of Press, and the judge decision regarding CNN coresspondent Jim acosta."
   ]
  },
  {
   "cell_type": "markdown",
   "metadata": {},
   "source": [
    "### 2. Press (Freedom of Press)"
   ]
  },
  {
   "cell_type": "code",
   "execution_count": 279,
   "metadata": {
    "collapsed": true
   },
   "outputs": [],
   "source": [
    "press0 = []\n",
    "for tweet in df_0['Tweet']:\n",
    "    if 'press' in tweet:\n",
    "        press0.append(tweet)"
   ]
  },
  {
   "cell_type": "code",
   "execution_count": 280,
   "metadata": {
    "collapsed": true
   },
   "outputs": [],
   "source": [
    "press_sents0 = []\n",
    "for sentiment in press0:\n",
    "    vs = analyzer.polarity_scores(sentiment)\n",
    "    press_sents0.append(vs['compound'])"
   ]
  },
  {
   "cell_type": "code",
   "execution_count": 281,
   "metadata": {
    "collapsed": true
   },
   "outputs": [],
   "source": [
    "press_mean0 = np.mean(press_sents0)"
   ]
  },
  {
   "cell_type": "code",
   "execution_count": 282,
   "metadata": {
    "collapsed": true
   },
   "outputs": [],
   "source": [
    "press1 = []\n",
    "for tweet in df_1['Tweet']:\n",
    "    if 'press' in tweet:\n",
    "        press1.append(tweet)"
   ]
  },
  {
   "cell_type": "code",
   "execution_count": 283,
   "metadata": {
    "collapsed": true
   },
   "outputs": [],
   "source": [
    "press_sents1 = []\n",
    "for sentiment in press1:\n",
    "    vs = analyzer.polarity_scores(sentiment)\n",
    "    press_sents1.append(vs['compound'])"
   ]
  },
  {
   "cell_type": "code",
   "execution_count": 284,
   "metadata": {
    "collapsed": true
   },
   "outputs": [],
   "source": [
    "press_mean1 = np.mean(press_sents1)"
   ]
  },
  {
   "cell_type": "code",
   "execution_count": 285,
   "metadata": {
    "collapsed": true
   },
   "outputs": [],
   "source": [
    "press2 = []\n",
    "for tweet in df_2['Tweet']:\n",
    "    if 'press' in tweet:\n",
    "        press2.append(tweet)"
   ]
  },
  {
   "cell_type": "code",
   "execution_count": 286,
   "metadata": {
    "collapsed": true
   },
   "outputs": [],
   "source": [
    "press_sents2 = []\n",
    "for sentiment in press2:\n",
    "    vs = analyzer.polarity_scores(sentiment)\n",
    "    press_sents2.append(vs['compound'])"
   ]
  },
  {
   "cell_type": "code",
   "execution_count": 287,
   "metadata": {
    "collapsed": true
   },
   "outputs": [],
   "source": [
    "press_mean2 = np.mean(press_sents2)"
   ]
  },
  {
   "cell_type": "code",
   "execution_count": 288,
   "metadata": {
    "collapsed": true
   },
   "outputs": [],
   "source": [
    "press3 = []\n",
    "for tweet in df_3['Tweet']:\n",
    "    if 'press' in tweet:\n",
    "        press3.append(tweet)"
   ]
  },
  {
   "cell_type": "code",
   "execution_count": 289,
   "metadata": {
    "collapsed": true
   },
   "outputs": [],
   "source": [
    "press_sents3 = []\n",
    "for sentiment in press3:\n",
    "    vs = analyzer.polarity_scores(sentiment)\n",
    "    press_sents3.append(vs['compound'])"
   ]
  },
  {
   "cell_type": "code",
   "execution_count": 290,
   "metadata": {
    "collapsed": true
   },
   "outputs": [],
   "source": [
    "press_mean3 = np.mean(press_sents3)"
   ]
  },
  {
   "cell_type": "code",
   "execution_count": 291,
   "metadata": {
    "collapsed": true
   },
   "outputs": [],
   "source": [
    "press4 = []\n",
    "for tweet in df_4['Tweet']:\n",
    "    if 'press' in tweet:\n",
    "        press4.append(tweet)"
   ]
  },
  {
   "cell_type": "code",
   "execution_count": 292,
   "metadata": {
    "collapsed": true
   },
   "outputs": [],
   "source": [
    "press_sents4 = []\n",
    "for sentiment in press4:\n",
    "    vs = analyzer.polarity_scores(sentiment)\n",
    "    press_sents4.append(vs['compound'])"
   ]
  },
  {
   "cell_type": "code",
   "execution_count": 293,
   "metadata": {
    "collapsed": true
   },
   "outputs": [],
   "source": [
    "press_mean4 = np.mean(press_sents4)"
   ]
  },
  {
   "cell_type": "code",
   "execution_count": 299,
   "metadata": {
    "collapsed": true
   },
   "outputs": [],
   "source": [
    "press_x = ['Group 0','Group 1','Group 3','Group 4']\n",
    "press_y = [press_mean0,press_mean1,press_mean3,press_mean4]"
   ]
  },
  {
   "cell_type": "code",
   "execution_count": 300,
   "metadata": {},
   "outputs": [
    {
     "data": {
      "text/plain": [
       "Text(0.5, 1.0, 'Sentiment towards Freedom of Press')"
      ]
     },
     "execution_count": 300,
     "metadata": {},
     "output_type": "execute_result"
    },
    {
     "data": {
      "image/png": "[encoded data removed]",
      "text/plain": [
       "<Figure size 432x288 with 1 Axes>"
      ]
     },
     "metadata": {},
     "output_type": "display_data"
    }
   ],
   "source": [
    "plt.bar(press_x,press_y)\n",
    "plt.title('Sentiment towards Freedom of Press')"
   ]
  },
  {
   "cell_type": "markdown",
   "metadata": {},
   "source": [
    "Throughout the groups, it is apparent that different groups generally feel positive about freedom of press.  This seems that regardless of how people feel about the situation, they will support someone's right for a freedom of press."
   ]
  },
  {
   "cell_type": "markdown",
   "metadata": {},
   "source": [
    "### 3. Judge"
   ]
  },
  {
   "cell_type": "code",
   "execution_count": 301,
   "metadata": {
    "collapsed": true
   },
   "outputs": [],
   "source": [
    "judge0 = []\n",
    "for tweet in df_0['Tweet']:\n",
    "    if 'judge' in tweet:\n",
    "        judge0.append(tweet)"
   ]
  },
  {
   "cell_type": "code",
   "execution_count": 302,
   "metadata": {
    "collapsed": true
   },
   "outputs": [],
   "source": [
    "judge_sents0 = []\n",
    "for sentiment in judge0:\n",
    "    vs = analyzer.polarity_scores(sentiment)\n",
    "    judge_sents0.append(vs['compound'])"
   ]
  },
  {
   "cell_type": "code",
   "execution_count": 303,
   "metadata": {
    "collapsed": true
   },
   "outputs": [],
   "source": [
    "judge_mean0 = np.mean(judge_sents0)"
   ]
  },
  {
   "cell_type": "code",
   "execution_count": 304,
   "metadata": {
    "collapsed": true
   },
   "outputs": [],
   "source": [
    "judge1 = []\n",
    "for tweet in df_1['Tweet']:\n",
    "    if 'judge' in tweet:\n",
    "        judge1.append(tweet)"
   ]
  },
  {
   "cell_type": "code",
   "execution_count": 305,
   "metadata": {
    "collapsed": true
   },
   "outputs": [],
   "source": [
    "judge_sents1 = []\n",
    "for sentiment in judge1:\n",
    "    vs = analyzer.polarity_scores(sentiment)\n",
    "    judge_sents1.append(vs['compound'])"
   ]
  },
  {
   "cell_type": "code",
   "execution_count": 306,
   "metadata": {
    "collapsed": true
   },
   "outputs": [],
   "source": [
    "judge_mean1 = np.mean(judge_sents1)"
   ]
  },
  {
   "cell_type": "code",
   "execution_count": 310,
   "metadata": {
    "collapsed": true
   },
   "outputs": [],
   "source": [
    "judge3 = []\n",
    "for tweet in df_3['Tweet']:\n",
    "    if 'judge' in tweet:\n",
    "        judge3.append(tweet)"
   ]
  },
  {
   "cell_type": "code",
   "execution_count": 311,
   "metadata": {
    "collapsed": true
   },
   "outputs": [],
   "source": [
    "judge_sents3 = []\n",
    "for sentiment in judge3:\n",
    "    vs = analyzer.polarity_scores(sentiment)\n",
    "    judge_sents3.append(vs['compound'])"
   ]
  },
  {
   "cell_type": "code",
   "execution_count": 312,
   "metadata": {},
   "outputs": [],
   "source": [
    "judge_mean3 = np.mean(judge_sents3)"
   ]
  },
  {
   "cell_type": "code",
   "execution_count": 316,
   "metadata": {
    "collapsed": true
   },
   "outputs": [],
   "source": [
    "judge_x = ['Group 0','Group 1','Group 3']\n",
    "judge_y = [judge_mean0,judge_mean1,judge_mean3]"
   ]
  },
  {
   "cell_type": "code",
   "execution_count": 317,
   "metadata": {},
   "outputs": [
    {
     "data": {
      "text/plain": [
       "Text(0.5, 1.0, 'Sentiment towards Judge')"
      ]
     },
     "execution_count": 317,
     "metadata": {},
     "output_type": "execute_result"
    },
    {
     "data": {
      "image/png": "[encoded data removed]",
      "text/plain": [
       "<Figure size 432x288 with 1 Axes>"
      ]
     },
     "metadata": {},
     "output_type": "display_data"
    }
   ],
   "source": [
    "plt.bar(judge_x,judge_y)\n",
    "plt.title('Sentiment towards Judge')"
   ]
  },
  {
   "cell_type": "markdown",
   "metadata": {},
   "source": [
    "The picture is less clear for the sentiment towards the judge decision.  Two out of the three groups had a neutral sentiment, while the other was slightly negative.  Let's calculate the overall sentiment."
   ]
  },
  {
   "cell_type": "code",
   "execution_count": 318,
   "metadata": {
    "collapsed": true
   },
   "outputs": [],
   "source": [
    "total_judge = judge_sents0 + judge_sents1 + judge_sents3"
   ]
  },
  {
   "cell_type": "code",
   "execution_count": 319,
   "metadata": {},
   "outputs": [
    {
     "data": {
      "text/plain": [
       "-0.030337204724409452"
      ]
     },
     "execution_count": 319,
     "metadata": {},
     "output_type": "execute_result"
    }
   ],
   "source": [
    "np.mean(total_judge)"
   ]
  },
  {
   "cell_type": "markdown",
   "metadata": {},
   "source": [
    "Overall, since the sentiment is between -0.05 and 0.05, we deem the sentiment towards the judge decision as neutral."
   ]
  },
  {
   "cell_type": "markdown",
   "metadata": {},
   "source": [
    "There are a few more topics that are not as prevalant, but still significant, such as Michael Avenatti, Stacey Abrams, and the Saudi Prince.  It'll be interesting to see the sentiment about these topics."
   ]
  },
  {
   "cell_type": "markdown",
   "metadata": {},
   "source": [
    "### 4. Michael Avenatti"
   ]
  },
  {
   "cell_type": "code",
   "execution_count": 324,
   "metadata": {
    "collapsed": true
   },
   "outputs": [],
   "source": [
    "avenatti_0 = []\n",
    "for tweet in df_0['Tweet']:\n",
    "    if 'avenatti' in tweet:\n",
    "        avenatti_0.append(tweet)"
   ]
  },
  {
   "cell_type": "code",
   "execution_count": 325,
   "metadata": {
    "collapsed": true
   },
   "outputs": [],
   "source": [
    "avenatti_sents0 = []\n",
    "for sentiment in avenatti_0:\n",
    "    vs = analyzer.polarity_scores(sentiment)\n",
    "    avenatti_sents0.append(vs['compound'])"
   ]
  },
  {
   "cell_type": "code",
   "execution_count": 327,
   "metadata": {},
   "outputs": [],
   "source": [
    "avenatti_mean0 = np.mean(avenatti_sents0)"
   ]
  },
  {
   "cell_type": "code",
   "execution_count": 328,
   "metadata": {
    "collapsed": true
   },
   "outputs": [],
   "source": [
    "avenatti_1 = []\n",
    "for tweet in df_1['Tweet']:\n",
    "    if 'avenatti' in tweet:\n",
    "        avenatti_1.append(tweet)"
   ]
  },
  {
   "cell_type": "code",
   "execution_count": null,
   "metadata": {
    "collapsed": true
   },
   "outputs": [],
   "source": [
    "avenatti_sents1 = []\n",
    "for sentiment in avenatti_1:\n",
    "    vs = analyzer.polarity_scores(sentiment)\n",
    "    avenatti_sents1.append(vs['compound'])"
   ]
  },
  {
   "cell_type": "code",
   "execution_count": 330,
   "metadata": {
    "collapsed": true
   },
   "outputs": [],
   "source": [
    "avenatti_mean1 = np.mean(avenatti_sents1)"
   ]
  },
  {
   "cell_type": "code",
   "execution_count": 331,
   "metadata": {
    "collapsed": true
   },
   "outputs": [],
   "source": [
    "avenatti_3 = []\n",
    "for tweet in df_3['Tweet']:\n",
    "    if 'avenatti' in tweet:\n",
    "        avenatti_3.append(tweet)"
   ]
  },
  {
   "cell_type": "code",
   "execution_count": 332,
   "metadata": {
    "collapsed": true
   },
   "outputs": [],
   "source": [
    "avenatti_sents3 = []\n",
    "for sentiment in avenatti_3:\n",
    "    vs = analyzer.polarity_scores(sentiment)\n",
    "    avenatti_sents3.append(vs['compound'])"
   ]
  },
  {
   "cell_type": "code",
   "execution_count": 333,
   "metadata": {
    "collapsed": true
   },
   "outputs": [],
   "source": [
    "avenatti_mean3 = np.mean(avenatti_sents3)"
   ]
  },
  {
   "cell_type": "code",
   "execution_count": 338,
   "metadata": {
    "collapsed": true
   },
   "outputs": [],
   "source": [
    "ave_x = ['Group 0','Group 1','Group 3']\n",
    "ave_y = [avenatti_mean0,avenatti_mean1,avenatti_mean3]"
   ]
  },
  {
   "cell_type": "code",
   "execution_count": 339,
   "metadata": {},
   "outputs": [
    {
     "data": {
      "text/plain": [
       "Text(0.5, 1.0, 'Sentiment towards Michael Avenatti')"
      ]
     },
     "execution_count": 339,
     "metadata": {},
     "output_type": "execute_result"
    },
    {
     "data": {
      "image/png": "[encoded data removed]",
      "text/plain": [
       "<Figure size 432x288 with 1 Axes>"
      ]
     },
     "metadata": {},
     "output_type": "display_data"
    }
   ],
   "source": [
    "plt.bar(ave_x,ave_y)\n",
    "plt.title('Sentiment towards Michael Avenatti')"
   ]
  },
  {
   "cell_type": "code",
   "execution_count": 341,
   "metadata": {},
   "outputs": [
    {
     "data": {
      "text/plain": [
       "-0.8587319105691058"
      ]
     },
     "execution_count": 341,
     "metadata": {},
     "output_type": "execute_result"
    }
   ],
   "source": [
    "total_avenatti = avenatti_mean0 + avenatti_mean1 + avenatti_mean3\n",
    "np.mean(total_avenatti)"
   ]
  },
  {
   "cell_type": "markdown",
   "metadata": {},
   "source": [
    "It is no surprise that the sentiment towards Michael Avenatti is extremely negative, as he was recently arrested for domestic abuse charges against his ex-wife.  Twitter users are not happy about his recent actions."
   ]
  },
  {
   "cell_type": "markdown",
   "metadata": {},
   "source": [
    "### 5.Stacey Abrams"
   ]
  },
  {
   "cell_type": "code",
   "execution_count": 342,
   "metadata": {
    "collapsed": true
   },
   "outputs": [],
   "source": [
    "abrams_0 = []\n",
    "for tweet in df_0['Tweet']:\n",
    "    if 'abrams' in tweet:\n",
    "        abrams_0.append(tweet)"
   ]
  },
  {
   "cell_type": "code",
   "execution_count": 343,
   "metadata": {
    "collapsed": true
   },
   "outputs": [],
   "source": [
    "abrams_sents0 = []\n",
    "for sentiment in abrams_0:\n",
    "    vs = analyzer.polarity_scores(sentiment)\n",
    "    abrams_sents0.append(vs['compound'])"
   ]
  },
  {
   "cell_type": "code",
   "execution_count": 344,
   "metadata": {
    "collapsed": true
   },
   "outputs": [],
   "source": [
    "abrams_mean0 = np.mean(abrams_sents0)"
   ]
  },
  {
   "cell_type": "code",
   "execution_count": 345,
   "metadata": {
    "collapsed": true
   },
   "outputs": [],
   "source": [
    "abrams_1 = []\n",
    "for tweet in df_1['Tweet']:\n",
    "    if 'abrams' in tweet:\n",
    "        abrams_1.append(tweet)"
   ]
  },
  {
   "cell_type": "code",
   "execution_count": 346,
   "metadata": {
    "collapsed": true
   },
   "outputs": [],
   "source": [
    "abrams_sents1 = []\n",
    "for sentiment in abrams_1:\n",
    "    vs = analyzer.polarity_scores(sentiment)\n",
    "    abrams_sents1.append(vs['compound'])"
   ]
  },
  {
   "cell_type": "code",
   "execution_count": 347,
   "metadata": {
    "collapsed": true
   },
   "outputs": [],
   "source": [
    "abrams_mean1 = np.mean(abrams_sents1)"
   ]
  },
  {
   "cell_type": "code",
   "execution_count": 348,
   "metadata": {
    "collapsed": true
   },
   "outputs": [],
   "source": [
    "abrams_3 = []\n",
    "for tweet in df_3['Tweet']:\n",
    "    if 'abrams' in tweet:\n",
    "        abrams_3.append(tweet)"
   ]
  },
  {
   "cell_type": "code",
   "execution_count": 349,
   "metadata": {
    "collapsed": true
   },
   "outputs": [],
   "source": [
    "abrams_sents3 = []\n",
    "for sentiment in abrams_3:\n",
    "    vs = analyzer.polarity_scores(sentiment)\n",
    "    abrams_sents3.append(vs['compound'])"
   ]
  },
  {
   "cell_type": "code",
   "execution_count": 350,
   "metadata": {
    "collapsed": true
   },
   "outputs": [],
   "source": [
    "abrams_mean3 = np.mean(abrams_sents3)"
   ]
  },
  {
   "cell_type": "code",
   "execution_count": 354,
   "metadata": {
    "collapsed": true
   },
   "outputs": [],
   "source": [
    "abrams_x = ['Group 0','Group 1','Group 3']\n",
    "abrams_y = [abrams_mean0,abrams_mean1,abrams_mean3]"
   ]
  },
  {
   "cell_type": "code",
   "execution_count": 355,
   "metadata": {},
   "outputs": [
    {
     "data": {
      "text/plain": [
       "Text(0.5, 1.0, 'Sentiment towards Stacey Abrams')"
      ]
     },
     "execution_count": 355,
     "metadata": {},
     "output_type": "execute_result"
    },
    {
     "data": {
      "image/png": "[encoded data removed]",
      "text/plain": [
       "<Figure size 432x288 with 1 Axes>"
      ]
     },
     "metadata": {},
     "output_type": "display_data"
    }
   ],
   "source": [
    "plt.bar(abrams_x,abrams_y)\n",
    "plt.title('Sentiment towards Stacey Abrams')"
   ]
  },
  {
   "cell_type": "code",
   "execution_count": 357,
   "metadata": {},
   "outputs": [
    {
     "data": {
      "text/plain": [
       "-0.045552"
      ]
     },
     "execution_count": 357,
     "metadata": {},
     "output_type": "execute_result"
    }
   ],
   "source": [
    "total_abrams = abrams_sents0 + abrams_sents1 + abrams_sents3\n",
    "np.mean(total_abrams)"
   ]
  },
  {
   "cell_type": "markdown",
   "metadata": {},
   "source": [
    "Overall, the sentiment towards is bordering on negative.  The story for her consists of being defeated in the Georgia governor's race, yet she announced that she not conceding nor accepting defeat.  it makes sense that most users feel slightly negative about her speech."
   ]
  },
  {
   "cell_type": "markdown",
   "metadata": {},
   "source": [
    "Ultimately, it would been nice to extract some more meaningful information from these models, but their were several limitations that hindered the performance of the modeling.  Many of the tweets were pertaining to the subject of Jim Acosta, rather than getting insight about many different subjects.\n",
    "\n",
    "Although the results are hardly satisfying, this workflow can be used across many different domains to take away some meaningful insights.\n",
    "\n",
    "Just to clarify the steps of the process, I used Tweepy to stream about 20,000 tweets containing the key words CNN, Fox News, Economist, and Wall street Journal.  Then, I cleaned and standardized the tweets in order to utilize them as effectively as possible.  Next, I dove into some topic modeling with LDA, and some context toping modeling with Word2Vec.  This allowed me to learn about the main topics and trends that users were consistently talking about.  Once I learned this information, I used a couple clustering methods to separate the tweets into unique clusters.  Finally, I did some sentiment analysis on these main topics, and compared these sentiments across different clusters, to see how positive or negative users feelings are towards these popular talking points.\n",
    "\n",
    "This analysis can be expanded by looking into the reasoning behind the difference in sentiments among unique groups."
   ]
  },
  {
   "cell_type": "code",
   "execution_count": null,
   "metadata": {
    "collapsed": true
   },
   "outputs": [],
   "source": []
  }
 ],
 "metadata": {
  "kernelspec": {
   "display_name": "Python 3",
   "language": "python",
   "name": "python3"
  },
  "language_info": {
   "codemirror_mode": {
    "name": "ipython",
    "version": 3
   },
   "file_extension": ".py",
   "mimetype": "text/x-python",
   "name": "python",
   "nbconvert_exporter": "python",
   "pygments_lexer": "ipython3",
   "version": "3.6.3"
  }
 },
 "nbformat": 4,
 "nbformat_minor": 2
}
